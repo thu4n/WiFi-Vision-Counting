{
  "cells": [
    {
      "cell_type": "markdown",
      "source": [
        "## Prep"
      ],
      "metadata": {
        "id": "R1Xd8tXJuv0N"
      }
    },
    {
      "cell_type": "code",
      "source": [
        "!pip install hampel"
      ],
      "metadata": {
        "colab": {
          "base_uri": "https://localhost:8080/"
        },
        "id": "k1m8FAaGvruw",
        "outputId": "bd2de2db-80aa-4c02-f541-fe7a084361a4"
      },
      "execution_count": 1,
      "outputs": [
        {
          "output_type": "stream",
          "name": "stdout",
          "text": [
            "Collecting hampel\n",
            "  Downloading hampel-1.0.2.tar.gz (78 kB)\n",
            "\u001b[?25l     \u001b[90m━━━━━━━━━━━━━━━━━━━━━━━━━━━━━━━━━━━━━━━━\u001b[0m \u001b[32m0.0/78.7 kB\u001b[0m \u001b[31m?\u001b[0m eta \u001b[36m-:--:--\u001b[0m\r\u001b[2K     \u001b[91m━━━━━━━━━━━━━━━━━━━━━━━━━━━━━━━━━━━━\u001b[0m\u001b[90m╺\u001b[0m\u001b[90m━━━\u001b[0m \u001b[32m71.7/78.7 kB\u001b[0m \u001b[31m4.0 MB/s\u001b[0m eta \u001b[36m0:00:01\u001b[0m\r\u001b[2K     \u001b[90m━━━━━━━━━━━━━━━━━━━━━━━━━━━━━━━━━━━━━━━━\u001b[0m \u001b[32m78.7/78.7 kB\u001b[0m \u001b[31m1.2 MB/s\u001b[0m eta \u001b[36m0:00:00\u001b[0m\n",
            "\u001b[?25h  Installing build dependencies ... \u001b[?25l\u001b[?25hdone\n",
            "  Getting requirements to build wheel ... \u001b[?25l\u001b[?25hdone\n",
            "  Preparing metadata (pyproject.toml) ... \u001b[?25l\u001b[?25hdone\n",
            "Requirement already satisfied: numpy>=1.17.3 in /usr/local/lib/python3.10/dist-packages (from hampel) (1.26.4)\n",
            "Requirement already satisfied: pandas in /usr/local/lib/python3.10/dist-packages (from hampel) (2.2.2)\n",
            "Requirement already satisfied: python-dateutil>=2.8.2 in /usr/local/lib/python3.10/dist-packages (from pandas->hampel) (2.8.2)\n",
            "Requirement already satisfied: pytz>=2020.1 in /usr/local/lib/python3.10/dist-packages (from pandas->hampel) (2024.2)\n",
            "Requirement already satisfied: tzdata>=2022.7 in /usr/local/lib/python3.10/dist-packages (from pandas->hampel) (2024.2)\n",
            "Requirement already satisfied: six>=1.5 in /usr/local/lib/python3.10/dist-packages (from python-dateutil>=2.8.2->pandas->hampel) (1.16.0)\n",
            "Building wheels for collected packages: hampel\n",
            "  Building wheel for hampel (pyproject.toml) ... \u001b[?25l\u001b[?25hdone\n",
            "  Created wheel for hampel: filename=hampel-1.0.2-cp310-cp310-linux_x86_64.whl size=208988 sha256=2b06054604a14013e2ac3355a1879856aef2a7f5d892b7cfa203b0f3a1ec6719\n",
            "  Stored in directory: /root/.cache/pip/wheels/0e/c3/3c/8a9f55c3de0b09faf919393d4c6f09b11b7421dcaa7243b820\n",
            "Successfully built hampel\n",
            "Installing collected packages: hampel\n",
            "Successfully installed hampel-1.0.2\n"
          ]
        }
      ]
    },
    {
      "cell_type": "code",
      "execution_count": 2,
      "metadata": {
        "id": "2oSiAuAumncs"
      },
      "outputs": [],
      "source": [
        "import os\n",
        "import joblib\n",
        "import cv2\n",
        "import time\n",
        "import argparse\n",
        "import csv\n",
        "import torch\n",
        "import torch.nn as nn\n",
        "import torch.nn.functional as F\n",
        "import numpy as np\n",
        "import torchvision\n",
        "import pandas as pd\n",
        "from scipy.signal import savgol_filter\n",
        "from hampel import hampel\n",
        "import tensorflow as tf\n",
        "from tensorflow.keras.models import load_model\n",
        "import matplotlib.pyplot as plt\n",
        "from sklearn.preprocessing import StandardScaler\n",
        "from sklearn.impute import SimpleImputer\n",
        "from sklearn.metrics import mean_absolute_error"
      ]
    },
    {
      "cell_type": "code",
      "source": [
        "from google.colab import drive\n",
        "drive.mount('/content/drive')"
      ],
      "metadata": {
        "colab": {
          "base_uri": "https://localhost:8080/"
        },
        "id": "cvoSSPDwn86R",
        "outputId": "2ba3e3a0-79a0-437c-a964-c313f631bd69"
      },
      "execution_count": 3,
      "outputs": [
        {
          "output_type": "stream",
          "name": "stdout",
          "text": [
            "Mounted at /content/drive\n"
          ]
        }
      ]
    },
    {
      "cell_type": "markdown",
      "source": [
        "## Computer Vision section"
      ],
      "metadata": {
        "id": "N1cwSM1wux7x"
      }
    },
    {
      "cell_type": "code",
      "execution_count": 4,
      "metadata": {
        "id": "wiDxO8gKmnct"
      },
      "outputs": [],
      "source": [
        "class DWConvblock(nn.Module):\n",
        "    def __init__(self, input_channels, output_channels, size):\n",
        "        super(DWConvblock, self).__init__()\n",
        "        self.size = size\n",
        "        self.input_channels = input_channels\n",
        "        self.output_channels = output_channels\n",
        "\n",
        "        self.block =  nn.Sequential(nn.Conv2d(output_channels, output_channels, size, 1, 2, groups = output_channels, bias = False),\n",
        "                                    nn.BatchNorm2d(output_channels),\n",
        "                                    nn.ReLU(inplace=True),\n",
        "\n",
        "                                    nn.Conv2d(output_channels, output_channels, 1, 1, 0, bias = False),\n",
        "                                    nn.BatchNorm2d(output_channels),\n",
        "\n",
        "                                    nn.Conv2d(output_channels, output_channels, size, 1, 2, groups = output_channels, bias = False),\n",
        "                                    nn.BatchNorm2d(output_channels ),\n",
        "                                    nn.ReLU(inplace=True),\n",
        "\n",
        "                                    nn.Conv2d(output_channels, output_channels, 1, 1, 0, bias = False),\n",
        "                                    nn.BatchNorm2d(output_channels),\n",
        "                                    )\n",
        "\n",
        "    def forward(self, x):\n",
        "        x = self.block(x)\n",
        "        return x\n",
        "\n",
        "class LightFPN(nn.Module):\n",
        "    def __init__(self, input2_depth, input3_depth, out_depth):\n",
        "        super(LightFPN, self).__init__()\n",
        "\n",
        "        self.conv1x1_2 = nn.Sequential(nn.Conv2d(input2_depth, out_depth, 1, 1, 0, bias = False),\n",
        "                                       nn.BatchNorm2d(out_depth),\n",
        "                                       nn.ReLU(inplace=True)\n",
        "                                       )\n",
        "\n",
        "        self.conv1x1_3 = nn.Sequential(nn.Conv2d(input3_depth, out_depth, 1, 1, 0, bias = False),\n",
        "                                       nn.BatchNorm2d(out_depth),\n",
        "                                       nn.ReLU(inplace=True)\n",
        "                                       )\n",
        "\n",
        "        self.cls_head_2 = DWConvblock(input2_depth, out_depth, 5)\n",
        "        self.reg_head_2 = DWConvblock(input2_depth, out_depth, 5)\n",
        "\n",
        "        self.reg_head_3 = DWConvblock(input3_depth, out_depth, 5)\n",
        "        self.cls_head_3 = DWConvblock(input3_depth, out_depth, 5)\n",
        "\n",
        "    def forward(self, C2, C3):\n",
        "        S3 = self.conv1x1_3(C3)\n",
        "        cls_3 = self.cls_head_3(S3)\n",
        "        obj_3 = cls_3\n",
        "        reg_3 = self.reg_head_3(S3)\n",
        "\n",
        "        P2 = F.interpolate(C3, scale_factor=2)\n",
        "        P2 = torch.cat((P2, C2),1)\n",
        "        S2 = self.conv1x1_2(P2)\n",
        "        cls_2 = self.cls_head_2(S2)\n",
        "        obj_2 = cls_2\n",
        "        reg_2 = self.reg_head_2(S2)\n",
        "\n",
        "        return  cls_2, obj_2, reg_2, cls_3, obj_3, reg_3\n",
        "\n",
        "class ShuffleV2Block(nn.Module):\n",
        "    def __init__(self, inp, oup, mid_channels, *, ksize, stride):\n",
        "        super(ShuffleV2Block, self).__init__()\n",
        "        self.stride = stride\n",
        "        assert stride in [1, 2]\n",
        "\n",
        "        self.mid_channels = mid_channels\n",
        "        self.ksize = ksize\n",
        "        pad = ksize // 2\n",
        "        self.pad = pad\n",
        "        self.inp = inp\n",
        "\n",
        "        outputs = oup - inp\n",
        "\n",
        "        branch_main = [\n",
        "            # pw\n",
        "            nn.Conv2d(inp, mid_channels, 1, 1, 0, bias=False),\n",
        "            nn.BatchNorm2d(mid_channels),\n",
        "            nn.ReLU(inplace=True),\n",
        "            # dw\n",
        "            nn.Conv2d(mid_channels, mid_channels, ksize, stride, pad, groups=mid_channels, bias=False),\n",
        "            nn.BatchNorm2d(mid_channels),\n",
        "            # pw-linear\n",
        "            nn.Conv2d(mid_channels, outputs, 1, 1, 0, bias=False),\n",
        "            nn.BatchNorm2d(outputs),\n",
        "            nn.ReLU(inplace=True),\n",
        "        ]\n",
        "        self.branch_main = nn.Sequential(*branch_main)\n",
        "\n",
        "        if stride == 2:\n",
        "            branch_proj = [\n",
        "                # dw\n",
        "                nn.Conv2d(inp, inp, ksize, stride, pad, groups=inp, bias=False),\n",
        "                nn.BatchNorm2d(inp),\n",
        "                # pw-linear\n",
        "                nn.Conv2d(inp, inp, 1, 1, 0, bias=False),\n",
        "                nn.BatchNorm2d(inp),\n",
        "                nn.ReLU(inplace=True),\n",
        "            ]\n",
        "            self.branch_proj = nn.Sequential(*branch_proj)\n",
        "        else:\n",
        "            self.branch_proj = None\n",
        "\n",
        "    def forward(self, old_x):\n",
        "        if self.stride==1:\n",
        "            x_proj, x = self.channel_shuffle(old_x)\n",
        "            return torch.cat((x_proj, self.branch_main(x)), 1)\n",
        "        elif self.stride==2:\n",
        "            x_proj = old_x\n",
        "            x = old_x\n",
        "            return torch.cat((self.branch_proj(x_proj), self.branch_main(x)), 1)\n",
        "\n",
        "    def channel_shuffle(self, x):\n",
        "        batchsize, num_channels, height, width = x.data.size()\n",
        "        assert (num_channels % 4 == 0)\n",
        "        x = x.reshape(batchsize * num_channels // 2, 2, height * width)\n",
        "        x = x.permute(1, 0, 2)\n",
        "        x = x.reshape(2, -1, num_channels // 2, height, width)\n",
        "        return x[0], x[1]\n",
        "\n",
        "class ShuffleNetV2(nn.Module):\n",
        "    def __init__(self, stage_out_channels, load_param):\n",
        "        super(ShuffleNetV2, self).__init__()\n",
        "\n",
        "        self.stage_repeats = [4, 8, 4]\n",
        "        self.stage_out_channels = stage_out_channels\n",
        "\n",
        "        # building first layer\n",
        "        input_channel = self.stage_out_channels[1]\n",
        "        self.first_conv = nn.Sequential(\n",
        "            nn.Conv2d(3, input_channel, 3, 2, 1, bias=False),\n",
        "            nn.BatchNorm2d(input_channel),\n",
        "            nn.ReLU(inplace=True),\n",
        "        )\n",
        "\n",
        "        self.maxpool = nn.MaxPool2d(kernel_size=3, stride=2, padding=1)\n",
        "\n",
        "        stage_names = [\"stage2\", \"stage3\", \"stage4\"]\n",
        "        for idxstage in range(len(self.stage_repeats)):\n",
        "            numrepeat = self.stage_repeats[idxstage]\n",
        "            output_channel = self.stage_out_channels[idxstage+2]\n",
        "            stageSeq = []\n",
        "            for i in range(numrepeat):\n",
        "                if i == 0:\n",
        "                    stageSeq.append(ShuffleV2Block(input_channel, output_channel,\n",
        "                                                mid_channels=output_channel // 2, ksize=3, stride=2))\n",
        "                else:\n",
        "                    stageSeq.append(ShuffleV2Block(input_channel // 2, output_channel,\n",
        "                                                mid_channels=output_channel // 2, ksize=3, stride=1))\n",
        "                input_channel = output_channel\n",
        "            setattr(self, stage_names[idxstage], nn.Sequential(*stageSeq))\n",
        "\n",
        "        if load_param == False:\n",
        "            self._initialize_weights()\n",
        "        else:\n",
        "            print(\"load param...\")\n",
        "\n",
        "    def forward(self, x):\n",
        "        x = self.first_conv(x)\n",
        "        x = self.maxpool(x)\n",
        "        C1 = self.stage2(x)\n",
        "        C2 = self.stage3(C1)\n",
        "        C3 = self.stage4(C2)\n",
        "\n",
        "        return C2, C3\n",
        "\n",
        "    def _initialize_weights(self):\n",
        "        print(\"initialize_weights...\")\n",
        "        device = torch.device(\"cuda\" if torch.cuda.is_available() else \"cpu\")\n",
        "        self.load_state_dict(torch.load(\"./backbone.pth\", map_location=device), strict = True)\n",
        "\n",
        "class Detector(nn.Module):\n",
        "    def __init__(self, classes, anchor_num, load_param, export_onnx = False):\n",
        "        super(Detector, self).__init__()\n",
        "        out_depth = 72\n",
        "        stage_out_channels = [-1, 24, 48, 96, 192]\n",
        "\n",
        "        self.export_onnx = export_onnx\n",
        "        self.backbone = ShuffleNetV2(stage_out_channels, load_param)\n",
        "        self.fpn = LightFPN(stage_out_channels[-2] + stage_out_channels[-1], stage_out_channels[-1], out_depth)\n",
        "\n",
        "        self.output_reg_layers = nn.Conv2d(out_depth, 4 * anchor_num, 1, 1, 0, bias=True)\n",
        "        self.output_obj_layers = nn.Conv2d(out_depth, anchor_num, 1, 1, 0, bias=True)\n",
        "        self.output_cls_layers = nn.Conv2d(out_depth, classes, 1, 1, 0, bias=True)\n",
        "\n",
        "    def forward(self, x):\n",
        "        C2, C3 = self.backbone(x)\n",
        "        cls_2, obj_2, reg_2, cls_3, obj_3, reg_3 = self.fpn(C2, C3)\n",
        "\n",
        "        out_reg_2 = self.output_reg_layers(reg_2)\n",
        "        out_obj_2 = self.output_obj_layers(obj_2)\n",
        "        out_cls_2 = self.output_cls_layers(cls_2)\n",
        "\n",
        "        out_reg_3 = self.output_reg_layers(reg_3)\n",
        "        out_obj_3 = self.output_obj_layers(obj_3)\n",
        "        out_cls_3 = self.output_cls_layers(cls_3)\n",
        "\n",
        "        if self.export_onnx:\n",
        "            out_reg_2 = out_reg_2.sigmoid()\n",
        "            out_obj_2 = out_obj_2.sigmoid()\n",
        "            out_cls_2 = F.softmax(out_cls_2, dim = 1)\n",
        "\n",
        "            out_reg_3 = out_reg_3.sigmoid()\n",
        "            out_obj_3 = out_obj_3.sigmoid()\n",
        "            out_cls_3 = F.softmax(out_cls_3, dim = 1)\n",
        "\n",
        "            print(\"export onnx ...\")\n",
        "            return torch.cat((out_reg_2, out_obj_2, out_cls_2), 1).permute(0, 2, 3, 1), \\\n",
        "                   torch.cat((out_reg_3, out_obj_3, out_cls_3), 1).permute(0, 2, 3, 1)\n",
        "\n",
        "        else:\n",
        "            return out_reg_2, out_obj_2, out_cls_2, out_reg_3, out_obj_3, out_cls_3\n"
      ]
    },
    {
      "cell_type": "code",
      "execution_count": 5,
      "metadata": {
        "id": "fNeGPh6Qmncv"
      },
      "outputs": [],
      "source": [
        "def make_grid(h, w, device):\n",
        "    hv, wv = torch.meshgrid([torch.arange(h), torch.arange(w)])\n",
        "    return torch.stack((wv, hv), 2).repeat(1,1,3).reshape(h, w, 3, -1).to(device)\n",
        "\n",
        "def handel_preds(preds, device):\n",
        "    #加载anchor配置\n",
        "    # anchors = np.array(cfg[\"anchors\"])\n",
        "    anchors = np.array([31.67,166.38, 46.77,209.52, 63.65,253.63, 83.14,292.26, 105.64,333.59, 138.17,346.51])\n",
        "    anchors = torch.from_numpy(anchors.reshape(len(preds) // 3, 3, 2)).to(device)\n",
        "\n",
        "    output_bboxes = []\n",
        "    layer_index = [0, 0, 0, 1, 1, 1]\n",
        "\n",
        "    for i in range(len(preds) // 3):\n",
        "        bacth_bboxes = []\n",
        "        reg_preds = preds[i * 3]\n",
        "        obj_preds = preds[(i * 3) + 1]\n",
        "        cls_preds = preds[(i * 3) + 2]\n",
        "\n",
        "        for r, o, c in zip(reg_preds, obj_preds, cls_preds):\n",
        "            r = r.permute(1, 2, 0)\n",
        "            r = r.reshape(r.shape[0], r.shape[1], 3, -1)\n",
        "\n",
        "            o = o.permute(1, 2, 0)\n",
        "            o = o.reshape(o.shape[0], o.shape[1], 3, -1)\n",
        "\n",
        "            c = c.permute(1, 2, 0)\n",
        "            c = c.reshape(c.shape[0],c.shape[1], 1, c.shape[2])\n",
        "            c = c.repeat(1, 1, 3, 1)\n",
        "\n",
        "            anchor_boxes = torch.zeros(r.shape[0], r.shape[1], r.shape[2], r.shape[3] + c.shape[3] + 1)\n",
        "\n",
        "            #计算anchor box的cx, cy\n",
        "            grid = make_grid(r.shape[0], r.shape[1], device)\n",
        "            stride = 352 /  r.shape[0]\n",
        "            anchor_boxes[:, :, :, :2] = ((r[:, :, :, :2].sigmoid() * 2. - 0.5) + grid) * stride\n",
        "\n",
        "            #计算anchor box的w, h\n",
        "            anchors_cfg = anchors[i]\n",
        "            anchor_boxes[:, :, :, 2:4] = (r[:, :, :, 2:4].sigmoid() * 2) ** 2 * anchors_cfg # wh\n",
        "\n",
        "            #计算obj分数\n",
        "            anchor_boxes[:, :, :, 4] = o[:, :, :, 0].sigmoid()\n",
        "\n",
        "            #计算cls分数\n",
        "            anchor_boxes[:, :, :, 5:] = F.softmax(c[:, :, :, :], dim = 3)\n",
        "\n",
        "            #torch tensor 转为 numpy array\n",
        "            anchor_boxes = anchor_boxes.cpu().detach().numpy()\n",
        "            bacth_bboxes.append(anchor_boxes)\n",
        "\n",
        "        #n, anchor num, h, w, box => n, (anchor num*h*w), box\n",
        "        bacth_bboxes = torch.from_numpy(np.array(bacth_bboxes))\n",
        "        bacth_bboxes = bacth_bboxes.view(bacth_bboxes.shape[0], -1, bacth_bboxes.shape[-1])\n",
        "\n",
        "        output_bboxes.append(bacth_bboxes)\n",
        "\n",
        "    #merge\n",
        "    output = torch.cat(output_bboxes, 1)\n",
        "\n",
        "    return output\n",
        "\n",
        "def xywh2xyxy(x):\n",
        "    # Convert nx4 boxes from [x, y, w, h] to [x1, y1, x2, y2] where xy1=top-left, xy2=bottom-right\n",
        "    y = torch.zeros_like(x) if isinstance(x, torch.Tensor) else np.zeros_like(x)\n",
        "    y[:, 0] = x[:, 0] - x[:, 2] / 2  # top left x\n",
        "    y[:, 1] = x[:, 1] - x[:, 3] / 2  # top left y\n",
        "    y[:, 2] = x[:, 0] + x[:, 2] / 2  # bottom right x\n",
        "    y[:, 3] = x[:, 1] + x[:, 3] / 2  # bottom right y\n",
        "    return y\n",
        "\n",
        "def non_max_suppression(prediction, conf_thres=0.3, iou_thres=0.45, classes=None):\n",
        "    \"\"\"Performs Non-Maximum Suppression (NMS) on inference results\n",
        "    Returns:\n",
        "         detections with shape: nx6 (x1, y1, x2, y2, conf, cls)\n",
        "    \"\"\"\n",
        "\n",
        "    nc = prediction.shape[2] - 5  # number of classes\n",
        "\n",
        "    # Settings\n",
        "    # (pixels) minimum and maximum box width and height\n",
        "    max_wh = 4096\n",
        "    max_det = 300  # maximum number of detections per image\n",
        "    max_nms = 30000  # maximum number of boxes into torchvision.ops.nms()\n",
        "    time_limit = 1.0  # seconds to quit after\n",
        "    multi_label = nc > 1  # multiple labels per box (adds 0.5ms/img)\n",
        "\n",
        "    t = time.time()\n",
        "    output = [torch.zeros((0, 6), device=\"cpu\")] * prediction.shape[0]\n",
        "\n",
        "    for xi, x in enumerate(prediction):  # image index, image inference\n",
        "        # Apply constraints\n",
        "        # x[((x[..., 2:4] < min_wh) | (x[..., 2:4] > max_wh)).any(1), 4] = 0  # width-height\n",
        "        x = x[x[..., 4] > conf_thres]  # confidence\n",
        "\n",
        "        # If none remain process next image\n",
        "        if not x.shape[0]:\n",
        "            continue\n",
        "\n",
        "        # Compute conf\n",
        "        x[:, 5:] *= x[:, 4:5]  # conf = obj_conf * cls_conf\n",
        "\n",
        "        # Box (center x, center y, width, height) to (x1, y1, x2, y2)\n",
        "        box = xywh2xyxy(x[:, :4])\n",
        "\n",
        "        # Detections matrix nx6 (xyxy, conf, cls)\n",
        "        conf, j = x[:, 5:].max(1, keepdim=True)\n",
        "        x = torch.cat((box, conf, j.float()), 1)[conf.view(-1) > conf_thres]\n",
        "\n",
        "        # Filter by class\n",
        "        if classes is not None:\n",
        "            x = x[(x[:, 5:6] == torch.tensor(classes, device=x.device)).any(1)]\n",
        "\n",
        "        # Check shape\n",
        "        n = x.shape[0]  # number of boxes\n",
        "        if not n:  # no boxes\n",
        "            continue\n",
        "        elif n > max_nms:  # excess boxes\n",
        "            # sort by confidence\n",
        "            x = x[x[:, 4].argsort(descending=True)[:max_nms]]\n",
        "\n",
        "        # Batched NMS\n",
        "        c = x[:, 5:6] * max_wh  # classes\n",
        "        # boxes (offset by class), scores\n",
        "        boxes, scores = x[:, :4] + c, x[:, 4]\n",
        "        i = torchvision.ops.nms(boxes, scores, iou_thres)  # NMS\n",
        "        if i.shape[0] > max_det:  # limit detections\n",
        "            i = i[:max_det]\n",
        "\n",
        "        output[xi] = x[i].detach().cpu()\n",
        "\n",
        "        if (time.time() - t) > time_limit:\n",
        "            print(f'WARNING: NMS time limit {time_limit}s exceeded')\n",
        "            break  # time limit exceeded\n",
        "\n",
        "    return output"
      ]
    },
    {
      "cell_type": "markdown",
      "source": [
        "## WiFi Section"
      ],
      "metadata": {
        "id": "OqTr1_hQvCe0"
      }
    },
    {
      "cell_type": "code",
      "source": [
        "class ESP32:\n",
        "    \"\"\"Parse ESP32 Wi-Fi Channel State Information (CSI) obtained using ESP32 CSI Toolkit by Hernandez and Bulut.\n",
        "    ESP32 CSI Toolkit: https://stevenmhernandez.github.io/ESP32-CSI-Tool/\n",
        "    \"\"\"\n",
        "\n",
        "    NULL_SUBCARRIERS = [0, 1, 2, 3, 4, 5, 6, 7, 8, 9, 10, 11, 64, 65, 118, 119, 120, 121, 122, 123, 124, 125, 126, 127, 128, 129, 130, 131, 246, 247, 248, 249, 250, 251, 252, 253, 254, 255, 256, 257, 258, 259, 260, 261, 262, 263, 264, 265, 266, 267, 382, 383]\n",
        "\n",
        "    def __init__(self, csi_file):\n",
        "        self.csi_file = csi_file\n",
        "        self.__read_file()\n",
        "\n",
        "    def __read_file(self):\n",
        "        \"\"\"Read RAW CSI file (.csv) using Pandas and return a Pandas dataframe\n",
        "        \"\"\"\n",
        "        self.csi_df = pd.read_csv(self.csi_file)\n",
        "\n",
        "    def seek_file(self):\n",
        "        \"\"\"Seek RAW CSI file\n",
        "        \"\"\"\n",
        "        return self.csi_df\n",
        "\n",
        "    def filter_by_sig_mode(self, sig_mode):\n",
        "        \"\"\"Filter CSI data by signal mode\n",
        "        Args:\n",
        "            sig_mode (int):\n",
        "            0 : Non - High Throughput Signals (non-HT)\n",
        "            1 : HIgh Throughput Signals (HT)\n",
        "        \"\"\"\n",
        "        self.csi_df = self.csi_df.loc[self.csi_df['sig_mode'] == sig_mode]\n",
        "        return self\n",
        "\n",
        "    def get_csi(self):\n",
        "        \"\"\"Read CSI string as Numpy array\n",
        "\n",
        "        The CSI data collected by ESP32 contains channel frequency responses (CFR) represented by two signed bytes (imaginary, real) for each sub-carriers index\n",
        "        The length (bytes) of the CSI sequency depends on the CFR type\n",
        "        CFR consist of legacy long training field (LLTF), high-throughput LTF (HT-LTF), and space- time block code HT-LTF (STBC-HT-LTF)\n",
        "        Ref: https://docs.espressif.com/projects/esp-idf/en/latest/esp32/api-guides/wifi.html#wi-fi-channel-state-information\n",
        "\n",
        "        NOTE: Not all 3 field may not be present (as represented in table and configuration)\n",
        "        \"\"\"\n",
        "        raw_csi_data = self.csi_df['CSI_DATA'].copy()\n",
        "        csi_data = np.array([np.fromstring(csi_datum.strip('[ ]'), dtype=int, sep = ' ') for csi_datum in raw_csi_data])\n",
        "        self.csi_data = csi_data\n",
        "        return self\n",
        "\n",
        "    # NOTE: Currently does not provide support for all signal subcarrier types\n",
        "    def remove_null_subcarriers(self):\n",
        "        \"\"\"Remove NULL subcarriers from CSI\n",
        "        \"\"\"\n",
        "\n",
        "        # Non-HT Signals (20 Mhz) - non STBC\n",
        "        if self.csi_data.shape[1] == 128:\n",
        "            remove_null_subcarriers = self.NULL_SUBCARRIERS[:24]\n",
        "        # HT Signals (40 Mhz) - non STBC\n",
        "        elif self.csi_data.shape[1] == 384:\n",
        "            remove_null_subcarriers = self.NULL_SUBCARRIERS\n",
        "        else:\n",
        "            return self\n",
        "\n",
        "        csi_data_T = self.csi_data.T\n",
        "        csi_data_T_clean = np.delete(csi_data_T, remove_null_subcarriers, 0)\n",
        "        csi_data_clean = csi_data_T_clean.T\n",
        "        self.csi_data = csi_data_clean\n",
        "\n",
        "        return self\n",
        "\n",
        "    def get_amplitude_from_csi(self):\n",
        "        \"\"\"Calculate the Amplitude (or Magnitude) from CSI\n",
        "        Ref: https://farside.ph.utexas.edu/teaching/315/Waveshtml/node88.html\n",
        "        \"\"\"\n",
        "        amplitude = np.array([np.sqrt(data[::2]**2 + data[1::2]**2) for data in self.csi_data])\n",
        "        self.amplitude = amplitude\n",
        "        return self\n",
        "\n",
        "    def get_phase_from_csi(self):\n",
        "        \"\"\"Calculate the Amplitude (or Magnitude) from CSI\n",
        "        Ref: https://farside.ph.utexas.edu/teaching/315/Waveshtml/node88.html\n",
        "        \"\"\"\n",
        "        phase = np.array([np.arctan2(data[::2], data[1::2]) for data in self.csi_data])\n",
        "        self.phase = phase\n",
        "        return self"
      ],
      "metadata": {
        "id": "Y_SRVG_fvG23"
      },
      "execution_count": 6,
      "outputs": []
    },
    {
      "cell_type": "code",
      "source": [
        "def segment_data(data, window_size=200, overlap=50):\n",
        "    segmented_data = []\n",
        "    for i in range(0, data.shape[0] - window_size + 1, window_size - overlap):\n",
        "        window = data[i:i+window_size] if data.ndim == 1 else data[i:i+window_size, :]\n",
        "        segmented_data.append(window)\n",
        "    return segmented_data\n",
        "\n",
        "def extract_amplitude(raw_data):\n",
        "    csi_array = (\n",
        "        ESP32(raw_data)\n",
        "            .get_csi()\n",
        "            .remove_null_subcarriers()\n",
        "            .get_amplitude_from_csi()\n",
        "    )\n",
        "    amp_df = pd.DataFrame(csi_array.amplitude, index=None)\n",
        "    return amp_df\n",
        "\n",
        "def denoise_data(amp_df):\n",
        "    filtered_df = pd.DataFrame()\n",
        "    for col in amp_df.columns:\n",
        "        col_series = amp_df[col]\n",
        "        # Hampel filter\n",
        "        hampel_filtered = hampel(col_series, window_size=10)\n",
        "        # Savitzky-Golay filter\n",
        "        sg_filtered = savgol_filter(hampel_filtered.filtered_data, window_length=10, polyorder=3)\n",
        "        filtered_df[col] = sg_filtered\n",
        "    return filtered_df\n",
        "\n",
        "def extract_features(filtered_df_with_rssi):\n",
        "    \"\"\"\n",
        "    Args:\n",
        "        filtered_df_with_rssi: numpy array containing CSI amplitude data (shape: [packets, subcarriers])\n",
        "\n",
        "    Returns:\n",
        "        A dictionary containing the calculated statistics.\n",
        "    \"\"\"\n",
        "    features = {}\n",
        "    for i in range(filtered_df_with_rssi.shape[1] - 1): # Loop through each subcarrier\n",
        "      features[f'std_subcarrier_{i}'] = np.std(filtered_df_with_rssi[:, i]) # Standard deviation\n",
        "      features[f'mean_subcarrier_{i}'] = np.mean(filtered_df_with_rssi[:, i]) # The average amplitude value\n",
        "      features[f'max_subcarrier_{i}'] = np.max(filtered_df_with_rssi[:, i])\n",
        "      features[f'min_subcarrier_{i}'] = np.min(filtered_df_with_rssi[:, i])\n",
        "      features[f'qtu_subcarrier_{i}'] = np.percentile(filtered_df_with_rssi[:, i], 75) # Upper quartile\n",
        "      features[f'qtl_subcarrier_{i}'] = np.percentile(filtered_df_with_rssi[:, i], 25) # Lower quartile\n",
        "      features[f'iqr_subcarrier_{i}'] = features[f'qtu_subcarrier_{i}'] - features[f'qtl_subcarrier_{i}']\n",
        "\n",
        "    for i in range(2, filtered_df_with_rssi.shape[1] - 3):  # Skip the first and last 2 subcarriers\n",
        "        num_cols = filtered_df_with_rssi.shape[1]\n",
        "        start_idx = max(0, i - 2)\n",
        "        end_idx = min(num_cols, i + 2 + 1)\n",
        "        adjacent_data = np.delete(filtered_df_with_rssi[:, start_idx:end_idx], i - start_idx, axis=1)\n",
        "        # Calculate the amplitude difference for the current subcarrier\n",
        "        amplitude_difference = np.sum(np.abs(adjacent_data - filtered_df_with_rssi[:, [i]]), axis=1)\n",
        "        features[f'adj_subcarrier_{i}'] = np.mean(amplitude_difference)\n",
        "\n",
        "    euclidean_distances = []\n",
        "    for i in range(1, filtered_df_with_rssi.shape[0]):  # Loop through packets starting from the second\n",
        "      distances = np.linalg.norm(filtered_df_with_rssi[i, :] - filtered_df_with_rssi[i-1, :], axis=0)\n",
        "      euclidean_distances.append(distances)\n",
        "\n",
        "    features['euc'] = np.median(euclidean_distances)\n",
        "    features = pd.DataFrame([features])\n",
        "    return features"
      ],
      "metadata": {
        "id": "plWMx7icwWXf"
      },
      "execution_count": 7,
      "outputs": []
    },
    {
      "cell_type": "markdown",
      "source": [
        "## WiFi-Vision Testing"
      ],
      "metadata": {
        "id": "sjd5xR1Fu6Rp"
      }
    },
    {
      "cell_type": "markdown",
      "source": [
        "### Load testing dataset"
      ],
      "metadata": {
        "id": "hncB2cjzx_gN"
      }
    },
    {
      "cell_type": "code",
      "source": [
        "def load_csi_data(csi_path):\n",
        "  csi_df = pd.read_csv(csi_path)\n",
        "  rssi_col = csi_df['rssi']\n",
        "  raw_amp = extract_amplitude(csi_path)\n",
        "  filtered_amp = denoise_data(raw_amp)\n",
        "\n",
        "  features_list = []\n",
        "  temp_df = filtered_amp.copy()\n",
        "  temp_np_array = np.array(temp_df) # Turn into numpy array for easier matrix calculation\n",
        "  segments = segment_data(temp_np_array)\n",
        "  print(f\"There are {len(segments)} segments to extract\")\n",
        "\n",
        "  for segment in segments:\n",
        "    features = extract_features(segment)\n",
        "    features_list.append(features)\n",
        "\n",
        "  features_df = pd.concat(features_list, ignore_index=True)\n",
        "\n",
        "  scaler = joblib.load('/content/drive/MyDrive/UIT/UIT_Graduation_Thesis/Models/1611_scaler_fold_2.pkl')\n",
        "  csi_dataset = scaler.transform(features_df)\n",
        "  return csi_dataset"
      ],
      "metadata": {
        "id": "nxuKNc4LyvTy"
      },
      "execution_count": 14,
      "outputs": []
    },
    {
      "cell_type": "code",
      "source": [
        "def load_img_data(img_path):\n",
        "  image_filenames = os.listdir(img_path)\n",
        "  # Extract timestamps from filenames and sort them\n",
        "  timestamps = []\n",
        "\n",
        "  for filename in image_filenames:\n",
        "    timestamp_str = filename.replace(\"frame_\", \"\").replace(\".jpg\", \"\")\n",
        "    timestamps.append(float(timestamp_str))\n",
        "\n",
        "  timestamps = sorted(timestamps)\n",
        "  # Select images with a 2-second interval\n",
        "  selected_timestamps = []\n",
        "  previous_timestamp = None\n",
        "  for timestamp in timestamps:\n",
        "      if previous_timestamp is None or timestamp - previous_timestamp >= 2:\n",
        "          selected_timestamps.append(timestamp)\n",
        "          previous_timestamp = timestamp\n",
        "  print(len(selected_timestamps))\n",
        "  return selected_timestamps"
      ],
      "metadata": {
        "id": "RFRMToRxx-1-"
      },
      "execution_count": 9,
      "outputs": []
    },
    {
      "cell_type": "markdown",
      "source": [
        "### Load models"
      ],
      "metadata": {
        "id": "OBoUSjdLzxw8"
      }
    },
    {
      "cell_type": "code",
      "source": [
        "def load_csi_model(csi_model_path):\n",
        "  csi_model = tf.keras.models.load_model(csi_model_path)\n",
        "  print(csi_model.summary())\n",
        "  return csi_model"
      ],
      "metadata": {
        "id": "AbfG5RDOz1fb"
      },
      "execution_count": 10,
      "outputs": []
    },
    {
      "cell_type": "code",
      "source": [
        "def load_cv_model(weights_path, device):\n",
        "  # Load the model\n",
        "  cv_model = Detector(80, 3, True).to(device)\n",
        "  cv_model.load_state_dict(torch.load(weights_path, map_location=device))\n",
        "  cv_model.eval()\n",
        "  print(cv_model)\n",
        "  return cv_model"
      ],
      "metadata": {
        "id": "5E_8L0xx0mPp"
      },
      "execution_count": 16,
      "outputs": []
    },
    {
      "cell_type": "code",
      "source": [
        "csi_model = load_csi_model('/content/drive/MyDrive/UIT/UIT_Graduation_Thesis/Models/1611_model_fold_2.keras')"
      ],
      "metadata": {
        "colab": {
          "base_uri": "https://localhost:8080/",
          "height": 387
        },
        "id": "V-vCJuzg5_IE",
        "outputId": "872eca41-597a-4c31-c17f-228346b2c7ac"
      },
      "execution_count": 13,
      "outputs": [
        {
          "output_type": "display_data",
          "data": {
            "text/plain": [
              "\u001b[1mModel: \"sequential_1\"\u001b[0m\n"
            ],
            "text/html": [
              "<pre style=\"white-space:pre;overflow-x:auto;line-height:normal;font-family:Menlo,'DejaVu Sans Mono',consolas,'Courier New',monospace\"><span style=\"font-weight: bold\">Model: \"sequential_1\"</span>\n",
              "</pre>\n"
            ]
          },
          "metadata": {}
        },
        {
          "output_type": "display_data",
          "data": {
            "text/plain": [
              "┏━━━━━━━━━━━━━━━━━━━━━━━━━━━━━━━━━━━━━━┳━━━━━━━━━━━━━━━━━━━━━━━━━━━━━┳━━━━━━━━━━━━━━━━━┓\n",
              "┃\u001b[1m \u001b[0m\u001b[1mLayer (type)                        \u001b[0m\u001b[1m \u001b[0m┃\u001b[1m \u001b[0m\u001b[1mOutput Shape               \u001b[0m\u001b[1m \u001b[0m┃\u001b[1m \u001b[0m\u001b[1m        Param #\u001b[0m\u001b[1m \u001b[0m┃\n",
              "┡━━━━━━━━━━━━━━━━━━━━━━━━━━━━━━━━━━━━━━╇━━━━━━━━━━━━━━━━━━━━━━━━━━━━━╇━━━━━━━━━━━━━━━━━┩\n",
              "│ dense_5 (\u001b[38;5;33mDense\u001b[0m)                      │ (\u001b[38;5;45mNone\u001b[0m, \u001b[38;5;34m1000\u001b[0m)                │         \u001b[38;5;34m406,000\u001b[0m │\n",
              "├──────────────────────────────────────┼─────────────────────────────┼─────────────────┤\n",
              "│ dense_6 (\u001b[38;5;33mDense\u001b[0m)                      │ (\u001b[38;5;45mNone\u001b[0m, \u001b[38;5;34m500\u001b[0m)                 │         \u001b[38;5;34m500,500\u001b[0m │\n",
              "├──────────────────────────────────────┼─────────────────────────────┼─────────────────┤\n",
              "│ dropout_2 (\u001b[38;5;33mDropout\u001b[0m)                  │ (\u001b[38;5;45mNone\u001b[0m, \u001b[38;5;34m500\u001b[0m)                 │               \u001b[38;5;34m0\u001b[0m │\n",
              "├──────────────────────────────────────┼─────────────────────────────┼─────────────────┤\n",
              "│ dense_7 (\u001b[38;5;33mDense\u001b[0m)                      │ (\u001b[38;5;45mNone\u001b[0m, \u001b[38;5;34m100\u001b[0m)                 │          \u001b[38;5;34m50,100\u001b[0m │\n",
              "├──────────────────────────────────────┼─────────────────────────────┼─────────────────┤\n",
              "│ dropout_3 (\u001b[38;5;33mDropout\u001b[0m)                  │ (\u001b[38;5;45mNone\u001b[0m, \u001b[38;5;34m100\u001b[0m)                 │               \u001b[38;5;34m0\u001b[0m │\n",
              "├──────────────────────────────────────┼─────────────────────────────┼─────────────────┤\n",
              "│ dense_8 (\u001b[38;5;33mDense\u001b[0m)                      │ (\u001b[38;5;45mNone\u001b[0m, \u001b[38;5;34m10\u001b[0m)                  │           \u001b[38;5;34m1,010\u001b[0m │\n",
              "├──────────────────────────────────────┼─────────────────────────────┼─────────────────┤\n",
              "│ dense_9 (\u001b[38;5;33mDense\u001b[0m)                      │ (\u001b[38;5;45mNone\u001b[0m, \u001b[38;5;34m1\u001b[0m)                   │              \u001b[38;5;34m11\u001b[0m │\n",
              "└──────────────────────────────────────┴─────────────────────────────┴─────────────────┘\n"
            ],
            "text/html": [
              "<pre style=\"white-space:pre;overflow-x:auto;line-height:normal;font-family:Menlo,'DejaVu Sans Mono',consolas,'Courier New',monospace\">┏━━━━━━━━━━━━━━━━━━━━━━━━━━━━━━━━━━━━━━┳━━━━━━━━━━━━━━━━━━━━━━━━━━━━━┳━━━━━━━━━━━━━━━━━┓\n",
              "┃<span style=\"font-weight: bold\"> Layer (type)                         </span>┃<span style=\"font-weight: bold\"> Output Shape                </span>┃<span style=\"font-weight: bold\">         Param # </span>┃\n",
              "┡━━━━━━━━━━━━━━━━━━━━━━━━━━━━━━━━━━━━━━╇━━━━━━━━━━━━━━━━━━━━━━━━━━━━━╇━━━━━━━━━━━━━━━━━┩\n",
              "│ dense_5 (<span style=\"color: #0087ff; text-decoration-color: #0087ff\">Dense</span>)                      │ (<span style=\"color: #00d7ff; text-decoration-color: #00d7ff\">None</span>, <span style=\"color: #00af00; text-decoration-color: #00af00\">1000</span>)                │         <span style=\"color: #00af00; text-decoration-color: #00af00\">406,000</span> │\n",
              "├──────────────────────────────────────┼─────────────────────────────┼─────────────────┤\n",
              "│ dense_6 (<span style=\"color: #0087ff; text-decoration-color: #0087ff\">Dense</span>)                      │ (<span style=\"color: #00d7ff; text-decoration-color: #00d7ff\">None</span>, <span style=\"color: #00af00; text-decoration-color: #00af00\">500</span>)                 │         <span style=\"color: #00af00; text-decoration-color: #00af00\">500,500</span> │\n",
              "├──────────────────────────────────────┼─────────────────────────────┼─────────────────┤\n",
              "│ dropout_2 (<span style=\"color: #0087ff; text-decoration-color: #0087ff\">Dropout</span>)                  │ (<span style=\"color: #00d7ff; text-decoration-color: #00d7ff\">None</span>, <span style=\"color: #00af00; text-decoration-color: #00af00\">500</span>)                 │               <span style=\"color: #00af00; text-decoration-color: #00af00\">0</span> │\n",
              "├──────────────────────────────────────┼─────────────────────────────┼─────────────────┤\n",
              "│ dense_7 (<span style=\"color: #0087ff; text-decoration-color: #0087ff\">Dense</span>)                      │ (<span style=\"color: #00d7ff; text-decoration-color: #00d7ff\">None</span>, <span style=\"color: #00af00; text-decoration-color: #00af00\">100</span>)                 │          <span style=\"color: #00af00; text-decoration-color: #00af00\">50,100</span> │\n",
              "├──────────────────────────────────────┼─────────────────────────────┼─────────────────┤\n",
              "│ dropout_3 (<span style=\"color: #0087ff; text-decoration-color: #0087ff\">Dropout</span>)                  │ (<span style=\"color: #00d7ff; text-decoration-color: #00d7ff\">None</span>, <span style=\"color: #00af00; text-decoration-color: #00af00\">100</span>)                 │               <span style=\"color: #00af00; text-decoration-color: #00af00\">0</span> │\n",
              "├──────────────────────────────────────┼─────────────────────────────┼─────────────────┤\n",
              "│ dense_8 (<span style=\"color: #0087ff; text-decoration-color: #0087ff\">Dense</span>)                      │ (<span style=\"color: #00d7ff; text-decoration-color: #00d7ff\">None</span>, <span style=\"color: #00af00; text-decoration-color: #00af00\">10</span>)                  │           <span style=\"color: #00af00; text-decoration-color: #00af00\">1,010</span> │\n",
              "├──────────────────────────────────────┼─────────────────────────────┼─────────────────┤\n",
              "│ dense_9 (<span style=\"color: #0087ff; text-decoration-color: #0087ff\">Dense</span>)                      │ (<span style=\"color: #00d7ff; text-decoration-color: #00d7ff\">None</span>, <span style=\"color: #00af00; text-decoration-color: #00af00\">1</span>)                   │              <span style=\"color: #00af00; text-decoration-color: #00af00\">11</span> │\n",
              "└──────────────────────────────────────┴─────────────────────────────┴─────────────────┘\n",
              "</pre>\n"
            ]
          },
          "metadata": {}
        },
        {
          "output_type": "display_data",
          "data": {
            "text/plain": [
              "\u001b[1m Total params: \u001b[0m\u001b[38;5;34m2,872,865\u001b[0m (10.96 MB)\n"
            ],
            "text/html": [
              "<pre style=\"white-space:pre;overflow-x:auto;line-height:normal;font-family:Menlo,'DejaVu Sans Mono',consolas,'Courier New',monospace\"><span style=\"font-weight: bold\"> Total params: </span><span style=\"color: #00af00; text-decoration-color: #00af00\">2,872,865</span> (10.96 MB)\n",
              "</pre>\n"
            ]
          },
          "metadata": {}
        },
        {
          "output_type": "display_data",
          "data": {
            "text/plain": [
              "\u001b[1m Trainable params: \u001b[0m\u001b[38;5;34m957,621\u001b[0m (3.65 MB)\n"
            ],
            "text/html": [
              "<pre style=\"white-space:pre;overflow-x:auto;line-height:normal;font-family:Menlo,'DejaVu Sans Mono',consolas,'Courier New',monospace\"><span style=\"font-weight: bold\"> Trainable params: </span><span style=\"color: #00af00; text-decoration-color: #00af00\">957,621</span> (3.65 MB)\n",
              "</pre>\n"
            ]
          },
          "metadata": {}
        },
        {
          "output_type": "display_data",
          "data": {
            "text/plain": [
              "\u001b[1m Non-trainable params: \u001b[0m\u001b[38;5;34m0\u001b[0m (0.00 B)\n"
            ],
            "text/html": [
              "<pre style=\"white-space:pre;overflow-x:auto;line-height:normal;font-family:Menlo,'DejaVu Sans Mono',consolas,'Courier New',monospace\"><span style=\"font-weight: bold\"> Non-trainable params: </span><span style=\"color: #00af00; text-decoration-color: #00af00\">0</span> (0.00 B)\n",
              "</pre>\n"
            ]
          },
          "metadata": {}
        },
        {
          "output_type": "display_data",
          "data": {
            "text/plain": [
              "\u001b[1m Optimizer params: \u001b[0m\u001b[38;5;34m1,915,244\u001b[0m (7.31 MB)\n"
            ],
            "text/html": [
              "<pre style=\"white-space:pre;overflow-x:auto;line-height:normal;font-family:Menlo,'DejaVu Sans Mono',consolas,'Courier New',monospace\"><span style=\"font-weight: bold\"> Optimizer params: </span><span style=\"color: #00af00; text-decoration-color: #00af00\">1,915,244</span> (7.31 MB)\n",
              "</pre>\n"
            ]
          },
          "metadata": {}
        },
        {
          "output_type": "stream",
          "name": "stdout",
          "text": [
            "None\n"
          ]
        }
      ]
    },
    {
      "cell_type": "code",
      "source": [
        "device = torch.device(\"cuda\" if torch.cuda.is_available() else \"cpu\")\n",
        "\n",
        "cv_model = load_cv_model('/content/coco2017-0.241078ap-model.pth',device)"
      ],
      "metadata": {
        "id": "O5UK6WcZ0whp",
        "outputId": "0f46c139-5b33-4066-987f-f33d399bd961",
        "colab": {
          "base_uri": "https://localhost:8080/"
        }
      },
      "execution_count": 17,
      "outputs": [
        {
          "output_type": "stream",
          "name": "stdout",
          "text": [
            "load param...\n",
            "Detector(\n",
            "  (backbone): ShuffleNetV2(\n",
            "    (first_conv): Sequential(\n",
            "      (0): Conv2d(3, 24, kernel_size=(3, 3), stride=(2, 2), padding=(1, 1), bias=False)\n",
            "      (1): BatchNorm2d(24, eps=1e-05, momentum=0.1, affine=True, track_running_stats=True)\n",
            "      (2): ReLU(inplace=True)\n",
            "    )\n",
            "    (maxpool): MaxPool2d(kernel_size=3, stride=2, padding=1, dilation=1, ceil_mode=False)\n",
            "    (stage2): Sequential(\n",
            "      (0): ShuffleV2Block(\n",
            "        (branch_main): Sequential(\n",
            "          (0): Conv2d(24, 24, kernel_size=(1, 1), stride=(1, 1), bias=False)\n",
            "          (1): BatchNorm2d(24, eps=1e-05, momentum=0.1, affine=True, track_running_stats=True)\n",
            "          (2): ReLU(inplace=True)\n",
            "          (3): Conv2d(24, 24, kernel_size=(3, 3), stride=(2, 2), padding=(1, 1), groups=24, bias=False)\n",
            "          (4): BatchNorm2d(24, eps=1e-05, momentum=0.1, affine=True, track_running_stats=True)\n",
            "          (5): Conv2d(24, 24, kernel_size=(1, 1), stride=(1, 1), bias=False)\n",
            "          (6): BatchNorm2d(24, eps=1e-05, momentum=0.1, affine=True, track_running_stats=True)\n",
            "          (7): ReLU(inplace=True)\n",
            "        )\n",
            "        (branch_proj): Sequential(\n",
            "          (0): Conv2d(24, 24, kernel_size=(3, 3), stride=(2, 2), padding=(1, 1), groups=24, bias=False)\n",
            "          (1): BatchNorm2d(24, eps=1e-05, momentum=0.1, affine=True, track_running_stats=True)\n",
            "          (2): Conv2d(24, 24, kernel_size=(1, 1), stride=(1, 1), bias=False)\n",
            "          (3): BatchNorm2d(24, eps=1e-05, momentum=0.1, affine=True, track_running_stats=True)\n",
            "          (4): ReLU(inplace=True)\n",
            "        )\n",
            "      )\n",
            "      (1): ShuffleV2Block(\n",
            "        (branch_main): Sequential(\n",
            "          (0): Conv2d(24, 24, kernel_size=(1, 1), stride=(1, 1), bias=False)\n",
            "          (1): BatchNorm2d(24, eps=1e-05, momentum=0.1, affine=True, track_running_stats=True)\n",
            "          (2): ReLU(inplace=True)\n",
            "          (3): Conv2d(24, 24, kernel_size=(3, 3), stride=(1, 1), padding=(1, 1), groups=24, bias=False)\n",
            "          (4): BatchNorm2d(24, eps=1e-05, momentum=0.1, affine=True, track_running_stats=True)\n",
            "          (5): Conv2d(24, 24, kernel_size=(1, 1), stride=(1, 1), bias=False)\n",
            "          (6): BatchNorm2d(24, eps=1e-05, momentum=0.1, affine=True, track_running_stats=True)\n",
            "          (7): ReLU(inplace=True)\n",
            "        )\n",
            "      )\n",
            "      (2): ShuffleV2Block(\n",
            "        (branch_main): Sequential(\n",
            "          (0): Conv2d(24, 24, kernel_size=(1, 1), stride=(1, 1), bias=False)\n",
            "          (1): BatchNorm2d(24, eps=1e-05, momentum=0.1, affine=True, track_running_stats=True)\n",
            "          (2): ReLU(inplace=True)\n",
            "          (3): Conv2d(24, 24, kernel_size=(3, 3), stride=(1, 1), padding=(1, 1), groups=24, bias=False)\n",
            "          (4): BatchNorm2d(24, eps=1e-05, momentum=0.1, affine=True, track_running_stats=True)\n",
            "          (5): Conv2d(24, 24, kernel_size=(1, 1), stride=(1, 1), bias=False)\n",
            "          (6): BatchNorm2d(24, eps=1e-05, momentum=0.1, affine=True, track_running_stats=True)\n",
            "          (7): ReLU(inplace=True)\n",
            "        )\n",
            "      )\n",
            "      (3): ShuffleV2Block(\n",
            "        (branch_main): Sequential(\n",
            "          (0): Conv2d(24, 24, kernel_size=(1, 1), stride=(1, 1), bias=False)\n",
            "          (1): BatchNorm2d(24, eps=1e-05, momentum=0.1, affine=True, track_running_stats=True)\n",
            "          (2): ReLU(inplace=True)\n",
            "          (3): Conv2d(24, 24, kernel_size=(3, 3), stride=(1, 1), padding=(1, 1), groups=24, bias=False)\n",
            "          (4): BatchNorm2d(24, eps=1e-05, momentum=0.1, affine=True, track_running_stats=True)\n",
            "          (5): Conv2d(24, 24, kernel_size=(1, 1), stride=(1, 1), bias=False)\n",
            "          (6): BatchNorm2d(24, eps=1e-05, momentum=0.1, affine=True, track_running_stats=True)\n",
            "          (7): ReLU(inplace=True)\n",
            "        )\n",
            "      )\n",
            "    )\n",
            "    (stage3): Sequential(\n",
            "      (0): ShuffleV2Block(\n",
            "        (branch_main): Sequential(\n",
            "          (0): Conv2d(48, 48, kernel_size=(1, 1), stride=(1, 1), bias=False)\n",
            "          (1): BatchNorm2d(48, eps=1e-05, momentum=0.1, affine=True, track_running_stats=True)\n",
            "          (2): ReLU(inplace=True)\n",
            "          (3): Conv2d(48, 48, kernel_size=(3, 3), stride=(2, 2), padding=(1, 1), groups=48, bias=False)\n",
            "          (4): BatchNorm2d(48, eps=1e-05, momentum=0.1, affine=True, track_running_stats=True)\n",
            "          (5): Conv2d(48, 48, kernel_size=(1, 1), stride=(1, 1), bias=False)\n",
            "          (6): BatchNorm2d(48, eps=1e-05, momentum=0.1, affine=True, track_running_stats=True)\n",
            "          (7): ReLU(inplace=True)\n",
            "        )\n",
            "        (branch_proj): Sequential(\n",
            "          (0): Conv2d(48, 48, kernel_size=(3, 3), stride=(2, 2), padding=(1, 1), groups=48, bias=False)\n",
            "          (1): BatchNorm2d(48, eps=1e-05, momentum=0.1, affine=True, track_running_stats=True)\n",
            "          (2): Conv2d(48, 48, kernel_size=(1, 1), stride=(1, 1), bias=False)\n",
            "          (3): BatchNorm2d(48, eps=1e-05, momentum=0.1, affine=True, track_running_stats=True)\n",
            "          (4): ReLU(inplace=True)\n",
            "        )\n",
            "      )\n",
            "      (1): ShuffleV2Block(\n",
            "        (branch_main): Sequential(\n",
            "          (0): Conv2d(48, 48, kernel_size=(1, 1), stride=(1, 1), bias=False)\n",
            "          (1): BatchNorm2d(48, eps=1e-05, momentum=0.1, affine=True, track_running_stats=True)\n",
            "          (2): ReLU(inplace=True)\n",
            "          (3): Conv2d(48, 48, kernel_size=(3, 3), stride=(1, 1), padding=(1, 1), groups=48, bias=False)\n",
            "          (4): BatchNorm2d(48, eps=1e-05, momentum=0.1, affine=True, track_running_stats=True)\n",
            "          (5): Conv2d(48, 48, kernel_size=(1, 1), stride=(1, 1), bias=False)\n",
            "          (6): BatchNorm2d(48, eps=1e-05, momentum=0.1, affine=True, track_running_stats=True)\n",
            "          (7): ReLU(inplace=True)\n",
            "        )\n",
            "      )\n",
            "      (2): ShuffleV2Block(\n",
            "        (branch_main): Sequential(\n",
            "          (0): Conv2d(48, 48, kernel_size=(1, 1), stride=(1, 1), bias=False)\n",
            "          (1): BatchNorm2d(48, eps=1e-05, momentum=0.1, affine=True, track_running_stats=True)\n",
            "          (2): ReLU(inplace=True)\n",
            "          (3): Conv2d(48, 48, kernel_size=(3, 3), stride=(1, 1), padding=(1, 1), groups=48, bias=False)\n",
            "          (4): BatchNorm2d(48, eps=1e-05, momentum=0.1, affine=True, track_running_stats=True)\n",
            "          (5): Conv2d(48, 48, kernel_size=(1, 1), stride=(1, 1), bias=False)\n",
            "          (6): BatchNorm2d(48, eps=1e-05, momentum=0.1, affine=True, track_running_stats=True)\n",
            "          (7): ReLU(inplace=True)\n",
            "        )\n",
            "      )\n",
            "      (3): ShuffleV2Block(\n",
            "        (branch_main): Sequential(\n",
            "          (0): Conv2d(48, 48, kernel_size=(1, 1), stride=(1, 1), bias=False)\n",
            "          (1): BatchNorm2d(48, eps=1e-05, momentum=0.1, affine=True, track_running_stats=True)\n",
            "          (2): ReLU(inplace=True)\n",
            "          (3): Conv2d(48, 48, kernel_size=(3, 3), stride=(1, 1), padding=(1, 1), groups=48, bias=False)\n",
            "          (4): BatchNorm2d(48, eps=1e-05, momentum=0.1, affine=True, track_running_stats=True)\n",
            "          (5): Conv2d(48, 48, kernel_size=(1, 1), stride=(1, 1), bias=False)\n",
            "          (6): BatchNorm2d(48, eps=1e-05, momentum=0.1, affine=True, track_running_stats=True)\n",
            "          (7): ReLU(inplace=True)\n",
            "        )\n",
            "      )\n",
            "      (4): ShuffleV2Block(\n",
            "        (branch_main): Sequential(\n",
            "          (0): Conv2d(48, 48, kernel_size=(1, 1), stride=(1, 1), bias=False)\n",
            "          (1): BatchNorm2d(48, eps=1e-05, momentum=0.1, affine=True, track_running_stats=True)\n",
            "          (2): ReLU(inplace=True)\n",
            "          (3): Conv2d(48, 48, kernel_size=(3, 3), stride=(1, 1), padding=(1, 1), groups=48, bias=False)\n",
            "          (4): BatchNorm2d(48, eps=1e-05, momentum=0.1, affine=True, track_running_stats=True)\n",
            "          (5): Conv2d(48, 48, kernel_size=(1, 1), stride=(1, 1), bias=False)\n",
            "          (6): BatchNorm2d(48, eps=1e-05, momentum=0.1, affine=True, track_running_stats=True)\n",
            "          (7): ReLU(inplace=True)\n",
            "        )\n",
            "      )\n",
            "      (5): ShuffleV2Block(\n",
            "        (branch_main): Sequential(\n",
            "          (0): Conv2d(48, 48, kernel_size=(1, 1), stride=(1, 1), bias=False)\n",
            "          (1): BatchNorm2d(48, eps=1e-05, momentum=0.1, affine=True, track_running_stats=True)\n",
            "          (2): ReLU(inplace=True)\n",
            "          (3): Conv2d(48, 48, kernel_size=(3, 3), stride=(1, 1), padding=(1, 1), groups=48, bias=False)\n",
            "          (4): BatchNorm2d(48, eps=1e-05, momentum=0.1, affine=True, track_running_stats=True)\n",
            "          (5): Conv2d(48, 48, kernel_size=(1, 1), stride=(1, 1), bias=False)\n",
            "          (6): BatchNorm2d(48, eps=1e-05, momentum=0.1, affine=True, track_running_stats=True)\n",
            "          (7): ReLU(inplace=True)\n",
            "        )\n",
            "      )\n",
            "      (6): ShuffleV2Block(\n",
            "        (branch_main): Sequential(\n",
            "          (0): Conv2d(48, 48, kernel_size=(1, 1), stride=(1, 1), bias=False)\n",
            "          (1): BatchNorm2d(48, eps=1e-05, momentum=0.1, affine=True, track_running_stats=True)\n",
            "          (2): ReLU(inplace=True)\n",
            "          (3): Conv2d(48, 48, kernel_size=(3, 3), stride=(1, 1), padding=(1, 1), groups=48, bias=False)\n",
            "          (4): BatchNorm2d(48, eps=1e-05, momentum=0.1, affine=True, track_running_stats=True)\n",
            "          (5): Conv2d(48, 48, kernel_size=(1, 1), stride=(1, 1), bias=False)\n",
            "          (6): BatchNorm2d(48, eps=1e-05, momentum=0.1, affine=True, track_running_stats=True)\n",
            "          (7): ReLU(inplace=True)\n",
            "        )\n",
            "      )\n",
            "      (7): ShuffleV2Block(\n",
            "        (branch_main): Sequential(\n",
            "          (0): Conv2d(48, 48, kernel_size=(1, 1), stride=(1, 1), bias=False)\n",
            "          (1): BatchNorm2d(48, eps=1e-05, momentum=0.1, affine=True, track_running_stats=True)\n",
            "          (2): ReLU(inplace=True)\n",
            "          (3): Conv2d(48, 48, kernel_size=(3, 3), stride=(1, 1), padding=(1, 1), groups=48, bias=False)\n",
            "          (4): BatchNorm2d(48, eps=1e-05, momentum=0.1, affine=True, track_running_stats=True)\n",
            "          (5): Conv2d(48, 48, kernel_size=(1, 1), stride=(1, 1), bias=False)\n",
            "          (6): BatchNorm2d(48, eps=1e-05, momentum=0.1, affine=True, track_running_stats=True)\n",
            "          (7): ReLU(inplace=True)\n",
            "        )\n",
            "      )\n",
            "    )\n",
            "    (stage4): Sequential(\n",
            "      (0): ShuffleV2Block(\n",
            "        (branch_main): Sequential(\n",
            "          (0): Conv2d(96, 96, kernel_size=(1, 1), stride=(1, 1), bias=False)\n",
            "          (1): BatchNorm2d(96, eps=1e-05, momentum=0.1, affine=True, track_running_stats=True)\n",
            "          (2): ReLU(inplace=True)\n",
            "          (3): Conv2d(96, 96, kernel_size=(3, 3), stride=(2, 2), padding=(1, 1), groups=96, bias=False)\n",
            "          (4): BatchNorm2d(96, eps=1e-05, momentum=0.1, affine=True, track_running_stats=True)\n",
            "          (5): Conv2d(96, 96, kernel_size=(1, 1), stride=(1, 1), bias=False)\n",
            "          (6): BatchNorm2d(96, eps=1e-05, momentum=0.1, affine=True, track_running_stats=True)\n",
            "          (7): ReLU(inplace=True)\n",
            "        )\n",
            "        (branch_proj): Sequential(\n",
            "          (0): Conv2d(96, 96, kernel_size=(3, 3), stride=(2, 2), padding=(1, 1), groups=96, bias=False)\n",
            "          (1): BatchNorm2d(96, eps=1e-05, momentum=0.1, affine=True, track_running_stats=True)\n",
            "          (2): Conv2d(96, 96, kernel_size=(1, 1), stride=(1, 1), bias=False)\n",
            "          (3): BatchNorm2d(96, eps=1e-05, momentum=0.1, affine=True, track_running_stats=True)\n",
            "          (4): ReLU(inplace=True)\n",
            "        )\n",
            "      )\n",
            "      (1): ShuffleV2Block(\n",
            "        (branch_main): Sequential(\n",
            "          (0): Conv2d(96, 96, kernel_size=(1, 1), stride=(1, 1), bias=False)\n",
            "          (1): BatchNorm2d(96, eps=1e-05, momentum=0.1, affine=True, track_running_stats=True)\n",
            "          (2): ReLU(inplace=True)\n",
            "          (3): Conv2d(96, 96, kernel_size=(3, 3), stride=(1, 1), padding=(1, 1), groups=96, bias=False)\n",
            "          (4): BatchNorm2d(96, eps=1e-05, momentum=0.1, affine=True, track_running_stats=True)\n",
            "          (5): Conv2d(96, 96, kernel_size=(1, 1), stride=(1, 1), bias=False)\n",
            "          (6): BatchNorm2d(96, eps=1e-05, momentum=0.1, affine=True, track_running_stats=True)\n",
            "          (7): ReLU(inplace=True)\n",
            "        )\n",
            "      )\n",
            "      (2): ShuffleV2Block(\n",
            "        (branch_main): Sequential(\n",
            "          (0): Conv2d(96, 96, kernel_size=(1, 1), stride=(1, 1), bias=False)\n",
            "          (1): BatchNorm2d(96, eps=1e-05, momentum=0.1, affine=True, track_running_stats=True)\n",
            "          (2): ReLU(inplace=True)\n",
            "          (3): Conv2d(96, 96, kernel_size=(3, 3), stride=(1, 1), padding=(1, 1), groups=96, bias=False)\n",
            "          (4): BatchNorm2d(96, eps=1e-05, momentum=0.1, affine=True, track_running_stats=True)\n",
            "          (5): Conv2d(96, 96, kernel_size=(1, 1), stride=(1, 1), bias=False)\n",
            "          (6): BatchNorm2d(96, eps=1e-05, momentum=0.1, affine=True, track_running_stats=True)\n",
            "          (7): ReLU(inplace=True)\n",
            "        )\n",
            "      )\n",
            "      (3): ShuffleV2Block(\n",
            "        (branch_main): Sequential(\n",
            "          (0): Conv2d(96, 96, kernel_size=(1, 1), stride=(1, 1), bias=False)\n",
            "          (1): BatchNorm2d(96, eps=1e-05, momentum=0.1, affine=True, track_running_stats=True)\n",
            "          (2): ReLU(inplace=True)\n",
            "          (3): Conv2d(96, 96, kernel_size=(3, 3), stride=(1, 1), padding=(1, 1), groups=96, bias=False)\n",
            "          (4): BatchNorm2d(96, eps=1e-05, momentum=0.1, affine=True, track_running_stats=True)\n",
            "          (5): Conv2d(96, 96, kernel_size=(1, 1), stride=(1, 1), bias=False)\n",
            "          (6): BatchNorm2d(96, eps=1e-05, momentum=0.1, affine=True, track_running_stats=True)\n",
            "          (7): ReLU(inplace=True)\n",
            "        )\n",
            "      )\n",
            "    )\n",
            "  )\n",
            "  (fpn): LightFPN(\n",
            "    (conv1x1_2): Sequential(\n",
            "      (0): Conv2d(288, 72, kernel_size=(1, 1), stride=(1, 1), bias=False)\n",
            "      (1): BatchNorm2d(72, eps=1e-05, momentum=0.1, affine=True, track_running_stats=True)\n",
            "      (2): ReLU(inplace=True)\n",
            "    )\n",
            "    (conv1x1_3): Sequential(\n",
            "      (0): Conv2d(192, 72, kernel_size=(1, 1), stride=(1, 1), bias=False)\n",
            "      (1): BatchNorm2d(72, eps=1e-05, momentum=0.1, affine=True, track_running_stats=True)\n",
            "      (2): ReLU(inplace=True)\n",
            "    )\n",
            "    (cls_head_2): DWConvblock(\n",
            "      (block): Sequential(\n",
            "        (0): Conv2d(72, 72, kernel_size=(5, 5), stride=(1, 1), padding=(2, 2), groups=72, bias=False)\n",
            "        (1): BatchNorm2d(72, eps=1e-05, momentum=0.1, affine=True, track_running_stats=True)\n",
            "        (2): ReLU(inplace=True)\n",
            "        (3): Conv2d(72, 72, kernel_size=(1, 1), stride=(1, 1), bias=False)\n",
            "        (4): BatchNorm2d(72, eps=1e-05, momentum=0.1, affine=True, track_running_stats=True)\n",
            "        (5): Conv2d(72, 72, kernel_size=(5, 5), stride=(1, 1), padding=(2, 2), groups=72, bias=False)\n",
            "        (6): BatchNorm2d(72, eps=1e-05, momentum=0.1, affine=True, track_running_stats=True)\n",
            "        (7): ReLU(inplace=True)\n",
            "        (8): Conv2d(72, 72, kernel_size=(1, 1), stride=(1, 1), bias=False)\n",
            "        (9): BatchNorm2d(72, eps=1e-05, momentum=0.1, affine=True, track_running_stats=True)\n",
            "      )\n",
            "    )\n",
            "    (reg_head_2): DWConvblock(\n",
            "      (block): Sequential(\n",
            "        (0): Conv2d(72, 72, kernel_size=(5, 5), stride=(1, 1), padding=(2, 2), groups=72, bias=False)\n",
            "        (1): BatchNorm2d(72, eps=1e-05, momentum=0.1, affine=True, track_running_stats=True)\n",
            "        (2): ReLU(inplace=True)\n",
            "        (3): Conv2d(72, 72, kernel_size=(1, 1), stride=(1, 1), bias=False)\n",
            "        (4): BatchNorm2d(72, eps=1e-05, momentum=0.1, affine=True, track_running_stats=True)\n",
            "        (5): Conv2d(72, 72, kernel_size=(5, 5), stride=(1, 1), padding=(2, 2), groups=72, bias=False)\n",
            "        (6): BatchNorm2d(72, eps=1e-05, momentum=0.1, affine=True, track_running_stats=True)\n",
            "        (7): ReLU(inplace=True)\n",
            "        (8): Conv2d(72, 72, kernel_size=(1, 1), stride=(1, 1), bias=False)\n",
            "        (9): BatchNorm2d(72, eps=1e-05, momentum=0.1, affine=True, track_running_stats=True)\n",
            "      )\n",
            "    )\n",
            "    (reg_head_3): DWConvblock(\n",
            "      (block): Sequential(\n",
            "        (0): Conv2d(72, 72, kernel_size=(5, 5), stride=(1, 1), padding=(2, 2), groups=72, bias=False)\n",
            "        (1): BatchNorm2d(72, eps=1e-05, momentum=0.1, affine=True, track_running_stats=True)\n",
            "        (2): ReLU(inplace=True)\n",
            "        (3): Conv2d(72, 72, kernel_size=(1, 1), stride=(1, 1), bias=False)\n",
            "        (4): BatchNorm2d(72, eps=1e-05, momentum=0.1, affine=True, track_running_stats=True)\n",
            "        (5): Conv2d(72, 72, kernel_size=(5, 5), stride=(1, 1), padding=(2, 2), groups=72, bias=False)\n",
            "        (6): BatchNorm2d(72, eps=1e-05, momentum=0.1, affine=True, track_running_stats=True)\n",
            "        (7): ReLU(inplace=True)\n",
            "        (8): Conv2d(72, 72, kernel_size=(1, 1), stride=(1, 1), bias=False)\n",
            "        (9): BatchNorm2d(72, eps=1e-05, momentum=0.1, affine=True, track_running_stats=True)\n",
            "      )\n",
            "    )\n",
            "    (cls_head_3): DWConvblock(\n",
            "      (block): Sequential(\n",
            "        (0): Conv2d(72, 72, kernel_size=(5, 5), stride=(1, 1), padding=(2, 2), groups=72, bias=False)\n",
            "        (1): BatchNorm2d(72, eps=1e-05, momentum=0.1, affine=True, track_running_stats=True)\n",
            "        (2): ReLU(inplace=True)\n",
            "        (3): Conv2d(72, 72, kernel_size=(1, 1), stride=(1, 1), bias=False)\n",
            "        (4): BatchNorm2d(72, eps=1e-05, momentum=0.1, affine=True, track_running_stats=True)\n",
            "        (5): Conv2d(72, 72, kernel_size=(5, 5), stride=(1, 1), padding=(2, 2), groups=72, bias=False)\n",
            "        (6): BatchNorm2d(72, eps=1e-05, momentum=0.1, affine=True, track_running_stats=True)\n",
            "        (7): ReLU(inplace=True)\n",
            "        (8): Conv2d(72, 72, kernel_size=(1, 1), stride=(1, 1), bias=False)\n",
            "        (9): BatchNorm2d(72, eps=1e-05, momentum=0.1, affine=True, track_running_stats=True)\n",
            "      )\n",
            "    )\n",
            "  )\n",
            "  (output_reg_layers): Conv2d(72, 12, kernel_size=(1, 1), stride=(1, 1))\n",
            "  (output_obj_layers): Conv2d(72, 3, kernel_size=(1, 1), stride=(1, 1))\n",
            "  (output_cls_layers): Conv2d(72, 80, kernel_size=(1, 1), stride=(1, 1))\n",
            ")\n"
          ]
        },
        {
          "output_type": "stream",
          "name": "stderr",
          "text": [
            "<ipython-input-16-936188fafc02>:4: FutureWarning: You are using `torch.load` with `weights_only=False` (the current default value), which uses the default pickle module implicitly. It is possible to construct malicious pickle data which will execute arbitrary code during unpickling (See https://github.com/pytorch/pytorch/blob/main/SECURITY.md#untrusted-models for more details). In a future release, the default value for `weights_only` will be flipped to `True`. This limits the functions that could be executed during unpickling. Arbitrary objects will no longer be allowed to be loaded via this mode unless they are explicitly allowlisted by the user via `torch.serialization.add_safe_globals`. We recommend you start setting `weights_only=True` for any use case where you don't have full control of the loaded file. Please open an issue on GitHub for any issues related to this experimental feature.\n",
            "  cv_model.load_state_dict(torch.load(weights_path, map_location=device))\n"
          ]
        }
      ]
    },
    {
      "cell_type": "markdown",
      "source": [
        "### CSI Prediction"
      ],
      "metadata": {
        "id": "GVW7Gn4N-gpg"
      }
    },
    {
      "cell_type": "code",
      "source": [
        "import re"
      ],
      "metadata": {
        "id": "FnAnRkkxoXS_"
      },
      "execution_count": 19,
      "outputs": []
    },
    {
      "cell_type": "code",
      "source": [
        "csi_folder = '/content/drive/MyDrive/UIT/UIT_Graduation_Thesis/Dataset/0_Raw/2024-10-05/CSI_Packets/session_1'\n",
        "csi_list = [f for f in os.listdir(csi_folder) if f.endswith('.csv')]\n",
        "csi_list.sort()\n",
        "prediction_list = []\n",
        "for file_name in csi_list:\n",
        "    # We will use data of day 1 and 2 for cross validation\n",
        "    match = re.search(r\"(\\d)_persons\", file_name)\n",
        "    if match:\n",
        "      print(file_name)\n",
        "      print(f\"Begin predictions for \", match.group(1))\n",
        "      file_path = os.path.join(csi_folder, file_name)\n",
        "      csi_data = load_csi_data(file_path)\n",
        "      predictions = csi_model.predict(csi_data)\n",
        "      prediction_list.append(predictions)"
      ],
      "metadata": {
        "id": "bpyNsmfG9kKZ",
        "outputId": "dbc5ceca-11db-487f-9557-0547945c5e87",
        "colab": {
          "base_uri": "https://localhost:8080/"
        }
      },
      "execution_count": 20,
      "outputs": [
        {
          "output_type": "stream",
          "name": "stdout",
          "text": [
            "0_persons.csv\n",
            "Begin predictions for  0\n",
            "There are 116 segments to extract\n",
            "\u001b[1m4/4\u001b[0m \u001b[32m━━━━━━━━━━━━━━━━━━━━\u001b[0m\u001b[37m\u001b[0m \u001b[1m0s\u001b[0m 22ms/step\n",
            "1_persons.csv\n",
            "Begin predictions for  1\n",
            "There are 115 segments to extract\n",
            "\u001b[1m4/4\u001b[0m \u001b[32m━━━━━━━━━━━━━━━━━━━━\u001b[0m\u001b[37m\u001b[0m \u001b[1m0s\u001b[0m 7ms/step \n",
            "2_persons.csv\n",
            "Begin predictions for  2\n",
            "There are 116 segments to extract\n",
            "\u001b[1m4/4\u001b[0m \u001b[32m━━━━━━━━━━━━━━━━━━━━\u001b[0m\u001b[37m\u001b[0m \u001b[1m0s\u001b[0m 5ms/step \n",
            "3_persons.csv\n",
            "Begin predictions for  3\n",
            "There are 106 segments to extract\n",
            "\u001b[1m4/4\u001b[0m \u001b[32m━━━━━━━━━━━━━━━━━━━━\u001b[0m\u001b[37m\u001b[0m \u001b[1m0s\u001b[0m 7ms/step \n",
            "4_persons.csv\n",
            "Begin predictions for  4\n",
            "There are 116 segments to extract\n",
            "\u001b[1m4/4\u001b[0m \u001b[32m━━━━━━━━━━━━━━━━━━━━\u001b[0m\u001b[37m\u001b[0m \u001b[1m0s\u001b[0m 5ms/step \n",
            "5_persons.csv\n",
            "Begin predictions for  5\n",
            "There are 108 segments to extract\n",
            "\u001b[1m4/4\u001b[0m \u001b[32m━━━━━━━━━━━━━━━━━━━━\u001b[0m\u001b[37m\u001b[0m \u001b[1m0s\u001b[0m 5ms/step \n"
          ]
        }
      ]
    },
    {
      "cell_type": "code",
      "source": [
        "from sklearn.metrics import median_absolute_error\n",
        "\n",
        "for i in range(len(prediction_list)):\n",
        "  target_value = i\n",
        "  # Create a target array with the same shape as predictions\n",
        "  target_array = np.full_like(prediction_list[i], target_value)\n",
        "\n",
        "  # Calculate the MAE\n",
        "  mae = median_absolute_error(target_array, prediction_list[i])\n",
        "\n",
        "  print(f'Median Absolute Error (MAE) {i}: {mae}')"
      ],
      "metadata": {
        "id": "-O6sLEYT-nkS",
        "outputId": "bf34013b-ddf6-4da9-fdc1-5d0c7a4259b8",
        "colab": {
          "base_uri": "https://localhost:8080/"
        }
      },
      "execution_count": 21,
      "outputs": [
        {
          "output_type": "stream",
          "name": "stdout",
          "text": [
            "Median Absolute Error (MAE) 0: 0.04646863043308258\n",
            "Median Absolute Error (MAE) 1: 0.03264665603637695\n",
            "Median Absolute Error (MAE) 2: 0.14499706029891968\n",
            "Median Absolute Error (MAE) 3: 0.33658504486083984\n",
            "Median Absolute Error (MAE) 4: 0.42665743827819824\n",
            "Median Absolute Error (MAE) 5: 0.5593066215515137\n"
          ]
        }
      ]
    },
    {
      "cell_type": "markdown",
      "source": [
        "### CV Prediction in normal and dark condition"
      ],
      "metadata": {
        "id": "yshTL7A2-dwH"
      }
    },
    {
      "cell_type": "code",
      "execution_count": 27,
      "metadata": {
        "colab": {
          "base_uri": "https://localhost:8080/"
        },
        "id": "DHSGwDs5mncw",
        "outputId": "0bb7ed29-8a33-4bec-d329-4bfb7397863f"
      },
      "outputs": [
        {
          "output_type": "stream",
          "name": "stdout",
          "text": [
            "86\n",
            "frame_1728097432.9572592.jpg - Forward time: 83.04 ms\n",
            "frame_1728097435.0190384.jpg - Forward time: 91.37 ms\n",
            "frame_1728097437.0783935.jpg - Forward time: 84.42 ms\n",
            "frame_1728097439.1373365.jpg - Forward time: 82.54 ms\n",
            "frame_1728097441.2080698.jpg - Forward time: 161.44 ms\n",
            "frame_1728097443.2566798.jpg - Forward time: 82.74 ms\n",
            "frame_1728097445.3019376.jpg - Forward time: 48.59 ms\n",
            "frame_1728097447.3612802.jpg - Forward time: 40.59 ms\n",
            "frame_1728097449.41483.jpg - Forward time: 36.15 ms\n",
            "frame_1728097451.467854.jpg - Forward time: 40.55 ms\n",
            "frame_1728097453.518176.jpg - Forward time: 42.15 ms\n",
            "frame_1728097455.5625331.jpg - Forward time: 35.75 ms\n",
            "Error with frame_1728097455.5625331.jpg: list index out of range\n",
            "frame_1728097457.605974.jpg - Forward time: 44.09 ms\n",
            "frame_1728097459.6628087.jpg - Forward time: 36.58 ms\n",
            "frame_1728097461.7076876.jpg - Forward time: 49.81 ms\n",
            "frame_1728097463.7514675.jpg - Forward time: 47.11 ms\n",
            "frame_1728097465.798217.jpg - Forward time: 71.50 ms\n",
            "frame_1728097467.8462868.jpg - Forward time: 57.22 ms\n",
            "frame_1728097469.893481.jpg - Forward time: 50.14 ms\n",
            "frame_1728097471.950368.jpg - Forward time: 43.79 ms\n",
            "frame_1728097473.997338.jpg - Forward time: 55.11 ms\n",
            "frame_1728097476.0518603.jpg - Forward time: 93.89 ms\n",
            "frame_1728097478.1020756.jpg - Forward time: 44.13 ms\n",
            "frame_1728097480.1502643.jpg - Forward time: 41.42 ms\n",
            "frame_1728097482.1970088.jpg - Forward time: 42.32 ms\n",
            "frame_1728097484.2412915.jpg - Forward time: 44.90 ms\n",
            "frame_1728097486.2899332.jpg - Forward time: 41.87 ms\n",
            "frame_1728097488.3375456.jpg - Forward time: 48.33 ms\n",
            "frame_1728097490.38302.jpg - Forward time: 41.49 ms\n",
            "frame_1728097492.4296703.jpg - Forward time: 40.97 ms\n",
            "frame_1728097494.475163.jpg - Forward time: 41.71 ms\n",
            "frame_1728097496.524671.jpg - Forward time: 47.77 ms\n",
            "frame_1728097498.5844278.jpg - Forward time: 41.12 ms\n",
            "frame_1728097500.6313818.jpg - Forward time: 39.97 ms\n",
            "frame_1728097502.683758.jpg - Forward time: 38.42 ms\n",
            "frame_1728097504.7289784.jpg - Forward time: 42.23 ms\n",
            "frame_1728097506.7785318.jpg - Forward time: 41.50 ms\n",
            "frame_1728097508.8266954.jpg - Forward time: 37.02 ms\n",
            "frame_1728097510.86863.jpg - Forward time: 26.09 ms\n",
            "frame_1728097512.9160068.jpg - Forward time: 25.95 ms\n",
            "frame_1728097514.9647486.jpg - Forward time: 26.81 ms\n",
            "frame_1728097517.008485.jpg - Forward time: 33.36 ms\n",
            "frame_1728097519.0527344.jpg - Forward time: 25.57 ms\n",
            "frame_1728097521.1020527.jpg - Forward time: 26.49 ms\n",
            "frame_1728097523.1464038.jpg - Forward time: 25.18 ms\n",
            "frame_1728097525.1899602.jpg - Forward time: 24.76 ms\n",
            "frame_1728097527.2347023.jpg - Forward time: 25.24 ms\n",
            "frame_1728097529.3118086.jpg - Forward time: 26.65 ms\n",
            "frame_1728097531.4085534.jpg - Forward time: 26.52 ms\n",
            "frame_1728097533.5009193.jpg - Forward time: 29.96 ms\n",
            "frame_1728097535.5839217.jpg - Forward time: 29.51 ms\n",
            "frame_1728097537.6514583.jpg - Forward time: 25.52 ms\n",
            "frame_1728097539.7520056.jpg - Forward time: 25.88 ms\n",
            "frame_1728097541.8510418.jpg - Forward time: 25.82 ms\n",
            "frame_1728097543.948242.jpg - Forward time: 30.43 ms\n",
            "frame_1728097546.024767.jpg - Forward time: 25.97 ms\n",
            "frame_1728097548.0905392.jpg - Forward time: 25.42 ms\n",
            "frame_1728097550.1581671.jpg - Forward time: 25.43 ms\n",
            "frame_1728097552.251513.jpg - Forward time: 25.16 ms\n",
            "frame_1728097554.3378804.jpg - Forward time: 31.34 ms\n",
            "frame_1728097556.4384303.jpg - Forward time: 41.52 ms\n",
            "Error with frame_1728097556.4384303.jpg: list index out of range\n",
            "frame_1728097558.5247717.jpg - Forward time: 27.36 ms\n",
            "frame_1728097560.604689.jpg - Forward time: 25.71 ms\n",
            "frame_1728097562.6611514.jpg - Forward time: 31.49 ms\n",
            "frame_1728097564.7499316.jpg - Forward time: 29.49 ms\n",
            "frame_1728097566.852317.jpg - Forward time: 27.55 ms\n",
            "frame_1728097568.958065.jpg - Forward time: 25.44 ms\n",
            "frame_1728097571.0465531.jpg - Forward time: 28.16 ms\n",
            "frame_1728097573.1177588.jpg - Forward time: 35.24 ms\n",
            "frame_1728097575.1944122.jpg - Forward time: 28.30 ms\n",
            "frame_1728097577.2815192.jpg - Forward time: 26.21 ms\n",
            "frame_1728097579.3724911.jpg - Forward time: 26.23 ms\n",
            "frame_1728097581.4610198.jpg - Forward time: 26.61 ms\n",
            "frame_1728097583.5479717.jpg - Forward time: 24.55 ms\n",
            "Error with frame_1728097583.5479717.jpg: list index out of range\n",
            "frame_1728097585.628102.jpg - Forward time: 34.50 ms\n",
            "frame_1728097587.7128053.jpg - Forward time: 27.45 ms\n",
            "frame_1728097589.8061242.jpg - Forward time: 30.62 ms\n",
            "frame_1728097591.9065864.jpg - Forward time: 25.75 ms\n",
            "frame_1728097593.9939282.jpg - Forward time: 25.62 ms\n",
            "frame_1728097596.0857434.jpg - Forward time: 30.29 ms\n",
            "frame_1728097598.181946.jpg - Forward time: 27.30 ms\n",
            "frame_1728097600.2678385.jpg - Forward time: 25.73 ms\n",
            "frame_1728097602.3553443.jpg - Forward time: 33.68 ms\n",
            "frame_1728097604.425634.jpg - Forward time: 29.52 ms\n",
            "frame_1728097606.5234034.jpg - Forward time: 25.67 ms\n",
            "Error with frame_1728097606.5234034.jpg: list index out of range\n",
            "frame_1728097608.6306481.jpg - Forward time: 30.29 ms\n",
            "Processing complete. Results saved in the specified output directory and CSV file.\n"
          ]
        }
      ],
      "source": [
        "test_csv = '/content/drive/MyDrive/UIT/UIT_Graduation_Thesis/Test/coco-dark-051024-session1-1person.csv'\n",
        "LABEL_NAMES = ['person']\n",
        "# replace with dark folder when testing in dark condition\n",
        "# /content/drive/MyDrive/UIT/UIT_Graduation_Thesis/Dataset/1_Processed/CV_Dark_Images\n",
        "img_path = '/content/drive/MyDrive/UIT/UIT_Graduation_Thesis/Dataset/1_Processed/CV_Dark_Images/full-dark-051024-session1-1person'\n",
        "selected_timestamps = load_img_data(img_path)\n",
        "\n",
        "# Prepare CSV file\n",
        "with open(test_csv, mode='w', newline='') as csv_file:\n",
        "    csv_writer = csv.writer(csv_file)\n",
        "    csv_writer.writerow([\"Image\", \"Persons\", \"Average Confidence\"])\n",
        "\n",
        "    # For each selected timestamp, load the corresponding image and make predictions\n",
        "    for timestamp in selected_timestamps:\n",
        "        img_file = f\"frame_{timestamp}.jpg\"\n",
        "        path = os.path.join(img_path, img_file)\n",
        "        ori_img = cv2.imread(path)\n",
        "        if ori_img is None:\n",
        "            print(f\"Skipping file {img_file} (not an image)\")\n",
        "            continue\n",
        "\n",
        "        # Data preprocessing\n",
        "        res_img = cv2.resize(ori_img, (352, 352), interpolation=cv2.INTER_LINEAR)\n",
        "        img = res_img.reshape(1, 352, 352, 3)\n",
        "        img = torch.from_numpy(img.transpose(0, 3, 1, 2)).to(device).float() / 255.0\n",
        "\n",
        "        # Model inference\n",
        "        start = time.perf_counter()\n",
        "        preds = cv_model(img)\n",
        "        end = time.perf_counter()\n",
        "        inference_time = (end - start) * 1000.0\n",
        "        print(f\"{img_file} - Forward time: {inference_time:.2f} ms\")\n",
        "\n",
        "          # Post-process predictions\n",
        "        output = handel_preds(preds, device)\n",
        "        output_boxes = non_max_suppression(output, conf_thres=0.3, iou_thres=0.4)\n",
        "\n",
        "        h, w, _ = ori_img.shape\n",
        "        scale_h, scale_w = h / 352, w / 352\n",
        "\n",
        "        person_count = 0\n",
        "        confidence_scores = []\n",
        "\n",
        "        # Draw bounding boxes and collect predictions for persons\n",
        "        for box in output_boxes[0]:\n",
        "            box = box.tolist()\n",
        "            obj_score = box[4]\n",
        "            try:\n",
        "              category = LABEL_NAMES[int(box[5])]\n",
        "\n",
        "              # Check if the detected object is a person\n",
        "              if category.lower() == \"person\":\n",
        "                  person_count += 1\n",
        "                  confidence_scores.append(obj_score)\n",
        "\n",
        "                  x1, y1 = int(box[0] * scale_w), int(box[1] * scale_h)\n",
        "                  x2, y2 = int(box[2] * scale_w), int(box[3] * scale_h)\n",
        "\n",
        "                  cv2.rectangle(ori_img, (x1, y1), (x2, y2), (255, 255, 0), 2)\n",
        "                  cv2.putText(ori_img, f'{obj_score:.2f}', (x1, y1 - 5), 0, 0.7, (0, 255, 0), 2)\n",
        "                  cv2.putText(ori_img, category, (x1, y1 - 25), 0, 0.7, (0, 255, 0), 2)\n",
        "            except Exception as e:\n",
        "              print(f\"Error with {img_file}: {e}\")\n",
        "\n",
        "          # Calculate average confidence score\n",
        "        avg_confidence = sum(confidence_scores) / len(confidence_scores) if confidence_scores else 0\n",
        "\n",
        "          # Write result to CSV\n",
        "        csv_writer.writerow([img_file, person_count, f\"{avg_confidence:.2f}\"])\n",
        "\n",
        "print(\"Processing complete. Results saved in the specified output directory and CSV file.\")\n"
      ]
    },
    {
      "cell_type": "markdown",
      "source": [
        "### Validation"
      ],
      "metadata": {
        "id": "iDFN_PvUFfs2"
      }
    },
    {
      "cell_type": "code",
      "source": [
        "import re\n",
        "\n",
        "result_folder = '/content/drive/MyDrive/UIT/UIT_Graduation_Thesis/Test'\n",
        "result_list = [f for f in os.listdir(result_folder) if f.endswith('.csv')]\n",
        "result_list.sort()\n",
        "dark_dfs = []\n",
        "for file_name in result_list:\n",
        "    # We will use data of day 1 and 2 for cross validation\n",
        "    match = re.search(r\"dark-051024-session1-(\\d)person\", file_name)\n",
        "    if match:\n",
        "      print(file_name)\n",
        "      file_path = os.path.join(result_folder, file_name)\n",
        "      df = pd.read_csv(file_path)\n",
        "      dark_dfs.append(df)\n",
        "\n",
        "print(\"=========================\")\n",
        "\n",
        "normal_dfs = []\n",
        "for file_name in result_list:\n",
        "    # We will use data of day 1 and 2 for cross validation\n",
        "    match = re.search(r\"normal-051024-session1-(\\d)person\", file_name)\n",
        "    if match:\n",
        "      print(file_name)\n",
        "      file_path = os.path.join(result_folder, file_name)\n",
        "      df = pd.read_csv(file_path)\n",
        "      normal_dfs.append(df)"
      ],
      "metadata": {
        "colab": {
          "base_uri": "https://localhost:8080/"
        },
        "id": "nlZHviixZ3B-",
        "outputId": "797164f7-1198-45db-b0c6-ea385f49afd5"
      },
      "execution_count": null,
      "outputs": [
        {
          "output_type": "stream",
          "name": "stdout",
          "text": [
            "dark-051024-session1-0person.csv\n",
            "dark-051024-session1-1person.csv\n",
            "dark-051024-session1-2person.csv\n",
            "dark-051024-session1-3person.csv\n",
            "dark-051024-session1-4person.csv\n",
            "dark-051024-session1-5person.csv\n",
            "=========================\n",
            "normal-051024-session1-0person.csv\n",
            "normal-051024-session1-1person.csv\n",
            "normal-051024-session1-2person.csv\n",
            "normal-051024-session1-3person.csv\n",
            "normal-051024-session1-4person.csv\n",
            "normal-051024-session1-5person.csv\n"
          ]
        }
      ]
    },
    {
      "cell_type": "code",
      "source": [
        "print(\"YOLO Predictions in dark conditions\")\n",
        "for i in range(6):\n",
        "    print(i, \"person\")\n",
        "    total_predictions = dark_dfs[i].shape[0]\n",
        "    print(\"Total predictions:\", total_predictions)\n",
        "    wrong_count = dark_dfs[i][dark_dfs[i]['Persons'] != i].shape[0]\n",
        "    print(\"Number of wrong predictions:\", wrong_count)\n",
        "    print(\"======================================\")"
      ],
      "metadata": {
        "colab": {
          "base_uri": "https://localhost:8080/"
        },
        "id": "Kc9wBGMXbIt0",
        "outputId": "948b4436-e91b-4bae-8c78-7cb0db3bc0a0"
      },
      "execution_count": null,
      "outputs": [
        {
          "output_type": "stream",
          "name": "stdout",
          "text": [
            "YOLO Predictions in dark conditions\n",
            "0 person\n",
            "Total predictions: 87\n",
            "Number of wrong predictions: 84\n",
            "======================================\n",
            "1 person\n",
            "Total predictions: 86\n",
            "Number of wrong predictions: 62\n",
            "======================================\n",
            "2 person\n",
            "Total predictions: 85\n",
            "Number of wrong predictions: 26\n",
            "======================================\n",
            "3 person\n",
            "Total predictions: 86\n",
            "Number of wrong predictions: 29\n",
            "======================================\n",
            "4 person\n",
            "Total predictions: 85\n",
            "Number of wrong predictions: 35\n",
            "======================================\n",
            "5 person\n",
            "Total predictions: 86\n",
            "Number of wrong predictions: 68\n",
            "======================================\n"
          ]
        }
      ]
    },
    {
      "cell_type": "code",
      "source": [
        "print(\"YOLO Predictions in normal conditions\")\n",
        "for i in range(6):\n",
        "    print(i, \"person\")\n",
        "    total_predictions = normal_dfs[i].shape[0]\n",
        "    print(\"Total predictions:\", total_predictions)\n",
        "    wrong_count = normal_dfs[i][normal_dfs[i]['Persons'] != i].shape[0]\n",
        "    print(\"Number of wrong predictions:\", wrong_count)\n",
        "    print(\"======================================\")"
      ],
      "metadata": {
        "id": "qUJ6BWTHBMqj",
        "outputId": "68d3b6b9-dfbe-466c-a0de-660e741c320b",
        "colab": {
          "base_uri": "https://localhost:8080/"
        }
      },
      "execution_count": null,
      "outputs": [
        {
          "output_type": "stream",
          "name": "stdout",
          "text": [
            "YOLO Predictions in normal conditions\n",
            "0 person\n",
            "Total predictions: 87\n",
            "Number of wrong predictions: 0\n",
            "======================================\n",
            "1 person\n",
            "Total predictions: 86\n",
            "Number of wrong predictions: 7\n",
            "======================================\n",
            "2 person\n",
            "Total predictions: 85\n",
            "Number of wrong predictions: 10\n",
            "======================================\n",
            "3 person\n",
            "Total predictions: 86\n",
            "Number of wrong predictions: 40\n",
            "======================================\n",
            "4 person\n",
            "Total predictions: 85\n",
            "Number of wrong predictions: 36\n",
            "======================================\n",
            "5 person\n",
            "Total predictions: 86\n",
            "Number of wrong predictions: 68\n",
            "======================================\n"
          ]
        }
      ]
    },
    {
      "cell_type": "code",
      "source": [
        "from sklearn.metrics import median_absolute_error\n",
        "\n",
        "for i in range(6):\n",
        "    target_value = i\n",
        "    target_array = np.full_like(normal_dfs[i]['Persons'], target_value)\n",
        "    med_ae = median_absolute_error(target_array, normal_dfs[i]['Persons'])\n",
        "    print(f'Median Absolute Error (MedAE) of {i} person count: {med_ae}')"
      ],
      "metadata": {
        "colab": {
          "base_uri": "https://localhost:8080/"
        },
        "id": "NHA-Vw26dqlx",
        "outputId": "5bb1ceab-2d95-40c3-f11a-3bcd34a041a5"
      },
      "execution_count": null,
      "outputs": [
        {
          "output_type": "stream",
          "name": "stdout",
          "text": [
            "Median Absolute Error (MedAE) of 0 person count: 0.0\n",
            "Median Absolute Error (MedAE) of 1 person count: 0.0\n",
            "Median Absolute Error (MedAE) of 2 person count: 0.0\n",
            "Median Absolute Error (MedAE) of 3 person count: 0.0\n",
            "Median Absolute Error (MedAE) of 4 person count: 0.0\n",
            "Median Absolute Error (MedAE) of 5 person count: 1.0\n"
          ]
        }
      ]
    },
    {
      "cell_type": "code",
      "source": [
        "average_confidences = []\n",
        "\n",
        "for i in range(6):\n",
        "    average_confidence = normal_dfs[i]['Average Confidence'].mean()\n",
        "    average_confidences.append(average_confidence)\n",
        "\n",
        "# Plotting the results\n",
        "plt.figure(figsize=(10, 6))\n",
        "plt.plot(range(6), average_confidences, marker='o', linestyle='-', color='b')\n",
        "plt.title('Average Confidence Levels in Normal conidition')\n",
        "plt.xlabel('Person Count')\n",
        "plt.ylabel('Average Confidence')\n",
        "plt.xticks(range(6))\n",
        "plt.grid(True)\n",
        "plt.show()"
      ],
      "metadata": {
        "colab": {
          "base_uri": "https://localhost:8080/",
          "height": 564
        },
        "id": "KgeLw5YBfxlf",
        "outputId": "f7514d2f-7ea5-4bab-99b7-594a593f9e72"
      },
      "execution_count": null,
      "outputs": [
        {
          "output_type": "display_data",
          "data": {
            "text/plain": [
              "<Figure size 1000x600 with 1 Axes>"
            ],
            "image/png": "[encoded data removed]"
          },
          "metadata": {}
        }
      ]
    },
    {
      "cell_type": "code",
      "source": [
        "average_confidences = []\n",
        "\n",
        "for i in range(6):\n",
        "    average_confidence = dark_dfs[i]['Average Confidence'].mean()\n",
        "    average_confidences.append(average_confidence)\n",
        "\n",
        "# Plotting the results\n",
        "plt.figure(figsize=(10, 6))\n",
        "plt.plot(range(6), average_confidences, marker='o', linestyle='-', color='b')\n",
        "plt.title('Average Confidence Levels in Dark conidition')\n",
        "plt.xlabel('Person Count')\n",
        "plt.ylabel('Average Confidence')\n",
        "plt.xticks(range(6))\n",
        "plt.grid(True)\n",
        "plt.show()"
      ],
      "metadata": {
        "colab": {
          "base_uri": "https://localhost:8080/",
          "height": 564
        },
        "id": "h0IUiaUYgybF",
        "outputId": "1c6de228-7887-41fe-81d2-ebe68f80a156"
      },
      "execution_count": null,
      "outputs": [
        {
          "output_type": "display_data",
          "data": {
            "text/plain": [
              "<Figure size 1000x600 with 1 Axes>"
            ],
            "image/png": "[encoded data removed]"
          },
          "metadata": {}
        }
      ]
    },
    {
      "cell_type": "markdown",
      "source": [
        "## Combine output"
      ],
      "metadata": {
        "id": "RBqJMhhImsH3"
      }
    },
    {
      "cell_type": "code",
      "source": [
        "for i in range(6):\n",
        "  predictions = prediction_list[i][:len(normal_dfs[i])]\n",
        "  normal_dfs[i]['csi_prediction'] = predictions"
      ],
      "metadata": {
        "id": "UN2Vlgeah1zH"
      },
      "execution_count": null,
      "outputs": []
    },
    {
      "cell_type": "code",
      "source": [
        "for i in range(6):\n",
        "  predictions = prediction_list[i][:len(dark_dfs[i])]\n",
        "  dark_dfs[i]['csi_prediction'] = predictions"
      ],
      "metadata": {
        "id": "LGp1lnP5nmUr"
      },
      "execution_count": null,
      "outputs": []
    },
    {
      "cell_type": "code",
      "source": [
        "cv_weight = 0.6\n",
        "csi_weight = 0.4\n",
        "for i in range(6):\n",
        "  cv_output = normal_dfs[i]['Persons']     # Prediction from CV model\n",
        "  csi_output = normal_dfs[i]['csi_prediction']      # Prediction from CSI model\n",
        "  # Weighted average for final count\n",
        "  normal_dfs[i]['combined_output'] = (cv_weight * cv_output + csi_weight * csi_output) / (cv_weight + csi_weight)"
      ],
      "metadata": {
        "id": "S844XgiPoKit"
      },
      "execution_count": null,
      "outputs": []
    },
    {
      "cell_type": "code",
      "source": [
        "cv_weight = 0.3\n",
        "csi_weight = 0.7\n",
        "for i in range(6):\n",
        "  cv_output = dark_dfs[i]['Persons']     # Prediction from CV model\n",
        "  csi_output = dark_dfs[i]['csi_prediction']      # Prediction from CSI model\n",
        "  # Weighted average for final count\n",
        "  dark_dfs[i]['combined_output'] = (cv_weight * cv_output + csi_weight * csi_output) / (cv_weight + csi_weight)"
      ],
      "metadata": {
        "id": "IFj8s9Agouq6"
      },
      "execution_count": null,
      "outputs": []
    },
    {
      "cell_type": "code",
      "source": [
        "print(normal_dfs[0])"
      ],
      "metadata": {
        "id": "ej9L0rHso3mV",
        "outputId": "af079049-1610-42b6-cf13-2053b84ee1a4",
        "colab": {
          "base_uri": "https://localhost:8080/"
        }
      },
      "execution_count": null,
      "outputs": [
        {
          "output_type": "stream",
          "name": "stdout",
          "text": [
            "                           Image  Persons  Average Confidence  csi_prediction  \\\n",
            "0    frame_1728097998.855235.jpg        0                 0.0        0.015930   \n",
            "1   frame_1728098000.9172633.jpg        0                 0.0        0.038189   \n",
            "2   frame_1728098002.9793704.jpg        0                 0.0       -0.024844   \n",
            "3    frame_1728098005.035101.jpg        0                 0.0       -0.005996   \n",
            "4   frame_1728098007.0977054.jpg        0                 0.0        0.134820   \n",
            "..                           ...      ...                 ...             ...   \n",
            "82  frame_1728098166.7888803.jpg        0                 0.0        0.079353   \n",
            "83  frame_1728098168.8334026.jpg        0                 0.0        0.074596   \n",
            "84  frame_1728098170.8800275.jpg        0                 0.0        0.086957   \n",
            "85  frame_1728098172.9336915.jpg        0                 0.0        0.043418   \n",
            "86  frame_1728098175.0015726.jpg        0                 0.0        0.037239   \n",
            "\n",
            "    combined_output  \n",
            "0          0.006372  \n",
            "1          0.015276  \n",
            "2         -0.009938  \n",
            "3         -0.002399  \n",
            "4          0.053928  \n",
            "..              ...  \n",
            "82         0.031741  \n",
            "83         0.029838  \n",
            "84         0.034783  \n",
            "85         0.017367  \n",
            "86         0.014895  \n",
            "\n",
            "[87 rows x 5 columns]\n"
          ]
        }
      ]
    },
    {
      "cell_type": "code",
      "source": [
        "print(dark_dfs[0])"
      ],
      "metadata": {
        "id": "ZFz9owAjo7l3",
        "outputId": "da182562-16e2-471f-9dfc-92fab87bdfc6",
        "colab": {
          "base_uri": "https://localhost:8080/"
        }
      },
      "execution_count": null,
      "outputs": [
        {
          "output_type": "stream",
          "name": "stdout",
          "text": [
            "                           Image  Persons  Average Confidence  csi_prediction  \\\n",
            "0    frame_1728097998.855235.jpg        1                0.97        0.015930   \n",
            "1   frame_1728098000.9172633.jpg        1                0.89        0.038189   \n",
            "2   frame_1728098002.9793704.jpg        1                0.99       -0.024844   \n",
            "3    frame_1728098005.035101.jpg        1                0.63       -0.005996   \n",
            "4   frame_1728098007.0977054.jpg        1                0.98        0.134820   \n",
            "..                           ...      ...                 ...             ...   \n",
            "82  frame_1728098166.7888803.jpg        1                0.82        0.079353   \n",
            "83  frame_1728098168.8334026.jpg        2                0.79        0.074596   \n",
            "84  frame_1728098170.8800275.jpg        2                0.63        0.086957   \n",
            "85  frame_1728098172.9336915.jpg        2                0.65        0.043418   \n",
            "86  frame_1728098175.0015726.jpg        2                0.89        0.037239   \n",
            "\n",
            "    combined_output  \n",
            "0          0.311151  \n",
            "1          0.326732  \n",
            "2          0.282609  \n",
            "3          0.295802  \n",
            "4          0.394374  \n",
            "..              ...  \n",
            "82         0.355547  \n",
            "83         0.652217  \n",
            "84         0.660870  \n",
            "85         0.630392  \n",
            "86         0.626067  \n",
            "\n",
            "[87 rows x 5 columns]\n"
          ]
        }
      ]
    },
    {
      "cell_type": "code",
      "source": [
        "from sklearn.metrics import median_absolute_error\n",
        "\n",
        "for i in range(6):\n",
        "    target_value = i\n",
        "    target_array = np.full_like(normal_dfs[i]['combined_output'], target_value)\n",
        "    med_ae = median_absolute_error(target_array, normal_dfs[i]['combined_output'])\n",
        "    print(f'Median Absolute Error (MedAE) of {i} person count: {med_ae}')"
      ],
      "metadata": {
        "id": "Ey4UdJnHo-mX",
        "outputId": "0a2f0395-fa5b-496f-bf30-92fe1436374c",
        "colab": {
          "base_uri": "https://localhost:8080/"
        }
      },
      "execution_count": null,
      "outputs": [
        {
          "output_type": "stream",
          "name": "stdout",
          "text": [
            "Median Absolute Error (MedAE) of 0 person count: 0.02671736478805542\n",
            "Median Absolute Error (MedAE) of 1 person count: 0.025675043463707026\n",
            "Median Absolute Error (MedAE) of 2 person count: 0.06927375793457036\n",
            "Median Absolute Error (MedAE) of 3 person count: 0.21985849738121033\n",
            "Median Absolute Error (MedAE) of 4 person count: 0.15911409854888925\n",
            "Median Absolute Error (MedAE) of 5 person count: 0.70615199804306\n"
          ]
        }
      ]
    },
    {
      "cell_type": "code",
      "source": [
        "from sklearn.metrics import median_absolute_error\n",
        "\n",
        "for i in range(6):\n",
        "    target_value = i\n",
        "    target_array = np.full_like(dark_dfs[i]['combined_output'], target_value)\n",
        "    med_ae = median_absolute_error(target_array, dark_dfs[i]['combined_output'])\n",
        "    print(f'Median Absolute Error (MedAE) of {i} person count: {med_ae}')"
      ],
      "metadata": {
        "id": "tnHLmnj-pIa-",
        "outputId": "d5ba44e4-2cca-458c-d1df-04426b1dc1f3",
        "colab": {
          "base_uri": "https://localhost:8080/"
        }
      },
      "execution_count": null,
      "outputs": [
        {
          "output_type": "stream",
          "name": "stdout",
          "text": [
            "Median Absolute Error (MedAE) of 0 person count: 0.352093543112278\n",
            "Median Absolute Error (MedAE) of 1 person count: 0.2925828754901887\n",
            "Median Absolute Error (MedAE) of 2 person count: 0.12122907638549796\n",
            "Median Absolute Error (MedAE) of 3 person count: 0.24160888195037833\n",
            "Median Absolute Error (MedAE) of 4 person count: 0.17560224533081037\n",
            "Median Absolute Error (MedAE) of 5 person count: 0.4780432462692259\n"
          ]
        }
      ]
    },
    {
      "cell_type": "code",
      "source": [
        "print(\"YOLO Predictions in dark conditions\")\n",
        "for i in range(6):\n",
        "    print(i, \"person\")\n",
        "    total_predictions = dark_dfs[i].shape[0]\n",
        "    print(\"Total predictions:\", total_predictions)\n",
        "    wrong_count = dark_dfs[i][round(dark_dfs[i]['combined_output']) != i].shape[0]\n",
        "    print(\"Number of wrong predictions:\", wrong_count)\n",
        "    print(\"======================================\")"
      ],
      "metadata": {
        "id": "VlmzOu8JpQjW",
        "outputId": "8f2f1414-efa7-4419-f52e-5c1d896f6327",
        "colab": {
          "base_uri": "https://localhost:8080/"
        }
      },
      "execution_count": null,
      "outputs": [
        {
          "output_type": "stream",
          "name": "stdout",
          "text": [
            "YOLO Predictions in dark conditions\n",
            "0 person\n",
            "Total predictions: 87\n",
            "Number of wrong predictions: 11\n",
            "======================================\n",
            "1 person\n",
            "Total predictions: 86\n",
            "Number of wrong predictions: 13\n",
            "======================================\n",
            "2 person\n",
            "Total predictions: 85\n",
            "Number of wrong predictions: 10\n",
            "======================================\n",
            "3 person\n",
            "Total predictions: 86\n",
            "Number of wrong predictions: 10\n",
            "======================================\n",
            "4 person\n",
            "Total predictions: 85\n",
            "Number of wrong predictions: 11\n",
            "======================================\n",
            "5 person\n",
            "Total predictions: 86\n",
            "Number of wrong predictions: 40\n",
            "======================================\n"
          ]
        }
      ]
    }
  ],
  "metadata": {
    "language_info": {
      "name": "python"
    },
    "colab": {
      "provenance": []
    },
    "kernelspec": {
      "name": "python3",
      "display_name": "Python 3"
    }
  },
  "nbformat": 4,
  "nbformat_minor": 0
}