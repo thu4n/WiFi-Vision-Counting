{
 "cells": [
  {
   "cell_type": "markdown",
   "metadata": {
    "id": "vBOwIqqSDWVf"
   },
   "source": [
    "## Prep"
   ]
  },
  {
   "cell_type": "code",
   "execution_count": 3,
   "metadata": {
    "id": "YuljIeZ-D9by"
   },
   "outputs": [],
   "source": [
    "import numpy as np\n",
    "import pandas as pd\n",
    "import os\n",
    "import re"
   ]
  },
  {
   "cell_type": "code",
   "execution_count": 4,
   "metadata": {
    "colab": {
     "base_uri": "https://localhost:8080/"
    },
    "id": "FXye7qU_EPjF",
    "outputId": "f6d61395-e066-4fab-c22b-8af93efe301f"
   },
   "outputs": [
    {
     "name": "stdout",
     "output_type": "stream",
     "text": [
      "Mounted at /content/drive\n"
     ]
    }
   ],
   "source": [
    "from google.colab import drive\n",
    "drive.mount('/content/drive')"
   ]
  },
  {
   "cell_type": "code",
   "execution_count": 9,
   "metadata": {
    "colab": {
     "base_uri": "https://localhost:8080/"
    },
    "id": "OeyxHeCsEYQK",
    "outputId": "4f3b4c94-167f-49d1-d5d1-71dc1bcd2e7c"
   },
   "outputs": [
    {
     "name": "stdout",
     "output_type": "stream",
     "text": [
      "csi-filtered-d1-sess02-0.csv\n",
      "label: 0\n",
      "csi-filtered-d1-sess02-1.csv\n",
      "label: 1\n",
      "csi-filtered-d1-sess02-2.csv\n",
      "label: 2\n",
      "csi-filtered-d1-sess02-3.csv\n",
      "label: 3\n",
      "csi-filtered-d1-sess02-4.csv\n",
      "label: 4\n",
      "csi-filtered-d1-sess02-5.csv\n",
      "label: 5\n",
      "csi-filtered-d1-sess01-0.csv\n",
      "label: 0\n",
      "csi-filtered-d1-sess01-1.csv\n",
      "label: 1\n",
      "csi-filtered-d1-sess01-2.csv\n",
      "label: 2\n",
      "csi-filtered-d1-sess01-3.csv\n",
      "label: 3\n",
      "csi-filtered-d1-sess01-4.csv\n",
      "label: 4\n",
      "csi-filtered-d1-sess01-5.csv\n",
      "label: 5\n",
      "Number of dataframes loaded:  12\n"
     ]
    }
   ],
   "source": [
    "processed_folder = '/content/drive/MyDrive/UIT/UIT_Graduation_Thesis/Dataset/1_Processed/CSI_Filtered_Amp'\n",
    "raw_folder_ss1 = '/content/drive/MyDrive/UIT/UIT_Graduation_Thesis/Dataset/0_Raw/2024-09-28/CSI_Packets/session_1'\n",
    "raw_folder_ss2 = '/content/drive/MyDrive/UIT/UIT_Graduation_Thesis/Dataset/0_Raw/2024-09-28/CSI_Packets/session_2'\n",
    "\n",
    "# List all files in the folder\n",
    "processed_list = [f for f in os.listdir(processed_folder) if f.endswith('.csv')]\n",
    "\n",
    "dfs = []\n",
    "for file_name in processed_list:\n",
    "    match = re.search(r\"csi-filtered-d1-sess0(\\d+)-(\\d+)\", file_name)\n",
    "    if match:\n",
    "      print(file_name)\n",
    "      session = match.group(1)\n",
    "      label = match.group(2)\n",
    "      print(\"label:\", label)\n",
    "      file_path = os.path.join(processed_folder, file_name)\n",
    "      df = pd.read_csv(file_path)\n",
    "\n",
    "      raw_folder = raw_folder_ss1 if session == '1' else raw_folder_ss2\n",
    "      raw_file_name = f'{label}_persons{\"_cont\" if session == \"2\" else \"\"}.csv'\n",
    "      raw_file_path = os.path.join(raw_folder, raw_file_name)\n",
    "\n",
    "      if os.path.exists(raw_file_path):\n",
    "        rssi_df = pd.read_csv(raw_file_path, usecols=['rssi'])\n",
    "        if not rssi_df.empty:  # Check if rssi_df is not empty\n",
    "          df[\"rssi\"] = rssi_df[\"rssi\"]\n",
    "      df[\"label\"] = int(label)\n",
    "      dfs.append(df)\n",
    "print(\"Number of dataframes loaded: \", len(dfs))"
   ]
  },
  {
   "cell_type": "code",
   "execution_count": null,
   "metadata": {
    "colab": {
     "base_uri": "https://localhost:8080/"
    },
    "id": "Ph4C0bpdcTAq",
    "outputId": "b97f82bc-fe49-4046-b81e-f00e53c78c94"
   },
   "outputs": [
    {
     "name": "stdout",
     "output_type": "stream",
     "text": [
      "(16413, 54)\n"
     ]
    }
   ],
   "source": [
    "print(dfs[5].shape)"
   ]
  },
  {
   "cell_type": "code",
   "execution_count": null,
   "metadata": {
    "colab": {
     "base_uri": "https://localhost:8080/"
    },
    "id": "MfH3ho2yOpHS",
    "outputId": "26a43522-2363-4fc6-ae8e-90b8b45c08b8"
   },
   "outputs": [
    {
     "name": "stdout",
     "output_type": "stream",
     "text": [
      "          0         1          2          3          4          5          6  \\\n",
      "0  6.856949  5.269875   7.714059   8.905305   8.597433  10.339726  12.420630   \n",
      "1  7.911175  7.323215   8.941853  11.844399  10.477811  11.429932  14.011089   \n",
      "2  8.707656  8.641500  10.204781  13.145867  11.801256  12.291970  14.955239   \n",
      "3  9.233672  9.336433  11.365571  13.224723  12.621846  12.922443  15.350582   \n",
      "4  9.476501  9.519715  12.286951  12.495981  12.993661  13.317955  15.294616   \n",
      "\n",
      "           7          8          9  ...         44         45         46  \\\n",
      "0  11.518278  11.942980  13.156781  ...  21.828870  21.556131  20.271051   \n",
      "1  13.766368  14.628056  17.159597  ...  25.920977  26.293710  25.953205   \n",
      "2  14.982780  16.366386  19.455177  ...  28.387842  29.419357  29.412523   \n",
      "3  15.383103  17.269861  20.353092  ...  29.484460  31.131224  31.017698   \n",
      "4  15.182922  17.450370  20.162910  ...  29.465820  31.627470  31.137420   \n",
      "\n",
      "          47         48         49         50         51  rssi  label  \n",
      "0  21.884096  21.179005  23.608856  20.812855  21.774332   -72      5  \n",
      "1  26.441620  27.585775  28.410398  26.739222  27.145428   -72      5  \n",
      "2  29.318096  31.310308  31.085896  30.490297  30.127615   -72      5  \n",
      "3  30.776579  32.788616  31.992130  32.393875  31.175093   -71      5  \n",
      "4  31.080116  32.456710  31.485884  32.777752  30.742065   -71      5  \n",
      "\n",
      "[5 rows x 54 columns]\n"
     ]
    }
   ],
   "source": [
    "print(dfs[5].head(5))"
   ]
  },
  {
   "cell_type": "markdown",
   "metadata": {
    "id": "w_h-o_9nDYpI"
   },
   "source": [
    "## Feature Extraction"
   ]
  },
  {
   "cell_type": "markdown",
   "metadata": {
    "id": "p6BILx9naItp"
   },
   "source": [
    "### Segmentation and extraction"
   ]
  },
  {
   "cell_type": "code",
   "execution_count": 10,
   "metadata": {
    "id": "pz2N7FddLPcu"
   },
   "outputs": [],
   "source": [
    "def segment_data(data, window_size=200, overlap=50):\n",
    "    \"\"\"\n",
    "    Segments data into overlapping windows.\n",
    "\n",
    "    Args:\n",
    "        data (numpy.ndarray): The data to segment (CSI or RSS).\n",
    "        window_size (int): Size of each window in samples.\n",
    "        overlap (int): Overlap between consecutive windows in samples.\n",
    "\n",
    "    Returns:\n",
    "        list: A list of segmented data windows.\n",
    "    \"\"\"\n",
    "\n",
    "    segmented_data = []\n",
    "    for i in range(0, data.shape[0] - window_size + 1, window_size - overlap):\n",
    "        window = data[i:i+window_size] if data.ndim == 1 else data[i:i+window_size, :]\n",
    "        segmented_data.append(window)\n",
    "    return segmented_data"
   ]
  },
  {
   "cell_type": "code",
   "execution_count": null,
   "metadata": {
    "id": "CiEbOV-5E1HT"
   },
   "outputs": [],
   "source": [
    "def extract_features(csi_bundle):\n",
    "    \"\"\"\n",
    "    Args:\n",
    "        csi_bundle: numpy array containing CSI amplitude data (shape: [packets, subcarriers])\n",
    "\n",
    "    Returns:\n",
    "        A dictionary containing the calculated statistics.\n",
    "    \"\"\"\n",
    "    features = {}\n",
    "    for i in range(csi_bundle.shape[1] - 1): # Loop through each subcarrier\n",
    "      features[f'std_subcarrier_{i}'] = np.std(csi_bundle[:, i]) # Standard deviation\n",
    "      features[f'mean_subcarrier_{i}'] = np.mean(csi_bundle[:, i]) # The average amplitude value\n",
    "      features[f'max_subcarrier_{i}'] = np.max(csi_bundle[:, i])\n",
    "      features[f'min_subcarrier_{i}'] = np.min(csi_bundle[:, i])\n",
    "      features[f'qtu_subcarrier_{i}'] = np.percentile(csi_bundle[:, i], 75) # Upper quartile\n",
    "      features[f'qtl_subcarrier_{i}'] = np.percentile(csi_bundle[:, i], 25) # Lower quartile\n",
    "      features[f'iqr_subcarrier_{i}'] = features[f'qtu_subcarrier_{i}'] - features[f'qtl_subcarrier_{i}']\n",
    "      if i >= 2 and i <= 49:\n",
    "        diff = 0\n",
    "        for j in range(1,3):  # Ignore first and last two subcarriers\n",
    "            diff += np.sum(\n",
    "                np.abs(csi_bundle[:, i] - csi_bundle[:, i - j]) + np.abs(csi_bundle[:, i + j] - csi_bundle[:, i])\n",
    "          )\n",
    "        features[f'adj_subcarrier_{i-2}'] = diff\n",
    "\n",
    "    euclidean_distances = []\n",
    "    for i in range(1, csi_bundle.shape[0]):  # Loop through packets starting from the second\n",
    "      distances = np.linalg.norm(csi_bundle[i, :] - csi_bundle[i-1, :], axis=0)\n",
    "      euclidean_distances.append(distances)\n",
    "\n",
    "    features['euc'] = np.median(euclidean_distances)\n",
    "    features['rss_std']= np.std(csi_bundle[:, -1])\n",
    "    features = pd.DataFrame([features])\n",
    "    return features"
   ]
  },
  {
   "cell_type": "code",
   "execution_count": 12,
   "metadata": {
    "colab": {
     "base_uri": "https://localhost:8080/"
    },
    "id": "cyzazn_LFONV",
    "outputId": "05b1fe61-a4ad-4bab-a0a7-a2c5373e1159"
   },
   "outputs": [
    {
     "name": "stdout",
     "output_type": "stream",
     "text": [
      "Extracting features for CSI data of 0 people\n",
      "There are 104 segments to extract\n",
      "Extracting features for CSI data of 1 people\n",
      "There are 108 segments to extract\n",
      "Extracting features for CSI data of 2 people\n",
      "There are 108 segments to extract\n",
      "Extracting features for CSI data of 3 people\n",
      "There are 101 segments to extract\n",
      "Extracting features for CSI data of 4 people\n",
      "There are 104 segments to extract\n",
      "Extracting features for CSI data of 5 people\n",
      "There are 109 segments to extract\n",
      "Extracting features for CSI data of 0 people\n",
      "There are 119 segments to extract\n",
      "Extracting features for CSI data of 1 people\n",
      "There are 106 segments to extract\n",
      "Extracting features for CSI data of 2 people\n",
      "There are 105 segments to extract\n",
      "Extracting features for CSI data of 3 people\n",
      "There are 104 segments to extract\n",
      "Extracting features for CSI data of 4 people\n",
      "There are 103 segments to extract\n",
      "Extracting features for CSI data of 5 people\n",
      "There are 89 segments to extract\n"
     ]
    }
   ],
   "source": [
    "# Segementation and Extraction begin here\n",
    "features_list = []\n",
    "features_labels = []\n",
    "for df in dfs:\n",
    "  print(f\"Extracting features for CSI data of {df['label'][0]} people\")\n",
    "  temp_df = df.copy()\n",
    "  temp_df = temp_df.drop(\"label\", axis=1)\n",
    "  temp_np_array = np.array(temp_df) # Turn into numpy array for easier matrix calculation\n",
    "  segments = segment_data(temp_np_array)\n",
    "  print(f\"There are {len(segments)} segments to extract\")\n",
    "  for segment in segments:\n",
    "    features = extract_features(segment)\n",
    "    features_list.append(features)\n",
    "    features_labels.append(df['label'][0])"
   ]
  },
  {
   "cell_type": "code",
   "execution_count": null,
   "metadata": {
    "colab": {
     "base_uri": "https://localhost:8080/"
    },
    "id": "eURlw0ajKl8L",
    "outputId": "56f725ff-2d5d-4f80-fa55-ab64cbbafd2a"
   },
   "outputs": [
    {
     "name": "stdout",
     "output_type": "stream",
     "text": [
      "935\n"
     ]
    }
   ],
   "source": [
    "print(len(features_list))"
   ]
  },
  {
   "cell_type": "code",
   "execution_count": null,
   "metadata": {
    "colab": {
     "base_uri": "https://localhost:8080/"
    },
    "id": "31WVDq9vKqYs",
    "outputId": "7d819e9c-5c1e-459b-946b-e1d98263f32f"
   },
   "outputs": [
    {
     "name": "stdout",
     "output_type": "stream",
     "text": [
      "   std_subcarrier_0  mean_subcarrier_0  max_subcarrier_0  min_subcarrier_0  \\\n",
      "0          2.425237           19.55163         26.262447         12.873449   \n",
      "\n",
      "   qtu_subcarrier_0  qtl_subcarrier_0  iqr_subcarrier_0  std_subcarrier_1  \\\n",
      "0         21.231588         18.050487          3.181101          2.142136   \n",
      "\n",
      "   mean_subcarrier_1  max_subcarrier_1  ...  iqr_subcarrier_50  \\\n",
      "0          19.075911         24.315708  ...           1.908455   \n",
      "\n",
      "   std_subcarrier_51  mean_subcarrier_51  max_subcarrier_51  \\\n",
      "0           1.661191           19.363485           27.38048   \n",
      "\n",
      "   min_subcarrier_51  qtu_subcarrier_51  qtl_subcarrier_51  iqr_subcarrier_51  \\\n",
      "0          15.994982          20.238808          18.216065           2.022742   \n",
      "\n",
      "        euc   rss_std  \n",
      "0  4.369358  1.645532  \n",
      "\n",
      "[1 rows x 414 columns]\n"
     ]
    }
   ],
   "source": [
    "print(features_list[0])"
   ]
  },
  {
   "cell_type": "markdown",
   "metadata": {
    "id": "Kpx3877paB_b"
   },
   "source": [
    "### Export features"
   ]
  },
  {
   "cell_type": "code",
   "execution_count": null,
   "metadata": {
    "id": "kWGTW_-NuEfm"
   },
   "outputs": [],
   "source": [
    "label_groups = {}\n",
    "\n",
    "# Group features by label\n",
    "for features, label in zip(features_list, features_labels):\n",
    "    if label not in label_groups:\n",
    "        label_groups[label] = []\n",
    "    label_groups[label].append(features)\n",
    "\n",
    "# Concatenate and export DataFrames for each label\n",
    "for label, dfs in label_groups.items():\n",
    "    concatenated_df = pd.concat(dfs, ignore_index=True)\n",
    "    name = f\"csi-features-full-d1-{label}.csv\"\n",
    "    concatenated_df.to_csv(f'/content/drive/MyDrive/UIT/UIT_Graduation_Thesis/Dataset/1_Processed/CSI_Features/{name}', index=False)"
   ]
  }
 ],
 "metadata": {
  "colab": {
   "provenance": [],
   "toc_visible": true
  },
  "kernelspec": {
   "display_name": "Python 3",
   "name": "python3"
  },
  "language_info": {
   "name": "python"
  }
 },
 "nbformat": 4,
 "nbformat_minor": 0
}
