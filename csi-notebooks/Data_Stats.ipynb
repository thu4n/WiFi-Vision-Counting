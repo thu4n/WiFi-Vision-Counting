{
  "nbformat": 4,
  "nbformat_minor": 0,
  "metadata": {
    "colab": {
      "provenance": []
    },
    "kernelspec": {
      "name": "python3",
      "display_name": "Python 3"
    },
    "language_info": {
      "name": "python"
    }
  },
  "cells": [
    {
      "cell_type": "markdown",
      "source": [
        "## Prep"
      ],
      "metadata": {
        "id": "bpzezpD3ygjA"
      }
    },
    {
      "cell_type": "code",
      "execution_count": 1,
      "metadata": {
        "id": "ShGjTUiIx61j"
      },
      "outputs": [],
      "source": [
        "import numpy as np\n",
        "import pandas as pd\n",
        "import matplotlib.pyplot as plt\n",
        "import os\n",
        "import re"
      ]
    },
    {
      "cell_type": "code",
      "source": [
        "from google.colab import drive\n",
        "drive.mount('/content/drive')"
      ],
      "metadata": {
        "colab": {
          "base_uri": "https://localhost:8080/"
        },
        "id": "kRVeuCUnyL9d",
        "outputId": "ea3ce873-6fb1-4260-acf6-d90511214ed0"
      },
      "execution_count": 2,
      "outputs": [
        {
          "output_type": "stream",
          "name": "stdout",
          "text": [
            "Mounted at /content/drive\n"
          ]
        }
      ]
    },
    {
      "cell_type": "markdown",
      "source": [
        "## CSI"
      ],
      "metadata": {
        "id": "i-KL8QOOyfWq"
      }
    },
    {
      "cell_type": "code",
      "source": [
        "def merge_csv_files_from_folders(folder_list):\n",
        "  \"\"\"\n",
        "  Merges CSV files from a list of folders based on a label extracted from the filenames.\n",
        "\n",
        "  Args:\n",
        "      folder_list (list): A list of folder paths containing CSV files.\n",
        "\n",
        "  Returns:\n",
        "      pd.DataFrame: The merged DataFrame containing data from all folders.\n",
        "  \"\"\"\n",
        "\n",
        "  all_dfs = []\n",
        "\n",
        "  for folder_path in folder_list:\n",
        "    file_list = [f for f in os.listdir(folder_path) if f.endswith('.csv')]\n",
        "    for file_name in file_list:\n",
        "      match = re.search(r\"(\\d+)_persons\", file_name)\n",
        "      if match:\n",
        "        label = int(match.group(1))\n",
        "        file_path = os.path.join(folder_path, file_name)\n",
        "        print(file_path)\n",
        "        print(\"Label: \",label)\n",
        "        df = pd.read_csv(file_path)\n",
        "        df[\"label\"] = label\n",
        "        all_dfs.append(df)\n",
        "\n",
        "  merged_df = pd.concat(all_dfs, ignore_index=True)  # Combine all DataFrames\n",
        "\n",
        "  return merged_df"
      ],
      "metadata": {
        "id": "Rcc-yMiJ0sUT"
      },
      "execution_count": 8,
      "outputs": []
    },
    {
      "cell_type": "markdown",
      "source": [
        "### 28/09/2024"
      ],
      "metadata": {
        "id": "jR-LFyj5ypfA"
      }
    },
    {
      "cell_type": "code",
      "source": [
        "folder_list = [\n",
        "    '/content/drive/MyDrive/UIT/UIT_Graduation_Thesis/Dataset/0_Raw/2024-09-28/CSI_Packets/session_1',\n",
        "    '/content/drive/MyDrive/UIT/UIT_Graduation_Thesis/Dataset/0_Raw/2024-09-28/CSI_Packets/session_2',\n",
        "    # Add more folder paths here\n",
        "]\n",
        "\n",
        "merged_df = merge_csv_files_from_folders(folder_list)\n",
        "\n",
        "print(\"Merged DataFrame:\")\n",
        "print(merged_df.shape)  # Display the first few rows"
      ],
      "metadata": {
        "colab": {
          "base_uri": "https://localhost:8080/"
        },
        "id": "81TihGjD0M49",
        "outputId": "e9cafb25-cb25-4559-9527-0402211548c9"
      },
      "execution_count": 9,
      "outputs": [
        {
          "output_type": "stream",
          "name": "stdout",
          "text": [
            "/content/drive/MyDrive/UIT/UIT_Graduation_Thesis/Dataset/0_Raw/2024-09-28/CSI_Packets/session01/5_persons.csv\n",
            "Label:  5\n",
            "/content/drive/MyDrive/UIT/UIT_Graduation_Thesis/Dataset/0_Raw/2024-09-28/CSI_Packets/session01/4_persons.csv\n",
            "Label:  4\n",
            "/content/drive/MyDrive/UIT/UIT_Graduation_Thesis/Dataset/0_Raw/2024-09-28/CSI_Packets/session01/3_persons.csv\n",
            "Label:  3\n",
            "/content/drive/MyDrive/UIT/UIT_Graduation_Thesis/Dataset/0_Raw/2024-09-28/CSI_Packets/session01/2_persons.csv\n",
            "Label:  2\n",
            "/content/drive/MyDrive/UIT/UIT_Graduation_Thesis/Dataset/0_Raw/2024-09-28/CSI_Packets/session01/1_persons.csv\n",
            "Label:  1\n",
            "/content/drive/MyDrive/UIT/UIT_Graduation_Thesis/Dataset/0_Raw/2024-09-28/CSI_Packets/session01/0_persons.csv\n",
            "Label:  0\n",
            "/content/drive/MyDrive/UIT/UIT_Graduation_Thesis/Dataset/0_Raw/2024-09-28/CSI_Packets/session02/5_persons_hidden.csv\n",
            "Label:  5\n",
            "/content/drive/MyDrive/UIT/UIT_Graduation_Thesis/Dataset/0_Raw/2024-09-28/CSI_Packets/session02/4_persons_cont.csv\n",
            "Label:  4\n",
            "/content/drive/MyDrive/UIT/UIT_Graduation_Thesis/Dataset/0_Raw/2024-09-28/CSI_Packets/session02/3_persons_cont.csv\n",
            "Label:  3\n",
            "/content/drive/MyDrive/UIT/UIT_Graduation_Thesis/Dataset/0_Raw/2024-09-28/CSI_Packets/session02/2_persons_cont.csv\n",
            "Label:  2\n",
            "/content/drive/MyDrive/UIT/UIT_Graduation_Thesis/Dataset/0_Raw/2024-09-28/CSI_Packets/session02/1_persons_cont.csv\n",
            "Label:  1\n",
            "/content/drive/MyDrive/UIT/UIT_Graduation_Thesis/Dataset/0_Raw/2024-09-28/CSI_Packets/session02/0_persons_cont.csv\n",
            "Label:  0\n",
            "Merged DataFrame:\n",
            "(190659, 28)\n"
          ]
        }
      ]
    },
    {
      "cell_type": "code",
      "source": [
        "# Count occurrences of each label\n",
        "label_counts = merged_df[\"label\"].value_counts()\n",
        "\n",
        "print(label_counts)"
      ],
      "metadata": {
        "colab": {
          "base_uri": "https://localhost:8080/"
        },
        "id": "XD630W638_oN",
        "outputId": "9c039d2d-4c03-4a8f-fdee-602fac530a12"
      },
      "execution_count": 18,
      "outputs": [
        {
          "output_type": "stream",
          "name": "stdout",
          "text": [
            "label\n",
            "0    33701\n",
            "1    32469\n",
            "2    32222\n",
            "4    31301\n",
            "3    31025\n",
            "5    29941\n",
            "Name: count, dtype: int64\n"
          ]
        }
      ]
    },
    {
      "cell_type": "code",
      "source": [
        "# Group the DataFrame by the \"label\" column and count the occurrences\n",
        "label_counts_1 = merged_df.groupby(\"label\").size()\n",
        "\n",
        "# Sort the Series by the label names\n",
        "label_counts_1 = label_counts_1.sort_index()\n",
        "\n",
        "# Draw the bar chart\n",
        "label_counts_1.plot(kind='bar',rot=360)\n",
        "plt.title('Số lượng mỗi nhãn')\n",
        "plt.xlabel('Nhãn')\n",
        "plt.yticks([])\n",
        "\n",
        "for i, (label, count) in enumerate(label_counts_1.items()):\n",
        "    plt.annotate(str(count), xy=(i, count), ha='center', va='bottom')\n",
        "\n",
        "plt.show()"
      ],
      "metadata": {
        "colab": {
          "base_uri": "https://localhost:8080/",
          "height": 474
        },
        "id": "G3PAI4KeAnDT",
        "outputId": "6690a962-c3d3-45fd-b66d-b468268f3b81"
      },
      "execution_count": 46,
      "outputs": [
        {
          "output_type": "display_data",
          "data": {
            "text/plain": [
              "<Figure size 640x480 with 1 Axes>"
            ],
            "image/png": "[encoded data removed]"
          },
          "metadata": {}
        }
      ]
    },
    {
      "cell_type": "markdown",
      "source": [
        "### 05/10/2024"
      ],
      "metadata": {
        "id": "QwUQL9DK1oGh"
      }
    },
    {
      "cell_type": "code",
      "source": [
        "folder_list = [\n",
        "    '/content/drive/MyDrive/UIT/UIT_Graduation_Thesis/Dataset/0_Raw/2024-10-05/CSI_Packets/session_1',\n",
        "    '/content/drive/MyDrive/UIT/UIT_Graduation_Thesis/Dataset/0_Raw/2024-10-05/CSI_Packets/session_2',\n",
        "    # Add more folder paths here\n",
        "]\n",
        "\n",
        "merged_df_2 = merge_csv_files_from_folders(folder_list)\n",
        "\n",
        "print(\"Merged DataFrame:\")\n",
        "print(merged_df_2.shape)  # Display the first few rows"
      ],
      "metadata": {
        "colab": {
          "base_uri": "https://localhost:8080/"
        },
        "id": "Jtv4b6rC2BJi",
        "outputId": "e0ac0098-85b1-41c4-b4cc-b8883cc6ae10"
      },
      "execution_count": 12,
      "outputs": [
        {
          "output_type": "stream",
          "name": "stdout",
          "text": [
            "/content/drive/MyDrive/UIT/UIT_Graduation_Thesis/Dataset/0_Raw/2024-10-05/CSI_Packets/session_1/5_persons.csv\n",
            "Label:  5\n",
            "/content/drive/MyDrive/UIT/UIT_Graduation_Thesis/Dataset/0_Raw/2024-10-05/CSI_Packets/session_1/4_persons.csv\n",
            "Label:  4\n",
            "/content/drive/MyDrive/UIT/UIT_Graduation_Thesis/Dataset/0_Raw/2024-10-05/CSI_Packets/session_1/3_persons.csv\n",
            "Label:  3\n",
            "/content/drive/MyDrive/UIT/UIT_Graduation_Thesis/Dataset/0_Raw/2024-10-05/CSI_Packets/session_1/2_persons.csv\n",
            "Label:  2\n",
            "/content/drive/MyDrive/UIT/UIT_Graduation_Thesis/Dataset/0_Raw/2024-10-05/CSI_Packets/session_1/1_persons.csv\n",
            "Label:  1\n",
            "/content/drive/MyDrive/UIT/UIT_Graduation_Thesis/Dataset/0_Raw/2024-10-05/CSI_Packets/session_1/0_persons.csv\n",
            "Label:  0\n",
            "/content/drive/MyDrive/UIT/UIT_Graduation_Thesis/Dataset/0_Raw/2024-10-05/CSI_Packets/session_2/5_persons.csv\n",
            "Label:  5\n",
            "/content/drive/MyDrive/UIT/UIT_Graduation_Thesis/Dataset/0_Raw/2024-10-05/CSI_Packets/session_2/4_persons.csv\n",
            "Label:  4\n",
            "/content/drive/MyDrive/UIT/UIT_Graduation_Thesis/Dataset/0_Raw/2024-10-05/CSI_Packets/session_2/3_persons.csv\n",
            "Label:  3\n",
            "/content/drive/MyDrive/UIT/UIT_Graduation_Thesis/Dataset/0_Raw/2024-10-05/CSI_Packets/session_2/2_persons.csv\n",
            "Label:  2\n",
            "/content/drive/MyDrive/UIT/UIT_Graduation_Thesis/Dataset/0_Raw/2024-10-05/CSI_Packets/session_2/1_persons.csv\n",
            "Label:  1\n",
            "/content/drive/MyDrive/UIT/UIT_Graduation_Thesis/Dataset/0_Raw/2024-10-05/CSI_Packets/session_2/0_persons.csv\n",
            "Label:  0\n",
            "Merged DataFrame:\n",
            "(202192, 28)\n"
          ]
        }
      ]
    },
    {
      "cell_type": "code",
      "source": [
        "# Count occurrences of each label\n",
        "label_counts = merged_df_2[\"label\"].value_counts()\n",
        "\n",
        "print(label_counts)"
      ],
      "metadata": {
        "colab": {
          "base_uri": "https://localhost:8080/"
        },
        "id": "sYohXkP489BF",
        "outputId": "b78d7150-e82c-4397-bba7-7a2b5884a35e"
      },
      "execution_count": 17,
      "outputs": [
        {
          "output_type": "stream",
          "name": "stdout",
          "text": [
            "label\n",
            "2    34541\n",
            "1    34109\n",
            "4    34035\n",
            "5    33425\n",
            "0    33265\n",
            "3    32817\n",
            "Name: count, dtype: int64\n"
          ]
        }
      ]
    },
    {
      "cell_type": "code",
      "source": [
        "# Group the DataFrame by the \"label\" column and count the occurrences\n",
        "label_counts_2 = merged_df_2.groupby(\"label\").size()\n",
        "\n",
        "# Sort the Series by the label names\n",
        "label_counts_2 = label_counts_2.sort_index()\n",
        "\n",
        "# Draw the bar chart\n",
        "label_counts_2.plot(kind='bar',rot=360)\n",
        "plt.title('Số lượng mỗi nhãn')\n",
        "plt.xlabel('Nhãn')\n",
        "plt.yticks([])\n",
        "\n",
        "for i, (label, count) in enumerate(label_counts_2.items()):\n",
        "    plt.annotate(str(count), xy=(i, count), ha='center', va='bottom')\n",
        "\n",
        "plt.show()"
      ],
      "metadata": {
        "colab": {
          "base_uri": "https://localhost:8080/",
          "height": 474
        },
        "id": "cMh7BsdcAj68",
        "outputId": "7d223d55-5dd9-4b4b-878b-814682f2b0f5"
      },
      "execution_count": 45,
      "outputs": [
        {
          "output_type": "display_data",
          "data": {
            "text/plain": [
              "<Figure size 640x480 with 1 Axes>"
            ],
            "image/png": "[encoded data removed]"
          },
          "metadata": {}
        }
      ]
    },
    {
      "cell_type": "markdown",
      "source": [
        "### 12/10/2024"
      ],
      "metadata": {
        "id": "t8GB242Z2ljh"
      }
    },
    {
      "cell_type": "code",
      "source": [
        "folder_list = [\n",
        "    '/content/drive/MyDrive/UIT/UIT_Graduation_Thesis/Dataset/0_Raw/2024-10-12/CSI_Packets/session_1',\n",
        "    '/content/drive/MyDrive/UIT/UIT_Graduation_Thesis/Dataset/0_Raw/2024-10-12/CSI_Packets/session_2',\n",
        "    # Add more folder paths here\n",
        "]\n",
        "\n",
        "merged_df_3 = merge_csv_files_from_folders(folder_list)\n",
        "\n",
        "print(\"Merged DataFrame:\")\n",
        "print(merged_df_3.shape)  # Display the first few rows"
      ],
      "metadata": {
        "colab": {
          "base_uri": "https://localhost:8080/"
        },
        "id": "Hbt3SNPt79EZ",
        "outputId": "7329d4f6-e735-4e10-f2ea-5c8e3c056df8"
      },
      "execution_count": 20,
      "outputs": [
        {
          "output_type": "stream",
          "name": "stdout",
          "text": [
            "/content/drive/MyDrive/UIT/UIT_Graduation_Thesis/Dataset/0_Raw/2024-10-12/CSI_Packets/session_1/2_persons.csv\n",
            "Label:  2\n",
            "/content/drive/MyDrive/UIT/UIT_Graduation_Thesis/Dataset/0_Raw/2024-10-12/CSI_Packets/session_1/5_persons.csv\n",
            "Label:  5\n",
            "/content/drive/MyDrive/UIT/UIT_Graduation_Thesis/Dataset/0_Raw/2024-10-12/CSI_Packets/session_1/1_persons.csv\n",
            "Label:  1\n",
            "/content/drive/MyDrive/UIT/UIT_Graduation_Thesis/Dataset/0_Raw/2024-10-12/CSI_Packets/session_1/4_persons.csv\n",
            "Label:  4\n",
            "/content/drive/MyDrive/UIT/UIT_Graduation_Thesis/Dataset/0_Raw/2024-10-12/CSI_Packets/session_1/0_persons.csv\n",
            "Label:  0\n",
            "/content/drive/MyDrive/UIT/UIT_Graduation_Thesis/Dataset/0_Raw/2024-10-12/CSI_Packets/session_1/3_persons.csv\n",
            "Label:  3\n",
            "/content/drive/MyDrive/UIT/UIT_Graduation_Thesis/Dataset/0_Raw/2024-10-12/CSI_Packets/session_2/0_persons.csv\n",
            "Label:  0\n",
            "/content/drive/MyDrive/UIT/UIT_Graduation_Thesis/Dataset/0_Raw/2024-10-12/CSI_Packets/session_2/2_persons.csv\n",
            "Label:  2\n",
            "/content/drive/MyDrive/UIT/UIT_Graduation_Thesis/Dataset/0_Raw/2024-10-12/CSI_Packets/session_2/1_persons.csv\n",
            "Label:  1\n",
            "/content/drive/MyDrive/UIT/UIT_Graduation_Thesis/Dataset/0_Raw/2024-10-12/CSI_Packets/session_2/4_persons.csv\n",
            "Label:  4\n",
            "/content/drive/MyDrive/UIT/UIT_Graduation_Thesis/Dataset/0_Raw/2024-10-12/CSI_Packets/session_2/3_persons.csv\n",
            "Label:  3\n",
            "/content/drive/MyDrive/UIT/UIT_Graduation_Thesis/Dataset/0_Raw/2024-10-12/CSI_Packets/session_2/5_persons.csv\n",
            "Label:  5\n",
            "Merged DataFrame:\n",
            "(144856, 28)\n"
          ]
        }
      ]
    },
    {
      "cell_type": "code",
      "source": [
        "# Count occurrences of each label\n",
        "label_counts = merged_df_3[\"label\"].value_counts()\n",
        "\n",
        "print(label_counts)"
      ],
      "metadata": {
        "colab": {
          "base_uri": "https://localhost:8080/"
        },
        "id": "BkZ3ugQB800h",
        "outputId": "c977c7dc-f5c1-4dc8-c0f3-c08cba1a8761"
      },
      "execution_count": 21,
      "outputs": [
        {
          "output_type": "stream",
          "name": "stdout",
          "text": [
            "label\n",
            "4    27411\n",
            "2    24984\n",
            "5    24856\n",
            "3    24597\n",
            "0    22015\n",
            "1    20993\n",
            "Name: count, dtype: int64\n"
          ]
        }
      ]
    },
    {
      "cell_type": "code",
      "source": [
        "# Group the DataFrame by the \"label\" column and count the occurrences\n",
        "label_counts_3 = merged_df_3.groupby(\"label\").size()\n",
        "\n",
        "# Sort the Series by the label names\n",
        "label_counts_3 = label_counts_3.sort_index()\n",
        "\n",
        "# Draw the bar chart\n",
        "label_counts_3.plot(kind='bar',rot=360)\n",
        "plt.title('Số lượng mỗi nhãn')\n",
        "plt.xlabel('Nhãn')\n",
        "plt.yticks([])\n",
        "\n",
        "for i, (label, count) in enumerate(label_counts_3.items()):\n",
        "    plt.annotate(str(count), xy=(i, count), ha='center', va='bottom')\n",
        "\n",
        "plt.show()"
      ],
      "metadata": {
        "colab": {
          "base_uri": "https://localhost:8080/",
          "height": 474
        },
        "id": "aANxmOPq-r53",
        "outputId": "2796988d-2b74-4dbb-dd86-3bd4486aaff3"
      },
      "execution_count": 47,
      "outputs": [
        {
          "output_type": "display_data",
          "data": {
            "text/plain": [
              "<Figure size 640x480 with 1 Axes>"
            ],
            "image/png": "[encoded data removed]"
          },
          "metadata": {}
        }
      ]
    },
    {
      "cell_type": "markdown",
      "source": [
        "### Charts"
      ],
      "metadata": {
        "id": "vN_Zp6lUMTX7"
      }
    },
    {
      "cell_type": "code",
      "source": [
        "import matplotlib.pyplot as plt\n",
        "\n",
        "# Assuming you have three label counts: label_count1, label_count2, label_count3\n",
        "\n",
        "# Create figure and subplots\n",
        "fig, axes = plt.subplots(nrows=1, ncols=3, figsize=(15, 5))\n",
        "# Plot data for each subplot\n",
        "axes[0].bar(label_counts_1.index, label_counts_1.values)\n",
        "axes[0].set_title('28/09/2024')\n",
        "\n",
        "axes[1].bar(label_counts_2.index, label_counts_2.values)\n",
        "axes[1].set_title('05/10/2024')\n",
        "\n",
        "axes[2].bar(label_counts_3.index, label_counts_3.values)\n",
        "axes[2].set_title('12/10/2024')\n",
        "\n",
        "plt.show()"
      ],
      "metadata": {
        "colab": {
          "base_uri": "https://localhost:8080/",
          "height": 373
        },
        "id": "5nyNqRdlA6kF",
        "outputId": "8911d892-de2f-48c7-d626-de5e8f854b4b"
      },
      "execution_count": 57,
      "outputs": [
        {
          "output_type": "display_data",
          "data": {
            "text/plain": [
              "<Figure size 1500x500 with 3 Axes>"
            ],
            "image/png": "[encoded data removed]"
          },
          "metadata": {}
        }
      ]
    },
    {
      "cell_type": "markdown",
      "source": [
        "## Images"
      ],
      "metadata": {
        "id": "lhpBX8WrGHDl"
      }
    },
    {
      "cell_type": "code",
      "source": [
        "def create_img_df(folder_list):\n",
        "  \"\"\"\n",
        "  Creates a DataFrame containing subfolder names and corresponding file names.\n",
        "\n",
        "  Args:\n",
        "      folder_list (list): A list of folder paths.\n",
        "\n",
        "  Returns:\n",
        "      pd.DataFrame: A DataFrame with two columns: \"Subfolder\" and \"File\".\n",
        "  \"\"\"\n",
        "\n",
        "  data = []\n",
        "  for folder_path in folder_list:\n",
        "    for root, dirs, files in os.walk(folder_path):\n",
        "      if root != folder_path:  # Exclude the main folder\n",
        "        subfolder_name = (os.path.basename(root))\n",
        "        match = re.search(r\"(\\d+)_person\", subfolder_name)\n",
        "        if match:\n",
        "          label = int(match.group(1))\n",
        "          for file in files:\n",
        "            data.append([label, file])\n",
        "  df = pd.DataFrame(data, columns=[\"Label\", \"File\"])\n",
        "  return df\n"
      ],
      "metadata": {
        "id": "R5pbQveDGfBI"
      },
      "execution_count": 85,
      "outputs": []
    },
    {
      "cell_type": "markdown",
      "source": [
        "### 28/09/2024"
      ],
      "metadata": {
        "id": "zZ4P-3CnGhdt"
      }
    },
    {
      "cell_type": "code",
      "source": [
        "folder_list_1 =[\n",
        "    \"/content/drive/MyDrive/UIT/UIT_Graduation_Thesis/Dataset/0_Raw/2024-09-28/Image_Frames/session_1\",\n",
        "    \"/content/drive/MyDrive/UIT/UIT_Graduation_Thesis/Dataset/0_Raw/2024-09-28/Image_Frames/session_2\"\n",
        "]\n",
        "image_df_1 = create_img_df(folder_list_1)\n",
        "\n",
        "print(image_df_1.head)\n"
      ],
      "metadata": {
        "colab": {
          "base_uri": "https://localhost:8080/"
        },
        "id": "RVonQILGGIF7",
        "outputId": "44947988-c845-41be-ac63-8a75d720ed8a"
      },
      "execution_count": 86,
      "outputs": [
        {
          "output_type": "stream",
          "name": "stdout",
          "text": [
            "<bound method NDFrame.head of        Label                          File\n",
            "0          1  frame_1727493842.6950152.jpg\n",
            "1          1   frame_1727493842.037358.jpg\n",
            "2          1  frame_1727493842.1443515.jpg\n",
            "3          1  frame_1727493842.8032699.jpg\n",
            "4          1  frame_1727493842.2513835.jpg\n",
            "...      ...                           ...\n",
            "19184      5  frame_1727494954.2877078.jpg\n",
            "19185      5  frame_1727494954.5086918.jpg\n",
            "19186      5    frame_1727494954.61896.jpg\n",
            "19187      5  frame_1727494954.8390315.jpg\n",
            "19188      5   frame_1727494955.828495.jpg\n",
            "\n",
            "[19189 rows x 2 columns]>\n"
          ]
        }
      ]
    },
    {
      "cell_type": "code",
      "source": [
        "# Count occurrences of each label\n",
        "label_counts_1 = image_df_1[\"Label\"].value_counts()\n",
        "\n",
        "print(label_counts_1)"
      ],
      "metadata": {
        "colab": {
          "base_uri": "https://localhost:8080/"
        },
        "id": "FosJ244zKhd4",
        "outputId": "17689454-cd36-47db-cffa-8a035fa28827"
      },
      "execution_count": 87,
      "outputs": [
        {
          "output_type": "stream",
          "name": "stdout",
          "text": [
            "Label\n",
            "5    3218\n",
            "1    3209\n",
            "3    3209\n",
            "2    3202\n",
            "4    3196\n",
            "0    3155\n",
            "Name: count, dtype: int64\n"
          ]
        }
      ]
    },
    {
      "cell_type": "markdown",
      "source": [
        "### 05/10/2024"
      ],
      "metadata": {
        "id": "CTrBS1ZSGrtr"
      }
    },
    {
      "cell_type": "code",
      "source": [
        "folder_list_2 =[\n",
        "    \"/content/drive/MyDrive/UIT/UIT_Graduation_Thesis/Dataset/0_Raw/2024-10-05/Image_Frames/session_1\",\n",
        "    \"/content/drive/MyDrive/UIT/UIT_Graduation_Thesis/Dataset/0_Raw/2024-10-05/Image_Frames/session_2\"\n",
        "]\n",
        "image_df_2 = create_img_df(folder_list_2)\n",
        "\n",
        "print(image_df_2.head)\n"
      ],
      "metadata": {
        "colab": {
          "base_uri": "https://localhost:8080/"
        },
        "id": "-1Zj9JfDGq80",
        "outputId": "bc1e5c91-9a2b-4b00-d8d8-510bd762be2f"
      },
      "execution_count": 88,
      "outputs": [
        {
          "output_type": "stream",
          "name": "stdout",
          "text": [
            "<bound method NDFrame.head of        Label                          File\n",
            "0          5  frame_1728096097.8690746.jpg\n",
            "1          5  frame_1728096097.9770112.jpg\n",
            "2          5  frame_1728096098.0957618.jpg\n",
            "3          5  frame_1728096098.2030623.jpg\n",
            "4          5  frame_1728096098.3111475.jpg\n",
            "...      ...                           ...\n",
            "19407      0  frame_1728099793.5513422.jpg\n",
            "19408      0  frame_1728099793.6589208.jpg\n",
            "19409      0  frame_1728099793.7775648.jpg\n",
            "19410      0   frame_1728099793.885339.jpg\n",
            "19411      0  frame_1728099793.9928386.jpg\n",
            "\n",
            "[19412 rows x 2 columns]>\n"
          ]
        }
      ]
    },
    {
      "cell_type": "code",
      "source": [
        "label_counts_2 = image_df_2[\"Label\"].value_counts()\n",
        "\n",
        "print(label_counts_2)"
      ],
      "metadata": {
        "colab": {
          "base_uri": "https://localhost:8080/"
        },
        "id": "G8TPDSDRLSTy",
        "outputId": "62bacd93-0547-4504-e55e-cd0d0a95c261"
      },
      "execution_count": 89,
      "outputs": [
        {
          "output_type": "stream",
          "name": "stdout",
          "text": [
            "Label\n",
            "0    3249\n",
            "3    3240\n",
            "5    3238\n",
            "1    3234\n",
            "4    3228\n",
            "2    3223\n",
            "Name: count, dtype: int64\n"
          ]
        }
      ]
    },
    {
      "cell_type": "markdown",
      "source": [
        "### 12/10/2024"
      ],
      "metadata": {
        "id": "QW1_AjCzGtY0"
      }
    },
    {
      "cell_type": "code",
      "source": [
        "folder_list_3 =[\n",
        "    \"/content/drive/MyDrive/UIT/UIT_Graduation_Thesis/Dataset/0_Raw/2024-10-12/Image_Frames/session_1\",\n",
        "    \"/content/drive/MyDrive/UIT/UIT_Graduation_Thesis/Dataset/0_Raw/2024-10-12/Image_Frames/session_2\"\n",
        "]\n",
        "image_df_3 = create_img_df(folder_list_3)\n",
        "\n",
        "print(image_df_3.head)\n"
      ],
      "metadata": {
        "colab": {
          "base_uri": "https://localhost:8080/"
        },
        "id": "AJUbaW4nGrRe",
        "outputId": "a3791843-2e18-45d9-9ce1-41a18a3a1b7f"
      },
      "execution_count": 90,
      "outputs": [
        {
          "output_type": "stream",
          "name": "stdout",
          "text": [
            "<bound method NDFrame.head of        Label                          File\n",
            "0          4  frame_1728702710.4181435.jpg\n",
            "1          4  frame_1728702710.0933595.jpg\n",
            "2          4  frame_1728702710.5253458.jpg\n",
            "3          4  frame_1728702710.7407424.jpg\n",
            "4          4  frame_1728702710.2030463.jpg\n",
            "...      ...                           ...\n",
            "19421      1   frame_1728705389.569824.jpg\n",
            "19422      1  frame_1728705389.0181086.jpg\n",
            "19423      1   frame_1728705390.232299.jpg\n",
            "19424      1  frame_1728705390.5571306.jpg\n",
            "19425      1    frame_1728705390.11369.jpg\n",
            "\n",
            "[19426 rows x 2 columns]>\n"
          ]
        }
      ]
    },
    {
      "cell_type": "code",
      "source": [
        "label_counts_3 = image_df_3[\"Label\"].value_counts()\n",
        "\n",
        "print(label_counts_3)"
      ],
      "metadata": {
        "colab": {
          "base_uri": "https://localhost:8080/"
        },
        "id": "LpN_AHCELoFA",
        "outputId": "f0ddf8c2-c696-4d6f-d676-ec2d53b2af79"
      },
      "execution_count": 91,
      "outputs": [
        {
          "output_type": "stream",
          "name": "stdout",
          "text": [
            "Label\n",
            "1    3244\n",
            "4    3243\n",
            "0    3243\n",
            "2    3243\n",
            "5    3237\n",
            "3    3216\n",
            "Name: count, dtype: int64\n"
          ]
        }
      ]
    },
    {
      "cell_type": "markdown",
      "source": [
        "### Charts"
      ],
      "metadata": {
        "id": "RgMrVfvaMQ1J"
      }
    },
    {
      "cell_type": "code",
      "source": [
        "import matplotlib.pyplot as plt\n",
        "\n",
        "# Assuming you have three label counts: label_count1, label_count2, label_count3\n",
        "\n",
        "# Create figure and subplots\n",
        "fig, axes = plt.subplots(nrows=1, ncols=3, figsize=(15, 5))\n",
        "# Plot data for each subplot\n",
        "axes[0].bar(label_counts_1.index, label_counts_1.values, color='green')\n",
        "axes[0].set_title('28/09/2024')\n",
        "\n",
        "axes[1].bar(label_counts_2.index, label_counts_2.values, color='green')\n",
        "axes[1].set_title('05/10/2024')\n",
        "\n",
        "axes[2].bar(label_counts_3.index, label_counts_3.values, color='green')\n",
        "axes[2].set_title('12/10/2024')\n",
        "\n",
        "plt.show()"
      ],
      "metadata": {
        "colab": {
          "base_uri": "https://localhost:8080/",
          "height": 375
        },
        "id": "qxcU5cY1MPLi",
        "outputId": "c70655f0-b238-44d8-caf6-3d79cf368a1d"
      },
      "execution_count": 93,
      "outputs": [
        {
          "output_type": "display_data",
          "data": {
            "text/plain": [
              "<Figure size 1500x500 with 3 Axes>"
            ],
            "image/png": "[encoded data removed]"
          },
          "metadata": {}
        }
      ]
    }
  ]
}