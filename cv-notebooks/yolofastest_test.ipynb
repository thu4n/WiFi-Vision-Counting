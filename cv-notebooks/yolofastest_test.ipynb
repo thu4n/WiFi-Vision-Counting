{
  "nbformat": 4,
  "nbformat_minor": 0,
  "metadata": {
    "colab": {
      "provenance": [],
      "mount_file_id": "1IBWsuzKk2VPPB5HQ-OqlaGf4YxQvilMI",
      "authorship_tag": "ABX9TyNB/ek97k9qTqBDLB8i6zKG",
      "include_colab_link": true
    },
    "kernelspec": {
      "name": "python3",
      "display_name": "Python 3"
    },
    "language_info": {
      "name": "python"
    }
  },
  "cells": [
    {
      "cell_type": "markdown",
      "metadata": {
        "id": "view-in-github",
        "colab_type": "text"
      },
      "source": [
        "<a href=\"https://colab.research.google.com/github/thu4n/WiFi-Vision-Counting/blob/main/cv-notebooks/yolofastest_test.ipynb\" target=\"_parent\"><img src=\"https://colab.research.google.com/assets/colab-badge.svg\" alt=\"Open In Colab\"/></a>"
      ]
    },
    {
      "cell_type": "code",
      "execution_count": 1,
      "metadata": {
        "colab": {
          "base_uri": "https://localhost:8080/"
        },
        "id": "IT8dfA7YHxI_",
        "outputId": "f2d2dee8-c198-40eb-89c6-19420038fc7f"
      },
      "outputs": [
        {
          "output_type": "stream",
          "name": "stdout",
          "text": [
            "Cloning into 'Yolo-FastestV2'...\n",
            "remote: Enumerating objects: 258, done.\u001b[K\n",
            "remote: Counting objects: 100% (253/253), done.\u001b[K\n",
            "remote: Compressing objects: 100% (160/160), done.\u001b[K\n",
            "remote: Total 258 (delta 101), reused 203 (delta 70), pack-reused 5 (from 1)\u001b[K\n",
            "Receiving objects: 100% (258/258), 12.89 MiB | 11.85 MiB/s, done.\n",
            "Resolving deltas: 100% (101/101), done.\n"
          ]
        }
      ],
      "source": [
        "!git clone https://github.com/r1anl3/Yolo-FastestV2.git"
      ]
    },
    {
      "cell_type": "code",
      "source": [
        "import os\n",
        "os.chdir('/content/Yolo-FastestV2')\n",
        "!ls"
      ],
      "metadata": {
        "colab": {
          "base_uri": "https://localhost:8080/"
        },
        "id": "2aAs4WDHIaHP",
        "outputId": "16fbe97d-f9af-4d13-d57c-4c2746b89724"
      },
      "execution_count": 2,
      "outputs": [
        {
          "output_type": "stream",
          "name": "stdout",
          "text": [
            "annotation.zip\timg\t  predictions_with_real_counts.csv  sample    valid-model.py\n",
            "data\t\tmain.py   pytorch2onnx.py\t\t    test.py   weights\n",
            "evaluation.py\tmodel\t  README.md\t\t\t    train.py\n",
            "genanchors.py\tmodelzoo  requirements.txt\t\t    utils\n"
          ]
        }
      ]
    },
    {
      "cell_type": "code",
      "source": [
        "!ls /content/drive/MyDrive/UIT_Graduation_Thesis/Dataset/1_Processed/CV_Dark_Images/dark-051024-session1-5person/ | tail"
      ],
      "metadata": {
        "colab": {
          "base_uri": "https://localhost:8080/"
        },
        "id": "JZt258OMJL-Y",
        "outputId": "99b73029-df2d-4091-d3e7-44a44ed7bed8"
      },
      "execution_count": 3,
      "outputs": [
        {
          "output_type": "stream",
          "name": "stdout",
          "text": [
            "frame_1728096038.8559065.jpg\n",
            "frame_1728096038.973797.jpg\n",
            "frame_1728096039.0818043.jpg\n",
            "frame_1728096039.1895416.jpg\n",
            "frame_1728096039.2976942.jpg\n",
            "frame_1728096039.4156692.jpg\n",
            "frame_1728096039.5224404.jpg\n",
            "frame_1728096039.6299486.jpg\n",
            "frame_1728096039.7382178.jpg\n",
            "frame_1728096039.8494563.jpg\n"
          ]
        }
      ]
    },
    {
      "cell_type": "code",
      "source": [
        "!python3 test.py --data data/coco.data --weights /content/drive/MyDrive/UIT_Graduation_Thesis/Models/yolof2-v5/yolofv2-nano-190-epoch-0.953577ap-model.pth --img /content/drive/MyDrive/UIT_Graduation_Thesis/Dataset/1_Processed/CV_Dark_Images/dark-051024-session1-5person/frame_1728096029.7635612.jpg"
      ],
      "metadata": {
        "colab": {
          "base_uri": "https://localhost:8080/"
        },
        "id": "JFRR6XFrIoMx",
        "outputId": "bb4d4326-526e-4286-a4f6-bf1ddf5a69ec"
      },
      "execution_count": 8,
      "outputs": [
        {
          "output_type": "stream",
          "name": "stdout",
          "text": [
            "load param...\n",
            "/content/Yolo-FastestV2/test.py:28: FutureWarning: You are using `torch.load` with `weights_only=False` (the current default value), which uses the default pickle module implicitly. It is possible to construct malicious pickle data which will execute arbitrary code during unpickling (See https://github.com/pytorch/pytorch/blob/main/SECURITY.md#untrusted-models for more details). In a future release, the default value for `weights_only` will be flipped to `True`. This limits the functions that could be executed during unpickling. Arbitrary objects will no longer be allowed to be loaded via this mode unless they are explicitly allowlisted by the user via `torch.serialization.add_safe_globals`. We recommend you start setting `weights_only=True` for any use case where you don't have full control of the loaded file. Please open an issue on GitHub for any issues related to this experimental feature.\n",
            "  model.load_state_dict(torch.load(opt.weights, map_location=device))\n",
            "forward time:43.405773ms\n",
            "/usr/local/lib/python3.10/dist-packages/torch/functional.py:534: UserWarning: torch.meshgrid: in an upcoming release, it will be required to pass the indexing argument. (Triggered internally at ../aten/src/ATen/native/TensorShape.cpp:3595.)\n",
            "  return _VF.meshgrid(tensors, **kwargs)  # type: ignore[attr-defined]\n",
            "person: 1.0\n",
            "person: 1.0\n",
            "person: 1.0\n",
            "person: 1.0\n",
            "person: 0.9999754428863525\n",
            "person: 0.9996507167816162\n"
          ]
        }
      ]
    }
  ]
}