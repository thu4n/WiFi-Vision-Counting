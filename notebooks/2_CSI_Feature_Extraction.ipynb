{
  "nbformat": 4,
  "nbformat_minor": 0,
  "metadata": {
    "colab": {
      "provenance": []
    },
    "kernelspec": {
      "name": "python3",
      "display_name": "Python 3"
    },
    "language_info": {
      "name": "python"
    }
  },
  "cells": [
    {
      "cell_type": "markdown",
      "source": [
        "# Prep"
      ],
      "metadata": {
        "id": "s1_-EIgBnFqU"
      }
    },
    {
      "cell_type": "code",
      "execution_count": 1,
      "metadata": {
        "colab": {
          "base_uri": "https://localhost:8080/"
        },
        "id": "6Tkl9f2unBdG",
        "outputId": "8b9b3bf2-8922-4684-ff0c-707be433cba2"
      },
      "outputs": [
        {
          "output_type": "stream",
          "name": "stdout",
          "text": [
            "Collecting hampel\n",
            "  Downloading hampel-1.0.2.tar.gz (78 kB)\n",
            "\u001b[2K     \u001b[90m━━━━━━━━━━━━━━━━━━━━━━━━━━━━━━━━━━━━━━━━\u001b[0m \u001b[32m78.7/78.7 kB\u001b[0m \u001b[31m868.7 kB/s\u001b[0m eta \u001b[36m0:00:00\u001b[0m\n",
            "\u001b[?25h  Installing build dependencies ... \u001b[?25l\u001b[?25hdone\n",
            "  Getting requirements to build wheel ... \u001b[?25l\u001b[?25hdone\n",
            "  Installing backend dependencies ... \u001b[?25l\u001b[?25hdone\n",
            "  Preparing metadata (pyproject.toml) ... \u001b[?25l\u001b[?25hdone\n",
            "Requirement already satisfied: numpy>=1.17.3 in /usr/local/lib/python3.10/dist-packages (from hampel) (1.25.2)\n",
            "Requirement already satisfied: pandas in /usr/local/lib/python3.10/dist-packages (from hampel) (2.0.3)\n",
            "Requirement already satisfied: python-dateutil>=2.8.2 in /usr/local/lib/python3.10/dist-packages (from pandas->hampel) (2.8.2)\n",
            "Requirement already satisfied: pytz>=2020.1 in /usr/local/lib/python3.10/dist-packages (from pandas->hampel) (2023.4)\n",
            "Requirement already satisfied: tzdata>=2022.1 in /usr/local/lib/python3.10/dist-packages (from pandas->hampel) (2024.1)\n",
            "Requirement already satisfied: six>=1.5 in /usr/local/lib/python3.10/dist-packages (from python-dateutil>=2.8.2->pandas->hampel) (1.16.0)\n",
            "Building wheels for collected packages: hampel\n",
            "  Building wheel for hampel (pyproject.toml) ... \u001b[?25l\u001b[?25hdone\n",
            "  Created wheel for hampel: filename=hampel-1.0.2-cp310-cp310-linux_x86_64.whl size=209224 sha256=8b364b39ac80b1b4f6989ff0ae51d84cd3d4ee979877a7eb8b199e13f9b8e065\n",
            "  Stored in directory: /root/.cache/pip/wheels/0e/c3/3c/8a9f55c3de0b09faf919393d4c6f09b11b7421dcaa7243b820\n",
            "Successfully built hampel\n",
            "Installing collected packages: hampel\n",
            "Successfully installed hampel-1.0.2\n"
          ]
        }
      ],
      "source": [
        "!pip install hampel"
      ]
    },
    {
      "cell_type": "code",
      "source": [
        "import numpy as np\n",
        "import pandas as pd\n",
        "import matplotlib.pyplot as plt\n",
        "import os\n",
        "import re\n",
        "from scipy.signal import savgol_filter\n",
        "from hampel import hampel"
      ],
      "metadata": {
        "id": "5RfkOWgtnkU-"
      },
      "execution_count": 2,
      "outputs": []
    },
    {
      "cell_type": "markdown",
      "source": [
        "# Load and filter data"
      ],
      "metadata": {
        "id": "ip1X_jgTo3x0"
      }
    },
    {
      "cell_type": "code",
      "source": [
        "folder_path = '/content/drive/MyDrive/01.School_related/DoAnChuyenNganh/dataset/segments'\n",
        "\n",
        "# List all files in the folder\n",
        "file_list = [f for f in os.listdir(folder_path) if f.endswith('.csv')]\n",
        "dfs = []\n",
        "labels = []\n",
        "for file_name in file_list:\n",
        "    file_path = os.path.join(folder_path, file_name)\n",
        "    df = pd.read_csv(file_path)\n",
        "    if(len(df) < 600): # Skip all df with less than 600 rows\n",
        "      continue\n",
        "    match = re.search(r\"segment-(\\d+)-(\\d+)\", file_name)\n",
        "    label = match.group(1) # label them based on the first number in the file name\n",
        "    #df[\"label\"] = int(label)\n",
        "    labels.append(label)\n",
        "    dfs.append(df)\n",
        "print(len(dfs))\n",
        "print(len(labels))"
      ],
      "metadata": {
        "colab": {
          "base_uri": "https://localhost:8080/"
        },
        "id": "SPvpxKO5nm34",
        "outputId": "c1fc4589-4b21-40f2-cb73-ef85e11834f5"
      },
      "execution_count": 5,
      "outputs": [
        {
          "output_type": "stream",
          "name": "stdout",
          "text": [
            "159\n",
            "159\n"
          ]
        }
      ]
    },
    {
      "cell_type": "code",
      "source": [
        "filtered_dfs = []\n",
        "for df in dfs:\n",
        "  filtered_data = pd.DataFrame()\n",
        "  for col in df.columns:\n",
        "    col_series = df[col]\n",
        "    # Hampel filter\n",
        "    hampel_filtered = hampel(col_series, window_size=10)\n",
        "    # Savitzky-Golay filter\n",
        "    sg_filtered = savgol_filter(hampel_filtered.filtered_data, window_length=10, polyorder=3)\n",
        "    filtered_data[col] = sg_filtered\n",
        "  filtered_dfs.append(filtered_data)\n",
        "\n",
        "print(len(filtered_dfs))"
      ],
      "metadata": {
        "colab": {
          "base_uri": "https://localhost:8080/"
        },
        "id": "YzhTPcQUn-jf",
        "outputId": "3e42a520-f3c2-466f-90ff-906fdaced861"
      },
      "execution_count": 6,
      "outputs": [
        {
          "output_type": "stream",
          "name": "stdout",
          "text": [
            "159\n"
          ]
        }
      ]
    },
    {
      "cell_type": "markdown",
      "source": [
        "## Feature extraction"
      ],
      "metadata": {
        "id": "VqF-sZMgrMHI"
      }
    },
    {
      "cell_type": "code",
      "source": [
        "def calc_amp_diff(df, adj_num):\n",
        "    diff = []\n",
        "    for col in df.columns:\n",
        "      col_series = df[col].values\n",
        "      column_differences = []\n",
        "      for i in range(len(col_series)):\n",
        "        value = col_series[i]\n",
        "        if i == 0 or i == 1:\n",
        "            # First subcarrier\n",
        "            diffVal = np.abs(value - col_series[i + adj_num])\n",
        "        elif i == len(col_series) - 1 or i == len(col_series) - 2:\n",
        "            # Last subcarrier\n",
        "            diffVal = np.abs(value - col_series[i - adj_num])\n",
        "        else:\n",
        "            # Middle subcarriers\n",
        "            diffVal = np.abs(value - col_series[i - adj_num]) + np.abs(value - col_series[i + adj_num])\n",
        "\n",
        "        column_differences.append(diffVal)\n",
        "\n",
        "    # Sum of absolute differences\n",
        "      total_diff = np.sum(column_differences)\n",
        "    return total_diff"
      ],
      "metadata": {
        "id": "lIKp5Ma5t_4l"
      },
      "execution_count": 57,
      "outputs": []
    },
    {
      "cell_type": "code",
      "source": [
        "features_dfs = []\n",
        "for df in filtered_dfs:\n",
        "  features = pd.DataFrame()\n",
        "  minVal = df.min()\n",
        "  maxVal = df.max()\n",
        "  stdVal = df.std()\n",
        "  lqVal = df.quantile(0.25)\n",
        "  uqVal = df.quantile(0.75)\n",
        "  avgVal = df.mean()\n",
        "  iqVal = uqVal - lqVal\n",
        "  #adjVal = calc_amp_diff(df,2)\n",
        "  features[\"min\"] = minVal\n",
        "  features[\"max\"] = maxVal\n",
        "  features[\"std\"] = stdVal\n",
        "  features[\"lq\"] = lqVal\n",
        "  features[\"uq\"] = uqVal\n",
        "  features[\"avg\"] = avgVal\n",
        "  features[\"iq\"] = iqVal\n",
        "  #features[\"adj\"] = adjVal\n",
        "  features_dfs.append(features)\n"
      ],
      "metadata": {
        "id": "7f7AX7oGqhNi"
      },
      "execution_count": 60,
      "outputs": []
    },
    {
      "cell_type": "code",
      "source": [
        "print(len(features_dfs))\n",
        "print(features_dfs[0].shape)\n",
        "\n",
        "print(features_dfs[0].head(20))"
      ],
      "metadata": {
        "colab": {
          "base_uri": "https://localhost:8080/"
        },
        "id": "PB92jnRTzX5R",
        "outputId": "2c508c62-9fe3-4843-9702-b4a2c01bf683"
      },
      "execution_count": 61,
      "outputs": [
        {
          "output_type": "stream",
          "name": "stdout",
          "text": [
            "159\n",
            "(52, 7)\n",
            "         min        max       std         lq         uq        avg        iq\n",
            "0   0.794435  20.150984  4.026044   8.207010  13.441128  10.644927  5.234118\n",
            "1   1.913195  20.203171  4.038280   8.350379  13.814869  10.876046  5.464490\n",
            "2   2.387777  22.292124  4.250665   9.213232  14.895330  11.896222  5.682097\n",
            "3   1.897739  23.927929  4.397853  10.228765  16.133679  12.869132  5.904914\n",
            "4   0.791161  22.828176  4.135689  10.534134  15.827909  12.855876  5.293775\n",
            "5   0.933139  21.085730  3.799204  10.329032  15.400228  12.428349  5.071196\n",
            "6   2.003213  22.533936  3.764604  11.337510  16.097527  13.433006  4.760017\n",
            "7   1.277509  21.417206  3.581618  11.587980  16.044465  13.542747  4.456485\n",
            "8   3.168595  22.537552  3.620057  12.847933  17.441644  14.889524  4.593710\n",
            "9   3.785301  23.183092  3.601205  13.502414  18.121916  15.636689  4.619502\n",
            "10  4.296395  24.889286  3.673081  14.769424  19.285284  16.816050  4.515859\n",
            "11  5.791716  25.440170  3.611933  15.802671  20.266236  17.908567  4.463565\n",
            "12  6.166780  25.612839  3.471676  16.138110  20.526844  18.168665  4.388734\n",
            "13  6.918755  25.360865  3.385059  16.851164  21.035967  18.766882  4.184803\n",
            "14  6.928323  24.762861  3.142870  16.661234  20.665142  18.465731  4.003908\n",
            "15  8.220037  26.454897  3.305001  18.088146  22.148160  19.939751  4.060014\n",
            "16  8.282918  24.901293  2.917295  17.078178  20.881096  18.804512  3.802918\n",
            "17  8.391095  24.487347  2.820748  17.482633  20.950655  18.916719  3.468022\n",
            "18  8.144685  24.822977  2.771540  17.561762  21.042350  19.143448  3.480588\n",
            "19  7.960769  25.781036  2.738672  18.179997  21.310850  19.551361  3.130853\n"
          ]
        }
      ]
    },
    {
      "cell_type": "markdown",
      "source": [
        "# Flatten data"
      ],
      "metadata": {
        "id": "_RQNKs_mzxDP"
      }
    },
    {
      "cell_type": "code",
      "source": [
        "print(labels[2])"
      ],
      "metadata": {
        "colab": {
          "base_uri": "https://localhost:8080/"
        },
        "id": "HY7MtzUE2x-5",
        "outputId": "2428b893-d4ed-4497-aa3a-75619b7de038"
      },
      "execution_count": 25,
      "outputs": [
        {
          "output_type": "stream",
          "name": "stdout",
          "text": [
            "0\n"
          ]
        }
      ]
    },
    {
      "cell_type": "code",
      "source": [
        "flatten_dfs = []\n",
        "for index in range(len(features_dfs)):\n",
        "  df = pd.DataFrame(features_dfs[index].values.flatten()).T\n",
        "  df[\"label\"] = labels[index]\n",
        "  flatten_dfs.append(df)\n",
        "\n",
        "print(len(flatten_dfs))"
      ],
      "metadata": {
        "colab": {
          "base_uri": "https://localhost:8080/"
        },
        "id": "ALZbSwMyzvlY",
        "outputId": "3cce7b68-6bce-4e89-ce17-2f3fc495d3e3"
      },
      "execution_count": 62,
      "outputs": [
        {
          "output_type": "stream",
          "name": "stdout",
          "text": [
            "159\n"
          ]
        }
      ]
    },
    {
      "cell_type": "code",
      "source": [
        "print(flatten_dfs[2])"
      ],
      "metadata": {
        "colab": {
          "base_uri": "https://localhost:8080/"
        },
        "id": "B-ZhB8Od3G0r",
        "outputId": "6de49494-ab60-4085-eae9-7ff79f79879b"
      },
      "execution_count": 63,
      "outputs": [
        {
          "output_type": "stream",
          "name": "stdout",
          "text": [
            "          0          1         2         3          4          5         6  \\\n",
            "0  6.971779  20.328934  2.760731  11.85622  15.478026  13.608288  3.621806   \n",
            "\n",
            "          7         8         9  ...       355       356       357        358  \\\n",
            "0  6.966369  20.26018  2.704533  ...  12.48483  2.834635  4.562716  17.514118   \n",
            "\n",
            "        359        360        361        362      363  label  \n",
            "0  2.148163  10.698039  13.401989  11.991273  2.70395      0  \n",
            "\n",
            "[1 rows x 365 columns]\n"
          ]
        }
      ]
    },
    {
      "cell_type": "code",
      "source": [
        "print(flatten_dfs[0][\"label\"][0] + \"t\")"
      ],
      "metadata": {
        "colab": {
          "base_uri": "https://localhost:8080/"
        },
        "id": "ps2CUT2B4VxC",
        "outputId": "53358e23-e89f-464f-93dc-647f53433db7"
      },
      "execution_count": 33,
      "outputs": [
        {
          "output_type": "stream",
          "name": "stdout",
          "text": [
            "0t\n"
          ]
        }
      ]
    },
    {
      "cell_type": "markdown",
      "source": [
        "## Concat data"
      ],
      "metadata": {
        "id": "7fRqq3KX5TYh"
      }
    },
    {
      "cell_type": "code",
      "source": [
        "dfs_0 = []\n",
        "dfs_1 = []\n",
        "dfs_2 = []\n",
        "dfs_3 = []\n",
        "dfs_4 = []\n",
        "dfs_5 = []\n",
        "\n",
        "for df in flatten_dfs:\n",
        "  if df[\"label\"][0] == \"0\":\n",
        "    dfs_0.append(df)\n",
        "  elif df[\"label\"][0] == \"1\":\n",
        "    dfs_1.append(df)\n",
        "  elif df[\"label\"][0] == \"2\":\n",
        "    dfs_2.append(df)\n",
        "  elif df[\"label\"][0] == \"3\":\n",
        "    dfs_3.append(df)\n",
        "  elif df[\"label\"][0] == \"4\":\n",
        "    dfs_4.append(df)\n",
        "  elif df[\"label\"][0] == \"5\":\n",
        "    dfs_5.append(df)\n",
        "\n",
        "print(len(dfs_0))\n",
        "\n",
        "print(len(dfs_1))\n",
        "\n",
        "print(len(dfs_2))\n",
        "\n",
        "print(len(dfs_3))\n",
        "\n",
        "print(len(dfs_4))\n",
        "\n",
        "print(len(dfs_5))"
      ],
      "metadata": {
        "colab": {
          "base_uri": "https://localhost:8080/"
        },
        "id": "91cie8oy3fSw",
        "outputId": "ba9f0798-ce1d-4f06-af46-8f2ef504fe8a"
      },
      "execution_count": 64,
      "outputs": [
        {
          "output_type": "stream",
          "name": "stdout",
          "text": [
            "27\n",
            "27\n",
            "28\n",
            "25\n",
            "27\n",
            "25\n"
          ]
        }
      ]
    },
    {
      "cell_type": "code",
      "source": [
        "concatenated_df_0 = pd.concat(dfs_0, axis=0, ignore_index=True)\n",
        "concatenated_df_1 = pd.concat(dfs_1, axis=0, ignore_index=True)\n",
        "concatenated_df_2 = pd.concat(dfs_2, axis=0, ignore_index=True)\n",
        "concatenated_df_3 = pd.concat(dfs_3, axis=0, ignore_index=True)\n",
        "concatenated_df_4 = pd.concat(dfs_4, axis=0, ignore_index=True)\n",
        "concatenated_df_5 = pd.concat(dfs_5, axis=0, ignore_index=True)\n",
        "\n",
        "print(concatenated_df_0.shape)\n",
        "print(concatenated_df_1.shape)\n",
        "print(concatenated_df_2.shape)\n",
        "print(concatenated_df_3.shape)\n",
        "print(concatenated_df_4.shape)\n",
        "print(concatenated_df_5.shape)"
      ],
      "metadata": {
        "colab": {
          "base_uri": "https://localhost:8080/"
        },
        "id": "fTCUV1BC5NiW",
        "outputId": "9c9d1caa-72ed-4540-a4d1-3dc5e9b286b2"
      },
      "execution_count": 65,
      "outputs": [
        {
          "output_type": "stream",
          "name": "stdout",
          "text": [
            "(27, 365)\n",
            "(27, 365)\n",
            "(28, 365)\n",
            "(25, 365)\n",
            "(27, 365)\n",
            "(25, 365)\n"
          ]
        }
      ]
    },
    {
      "cell_type": "code",
      "source": [
        "feature_names = ['min', 'max', 'std', 'lq', 'uq', 'avg', 'iq']\n",
        "new_columns = [f'sub{subcarrier+1}-{suffix}' for subcarrier in range(52) for suffix in feature_names]\n",
        "new_columns.append(\"label\")\n",
        "print(new_columns)\n",
        "print(len(new_columns))"
      ],
      "metadata": {
        "colab": {
          "base_uri": "https://localhost:8080/"
        },
        "id": "w_DwLWV46Wy0",
        "outputId": "83ffac24-5e8b-4688-a0ea-73835c487612"
      },
      "execution_count": 66,
      "outputs": [
        {
          "output_type": "stream",
          "name": "stdout",
          "text": [
            "['sub1-min', 'sub1-max', 'sub1-std', 'sub1-lq', 'sub1-uq', 'sub1-avg', 'sub1-iq', 'sub2-min', 'sub2-max', 'sub2-std', 'sub2-lq', 'sub2-uq', 'sub2-avg', 'sub2-iq', 'sub3-min', 'sub3-max', 'sub3-std', 'sub3-lq', 'sub3-uq', 'sub3-avg', 'sub3-iq', 'sub4-min', 'sub4-max', 'sub4-std', 'sub4-lq', 'sub4-uq', 'sub4-avg', 'sub4-iq', 'sub5-min', 'sub5-max', 'sub5-std', 'sub5-lq', 'sub5-uq', 'sub5-avg', 'sub5-iq', 'sub6-min', 'sub6-max', 'sub6-std', 'sub6-lq', 'sub6-uq', 'sub6-avg', 'sub6-iq', 'sub7-min', 'sub7-max', 'sub7-std', 'sub7-lq', 'sub7-uq', 'sub7-avg', 'sub7-iq', 'sub8-min', 'sub8-max', 'sub8-std', 'sub8-lq', 'sub8-uq', 'sub8-avg', 'sub8-iq', 'sub9-min', 'sub9-max', 'sub9-std', 'sub9-lq', 'sub9-uq', 'sub9-avg', 'sub9-iq', 'sub10-min', 'sub10-max', 'sub10-std', 'sub10-lq', 'sub10-uq', 'sub10-avg', 'sub10-iq', 'sub11-min', 'sub11-max', 'sub11-std', 'sub11-lq', 'sub11-uq', 'sub11-avg', 'sub11-iq', 'sub12-min', 'sub12-max', 'sub12-std', 'sub12-lq', 'sub12-uq', 'sub12-avg', 'sub12-iq', 'sub13-min', 'sub13-max', 'sub13-std', 'sub13-lq', 'sub13-uq', 'sub13-avg', 'sub13-iq', 'sub14-min', 'sub14-max', 'sub14-std', 'sub14-lq', 'sub14-uq', 'sub14-avg', 'sub14-iq', 'sub15-min', 'sub15-max', 'sub15-std', 'sub15-lq', 'sub15-uq', 'sub15-avg', 'sub15-iq', 'sub16-min', 'sub16-max', 'sub16-std', 'sub16-lq', 'sub16-uq', 'sub16-avg', 'sub16-iq', 'sub17-min', 'sub17-max', 'sub17-std', 'sub17-lq', 'sub17-uq', 'sub17-avg', 'sub17-iq', 'sub18-min', 'sub18-max', 'sub18-std', 'sub18-lq', 'sub18-uq', 'sub18-avg', 'sub18-iq', 'sub19-min', 'sub19-max', 'sub19-std', 'sub19-lq', 'sub19-uq', 'sub19-avg', 'sub19-iq', 'sub20-min', 'sub20-max', 'sub20-std', 'sub20-lq', 'sub20-uq', 'sub20-avg', 'sub20-iq', 'sub21-min', 'sub21-max', 'sub21-std', 'sub21-lq', 'sub21-uq', 'sub21-avg', 'sub21-iq', 'sub22-min', 'sub22-max', 'sub22-std', 'sub22-lq', 'sub22-uq', 'sub22-avg', 'sub22-iq', 'sub23-min', 'sub23-max', 'sub23-std', 'sub23-lq', 'sub23-uq', 'sub23-avg', 'sub23-iq', 'sub24-min', 'sub24-max', 'sub24-std', 'sub24-lq', 'sub24-uq', 'sub24-avg', 'sub24-iq', 'sub25-min', 'sub25-max', 'sub25-std', 'sub25-lq', 'sub25-uq', 'sub25-avg', 'sub25-iq', 'sub26-min', 'sub26-max', 'sub26-std', 'sub26-lq', 'sub26-uq', 'sub26-avg', 'sub26-iq', 'sub27-min', 'sub27-max', 'sub27-std', 'sub27-lq', 'sub27-uq', 'sub27-avg', 'sub27-iq', 'sub28-min', 'sub28-max', 'sub28-std', 'sub28-lq', 'sub28-uq', 'sub28-avg', 'sub28-iq', 'sub29-min', 'sub29-max', 'sub29-std', 'sub29-lq', 'sub29-uq', 'sub29-avg', 'sub29-iq', 'sub30-min', 'sub30-max', 'sub30-std', 'sub30-lq', 'sub30-uq', 'sub30-avg', 'sub30-iq', 'sub31-min', 'sub31-max', 'sub31-std', 'sub31-lq', 'sub31-uq', 'sub31-avg', 'sub31-iq', 'sub32-min', 'sub32-max', 'sub32-std', 'sub32-lq', 'sub32-uq', 'sub32-avg', 'sub32-iq', 'sub33-min', 'sub33-max', 'sub33-std', 'sub33-lq', 'sub33-uq', 'sub33-avg', 'sub33-iq', 'sub34-min', 'sub34-max', 'sub34-std', 'sub34-lq', 'sub34-uq', 'sub34-avg', 'sub34-iq', 'sub35-min', 'sub35-max', 'sub35-std', 'sub35-lq', 'sub35-uq', 'sub35-avg', 'sub35-iq', 'sub36-min', 'sub36-max', 'sub36-std', 'sub36-lq', 'sub36-uq', 'sub36-avg', 'sub36-iq', 'sub37-min', 'sub37-max', 'sub37-std', 'sub37-lq', 'sub37-uq', 'sub37-avg', 'sub37-iq', 'sub38-min', 'sub38-max', 'sub38-std', 'sub38-lq', 'sub38-uq', 'sub38-avg', 'sub38-iq', 'sub39-min', 'sub39-max', 'sub39-std', 'sub39-lq', 'sub39-uq', 'sub39-avg', 'sub39-iq', 'sub40-min', 'sub40-max', 'sub40-std', 'sub40-lq', 'sub40-uq', 'sub40-avg', 'sub40-iq', 'sub41-min', 'sub41-max', 'sub41-std', 'sub41-lq', 'sub41-uq', 'sub41-avg', 'sub41-iq', 'sub42-min', 'sub42-max', 'sub42-std', 'sub42-lq', 'sub42-uq', 'sub42-avg', 'sub42-iq', 'sub43-min', 'sub43-max', 'sub43-std', 'sub43-lq', 'sub43-uq', 'sub43-avg', 'sub43-iq', 'sub44-min', 'sub44-max', 'sub44-std', 'sub44-lq', 'sub44-uq', 'sub44-avg', 'sub44-iq', 'sub45-min', 'sub45-max', 'sub45-std', 'sub45-lq', 'sub45-uq', 'sub45-avg', 'sub45-iq', 'sub46-min', 'sub46-max', 'sub46-std', 'sub46-lq', 'sub46-uq', 'sub46-avg', 'sub46-iq', 'sub47-min', 'sub47-max', 'sub47-std', 'sub47-lq', 'sub47-uq', 'sub47-avg', 'sub47-iq', 'sub48-min', 'sub48-max', 'sub48-std', 'sub48-lq', 'sub48-uq', 'sub48-avg', 'sub48-iq', 'sub49-min', 'sub49-max', 'sub49-std', 'sub49-lq', 'sub49-uq', 'sub49-avg', 'sub49-iq', 'sub50-min', 'sub50-max', 'sub50-std', 'sub50-lq', 'sub50-uq', 'sub50-avg', 'sub50-iq', 'sub51-min', 'sub51-max', 'sub51-std', 'sub51-lq', 'sub51-uq', 'sub51-avg', 'sub51-iq', 'sub52-min', 'sub52-max', 'sub52-std', 'sub52-lq', 'sub52-uq', 'sub52-avg', 'sub52-iq', 'label']\n",
            "365\n"
          ]
        }
      ]
    },
    {
      "cell_type": "code",
      "source": [
        "concatenated_df_0.columns = new_columns\n",
        "concatenated_df_1.columns = new_columns\n",
        "concatenated_df_2.columns = new_columns\n",
        "concatenated_df_3.columns = new_columns\n",
        "concatenated_df_4.columns = new_columns\n",
        "concatenated_df_5.columns = new_columns\n",
        "\n",
        "print(concatenated_df_4.head(10))"
      ],
      "metadata": {
        "colab": {
          "base_uri": "https://localhost:8080/"
        },
        "id": "VP0BKN-u70Et",
        "outputId": "0979aa6e-4414-4f95-bf44-14b194602398"
      },
      "execution_count": 67,
      "outputs": [
        {
          "output_type": "stream",
          "name": "stdout",
          "text": [
            "   sub1-min   sub1-max  sub1-std    sub1-lq    sub1-uq   sub1-avg   sub1-iq  \\\n",
            "0  2.913390  32.625252  5.093618   9.307293  17.132122  13.304955  7.824829   \n",
            "1  5.978798  24.867867  3.413257  14.380052  18.812234  16.419621  4.432182   \n",
            "2  7.524392  32.421394  3.346505  15.987507  19.809855  17.779024  3.822348   \n",
            "3  2.753320  32.745533  4.934467  12.414617  18.495861  15.284134  6.081244   \n",
            "4  1.130259  25.958572  4.973228   9.027493  16.112347  12.516314  7.084854   \n",
            "5  1.130259  24.539482  4.236032   9.182666  14.582811  12.027728  5.400145   \n",
            "6  3.057897  25.825258  4.274248   9.440348  14.927962  12.381883  5.487613   \n",
            "7  4.261752  25.825258  3.395047  12.320968  16.377016  14.474627  4.056048   \n",
            "8  5.225776  25.219793  4.203624  10.842809  16.714370  14.070573  5.871561   \n",
            "9  2.147730  23.553516  3.885442   8.428587  13.054323  11.105939  4.625736   \n",
            "\n",
            "   sub2-min   sub2-max  sub2-std  ...  sub51-avg  sub51-iq  sub52-min  \\\n",
            "0  3.307907  31.686935  4.802752  ...  11.675468  4.089229   1.861889   \n",
            "1  6.716249  24.225115  3.256059  ...  10.987876  3.699583   1.861889   \n",
            "2  7.666759  28.215338  3.110662  ...  11.255318  3.592317   0.971992   \n",
            "3  3.765241  30.044203  4.620719  ...  11.451035  3.026861   4.318758   \n",
            "4  2.130993  25.111097  4.732124  ...  11.102484  5.743800   3.039883   \n",
            "5  2.130993  22.645458  4.179899  ...  10.056459  5.245872   1.028413   \n",
            "6  3.396256  27.720430  4.051983  ...  11.439801  3.186115   3.828369   \n",
            "7  4.110539  27.720430  3.284015  ...  11.825009  3.082355   3.828369   \n",
            "8  4.939274  23.932671  4.041320  ...  11.833409  5.666782   1.802715   \n",
            "9  1.250127  21.857315  3.799855  ...  12.463659  2.877421   5.497833   \n",
            "\n",
            "   sub52-max  sub52-std   sub52-lq   sub52-uq  sub52-avg  sub52-iq  label  \n",
            "0  19.984791   2.967031   9.572748  13.372951  11.508193  3.800203      4  \n",
            "1  18.210905   2.661108   9.117768  12.716594  10.986320  3.598826      4  \n",
            "2  16.823977   2.689234   9.309166  12.820011  10.833769  3.510844      4  \n",
            "3  22.042463   2.545774   9.363209  12.445622  10.997943  3.082412      4  \n",
            "4  19.210411   3.654023   7.982472  13.464690  10.727891  5.482218      4  \n",
            "5  20.808058   3.644276   6.937091  12.159364   9.691810  5.222274      4  \n",
            "6  17.423515   2.319033   9.648053  12.862183  11.222748  3.214129      4  \n",
            "7  21.236303   2.794409   9.647664  12.815178  11.448742  3.167514      4  \n",
            "8  21.236303   3.925560   8.708867  13.781959  11.270405  5.073092      4  \n",
            "9  25.868931   2.553083  10.617429  13.522626  12.165000  2.905197      4  \n",
            "\n",
            "[10 rows x 365 columns]\n"
          ]
        }
      ]
    },
    {
      "cell_type": "code",
      "source": [
        "concatenated_df_0.to_csv(\"/content/drive/MyDrive/01.School_related/DoAnChuyenNganh/dataset/features/features-0.csv\", index=None)\n",
        "concatenated_df_1.to_csv(\"/content/drive/MyDrive/01.School_related/DoAnChuyenNganh/dataset/features/features-1.csv\", index=None)\n",
        "concatenated_df_2.to_csv(\"/content/drive/MyDrive/01.School_related/DoAnChuyenNganh/dataset/features/features-2.csv\", index=None)\n",
        "concatenated_df_3.to_csv(\"/content/drive/MyDrive/01.School_related/DoAnChuyenNganh/dataset/features/features-3.csv\", index=None)\n",
        "concatenated_df_4.to_csv(\"/content/drive/MyDrive/01.School_related/DoAnChuyenNganh/dataset/features/features-4.csv\", index=None)\n",
        "concatenated_df_5.to_csv(\"/content/drive/MyDrive/01.School_related/DoAnChuyenNganh/dataset/features/features-5.csv\", index=None)"
      ],
      "metadata": {
        "id": "kQLb9JXoAFs0"
      },
      "execution_count": 69,
      "outputs": []
    }
  ]
}