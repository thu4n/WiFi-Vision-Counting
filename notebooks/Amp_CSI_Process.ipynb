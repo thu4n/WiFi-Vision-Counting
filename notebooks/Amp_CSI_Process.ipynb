{
  "nbformat": 4,
  "nbformat_minor": 0,
  "metadata": {
    "colab": {
      "provenance": []
    },
    "kernelspec": {
      "name": "python3",
      "display_name": "Python 3"
    },
    "language_info": {
      "name": "python"
    }
  },
  "cells": [
    {
      "cell_type": "markdown",
      "source": [
        "# Prep"
      ],
      "metadata": {
        "id": "bE1F938qUrjD"
      }
    },
    {
      "cell_type": "code",
      "execution_count": null,
      "metadata": {
        "id": "OvZchuNlO6r3"
      },
      "outputs": [],
      "source": [
        "import numpy as np\n",
        "import pandas as pd\n",
        "import matplotlib.pyplot as plt\n",
        "import os"
      ]
    },
    {
      "cell_type": "code",
      "source": [
        "folder_path = '/content/drive/MyDrive/01.School_related/DoAnChuyenNganh/dataset/amp'\n",
        "\n",
        "# List all files in the folder\n",
        "file_list = [f for f in os.listdir(folder_path) if f.endswith('.csv')]\n",
        "dfs = []\n",
        "for file_name in file_list:\n",
        "    file_path = os.path.join(folder_path, file_name)\n",
        "    df = pd.read_csv(file_path)\n",
        "    dfs.append(df)\n",
        "print(len(dfs))\n"
      ],
      "metadata": {
        "colab": {
          "base_uri": "https://localhost:8080/"
        },
        "id": "DZFNPqBtPguL",
        "outputId": "3f2f504f-db2c-45c1-d008-cf700d57b052"
      },
      "execution_count": null,
      "outputs": [
        {
          "output_type": "stream",
          "name": "stdout",
          "text": [
            "6\n"
          ]
        }
      ]
    },
    {
      "cell_type": "code",
      "source": [
        "for x in dfs:\n",
        "  print(x.shape)"
      ],
      "metadata": {
        "colab": {
          "base_uri": "https://localhost:8080/"
        },
        "id": "gEi1LuDkPnvV",
        "outputId": "599e9275-3416-4ff3-e2d8-bd045f01418a"
      },
      "execution_count": null,
      "outputs": [
        {
          "output_type": "stream",
          "name": "stdout",
          "text": [
            "(11687, 52)\n",
            "(11118, 52)\n",
            "(11746, 52)\n",
            "(10227, 52)\n",
            "(11377, 52)\n",
            "(10411, 52)\n"
          ]
        }
      ]
    },
    {
      "cell_type": "code",
      "source": [
        "amp_dfs = []\n",
        "for x in dfs:\n",
        "  amp_df = x.iloc[1:]\n",
        "  amp_dfs.append(amp_df)"
      ],
      "metadata": {
        "id": "NVnyNAAURmg_"
      },
      "execution_count": null,
      "outputs": []
    },
    {
      "cell_type": "code",
      "source": [
        "for x in amp_dfs:\n",
        "  print(x.shape)"
      ],
      "metadata": {
        "colab": {
          "base_uri": "https://localhost:8080/"
        },
        "id": "QKUbzeZdR4Vr",
        "outputId": "bee6cb23-bcda-4aee-c55f-97489294c0de"
      },
      "execution_count": null,
      "outputs": [
        {
          "output_type": "stream",
          "name": "stdout",
          "text": [
            "(11686, 52)\n",
            "(11117, 52)\n",
            "(11745, 52)\n",
            "(10226, 52)\n",
            "(11376, 52)\n",
            "(10410, 52)\n"
          ]
        }
      ]
    },
    {
      "cell_type": "markdown",
      "source": [
        "# Segmentation"
      ],
      "metadata": {
        "id": "CAcM07-AUtY1"
      }
    },
    {
      "cell_type": "code",
      "source": [
        "import pandas as pd\n",
        "\n",
        "\n",
        "def segment_df_overlap(df, segment_size, overlap_size):\n",
        "  \"\"\"\n",
        "  Segments a DataFrame into overlapping chunks of a specified size.\n",
        "\n",
        "  Args:\n",
        "      df (pd.DataFrame): The DataFrame to segment.\n",
        "      segment_size (int): The desired size of each segment without overlap.\n",
        "      overlap_size (int): The number of rows to overlap between consecutive segments.\n",
        "\n",
        "  Returns:\n",
        "      list: A list of Pandas DataFrames, each representing a segment of the original DataFrame with overlap.\n",
        "  \"\"\"\n",
        "\n",
        "  if overlap_size >= segment_size:\n",
        "    raise ValueError(\"Overlap size cannot be greater than or equal to segment size.\")\n",
        "\n",
        "  # Calculate the number of segments with overlap\n",
        "  n_segments = (len(df) // (segment_size - overlap_size)) + 1\n",
        "\n",
        "  segments = []\n",
        "\n",
        "  start_idx = 0\n",
        "\n",
        "  for i in range(n_segments):\n",
        "    # Adjust ending index for overlap\n",
        "    end_idx = min(start_idx + segment_size, len(df))\n",
        "\n",
        "    # Select the current segment with overlap from previous segment\n",
        "    segment = df.iloc[start_idx:end_idx]\n",
        "\n",
        "    segments.append(segment)\n",
        "\n",
        "    # Update starting index for the next segment considering overlap\n",
        "    start_idx = max(end_idx - overlap_size, 0)  # Avoid negative index\n",
        "\n",
        "  return segments"
      ],
      "metadata": {
        "id": "VDguo8-7SCx6"
      },
      "execution_count": null,
      "outputs": []
    },
    {
      "cell_type": "markdown",
      "source": [
        "## Segment each dataframe manually"
      ],
      "metadata": {
        "id": "bz6zemL3UvqG"
      }
    },
    {
      "cell_type": "code",
      "source": [
        "df = pd.DataFrame(amp_dfs[5])\n",
        "\n",
        "segments = segment_df_overlap(df.copy(), 600, 200)\n",
        "\n",
        "print(\"First Segment:\\n\", segments[0])\n",
        "print(\"\\nLast Segment:\\n\", segments[-1])\n",
        "print(len(segments))"
      ],
      "metadata": {
        "colab": {
          "base_uri": "https://localhost:8080/"
        },
        "id": "VdDdgV-MS_6b",
        "outputId": "b9c2a665-8ef1-4b62-869a-49d694bd0e74"
      },
      "execution_count": null,
      "outputs": [
        {
          "output_type": "stream",
          "name": "stdout",
          "text": [
            "First Segment:\n",
            "              0          1          2          3          4          5  \\\n",
            "1    12.369317  12.369317  13.152946  14.035669  14.142136  13.038405   \n",
            "2    13.453624  12.727922  14.142136  14.142136  14.212670  13.601471   \n",
            "3    12.041595  12.041595  12.041595  13.000000  13.038405  12.041595   \n",
            "4    12.206556  12.206556  12.806248  13.453624  13.453624  12.041595   \n",
            "5    18.681542  17.720045  18.973666  18.384776  19.697716  17.464249   \n",
            "..         ...        ...        ...        ...        ...        ...   \n",
            "596  12.649111  13.601471  14.560220  15.297059  16.278821  14.142136   \n",
            "597  13.416408  13.892444  14.764823  15.264338  15.811388  14.212670   \n",
            "598  12.041595  13.152946  14.142136  14.317821  14.317821  12.649111   \n",
            "599  10.630146  12.041595  12.727922  13.601471  12.806248  12.206556   \n",
            "600  13.000000  13.000000  14.866069  15.524175  15.297059  14.142136   \n",
            "\n",
            "             6          7          8          9  ...         42         43  \\\n",
            "1    15.000000  14.000000  15.033296  15.000000  ...  14.142136  13.341664   \n",
            "2    14.212670  14.422205  15.264338  15.264338  ...  13.453624  12.727922   \n",
            "3    12.041595  12.165525  13.152946  12.165525  ...  13.152946  12.041595   \n",
            "4    12.727922  12.041595  12.806248  12.806248  ...  13.601471  12.806248   \n",
            "5    18.384776  19.313208  18.788294  20.124612  ...  17.464249  16.155494   \n",
            "..         ...        ...        ...        ...  ...        ...        ...   \n",
            "596  15.033296  15.033296  15.033296  15.033296  ...  16.124515  15.297059   \n",
            "597  15.000000  14.866069  14.866069  15.556349  ...  15.264338  14.317821   \n",
            "598  13.601471  13.928388  13.000000  14.317821  ...  14.142136  13.038405   \n",
            "599  12.206556  12.206556  12.529964  12.529964  ...  12.727922  12.041595   \n",
            "600  14.142136  14.035669  15.033296  15.000000  ...  14.866069  13.000000   \n",
            "\n",
            "            44         45         46         47         48         49  \\\n",
            "1    13.341664  13.601471  13.601471  12.369317  13.601471  12.649111   \n",
            "2    12.041595  12.806248  12.727922  13.453624  13.453624  12.806248   \n",
            "3    12.041595  12.041595  12.041595  13.152946  13.152946  13.341664   \n",
            "4    12.806248  12.806248  13.601471  13.601471  13.601471  13.038405   \n",
            "5    15.811388  17.720045  16.763055  16.763055  18.027756  16.763055   \n",
            "..         ...        ...        ...        ...        ...        ...   \n",
            "596  14.142136  14.317821  15.033296  15.033296  15.132746  15.297059   \n",
            "597  14.317821  14.317821  14.764823  16.124515  15.652476  15.231546   \n",
            "598  14.000000  13.000000  13.038405  14.000000  14.035669  13.000000   \n",
            "599  12.041595  12.041595  12.727922  12.727922  12.727922  12.806248   \n",
            "600  12.649111  12.649111  13.601471  14.560220  13.928388  14.317821   \n",
            "\n",
            "            50         51  \n",
            "1    12.649111  12.649111  \n",
            "2    12.806248  12.806248  \n",
            "3    13.152946  13.341664  \n",
            "4    13.601471  13.601471  \n",
            "5    16.492423  17.464249  \n",
            "..         ...        ...  \n",
            "596  15.132746  14.317821  \n",
            "597  15.264338  15.231546  \n",
            "598  14.035669  13.000000  \n",
            "599  12.806248  12.806248  \n",
            "600  13.928388  13.416408  \n",
            "\n",
            "[600 rows x 52 columns]\n",
            "\n",
            "Last Segment:\n",
            "                0          1          2          3          4          5  \\\n",
            "10211  10.000000  11.000000  11.000000  12.041595  11.180340  11.045361   \n",
            "10212  13.453624  13.453624  13.453624  15.620499  15.000000  14.422205   \n",
            "10213  13.000000  13.000000  13.928388  14.866069  13.601471  13.341664   \n",
            "10214  10.049876  10.440307  10.440307  10.440307  10.770330   9.486833   \n",
            "10215  13.453624  13.453624  14.866069  14.142136  14.866069  12.206556   \n",
            "...          ...        ...        ...        ...        ...        ...   \n",
            "10406  15.000000  15.000000  16.000000  17.117243  16.124515  15.297059   \n",
            "10407  16.155494  16.155494  17.088007  17.720045  16.763055  15.524175   \n",
            "10408  13.416408  13.892444  14.764823  15.811388  15.811388  14.422205   \n",
            "10409  15.033296  15.132746  16.031220  17.262677  16.278821  16.278821   \n",
            "10410  13.601471  13.000000  14.866069  14.317821  15.231546  13.000000   \n",
            "\n",
            "               6          7          8          9  ...         42         43  \\\n",
            "10211  12.369317  11.180340  12.369317  12.369317  ...   9.219544   8.246211   \n",
            "10212  14.422205  13.892444  14.764823  14.764823  ...  12.206556  10.630146   \n",
            "10213  13.341664  13.341664  13.341664  13.341664  ...  11.180340  10.295630   \n",
            "10214  10.770330  10.770330   9.848858   9.848858  ...   9.848858   8.246211   \n",
            "10215  14.212670  14.866069  15.620499  14.422205  ...  12.206556  11.401754   \n",
            "...          ...        ...        ...        ...  ...        ...        ...   \n",
            "10406  16.278821  15.524175  16.492423  16.763055  ...  12.041595  10.000000   \n",
            "10407  16.492423  16.492423  17.262677  17.262677  ...  13.601471  12.083046   \n",
            "10408  15.000000  15.000000  15.620499  15.620499  ...  12.206556  11.180340   \n",
            "10409  16.492423  16.492423  16.763055  16.763055  ...  13.341664  12.165525   \n",
            "10410  14.317821  13.416408  14.764823  15.264338  ...  12.649111  10.440307   \n",
            "\n",
            "              44         45         46         47         48         49  \\\n",
            "10211   8.000000   8.000000   9.000000   9.000000   9.000000   9.055385   \n",
            "10212  10.630146  10.630146  11.313708  12.041595  11.401754  11.401754   \n",
            "10213  10.816654  10.000000  10.816654  10.816654  11.401754  11.313708   \n",
            "10214   8.246211   8.246211   9.486833   9.219544  10.198039  10.049876   \n",
            "10215  11.401754  10.630146  11.401754  12.041595  12.041595  11.401754   \n",
            "...          ...        ...        ...        ...        ...        ...   \n",
            "10406  11.000000  10.000000  11.000000  11.045361  11.045361  11.401754   \n",
            "10407  12.083046  12.529964  12.083046  12.529964  13.038405  12.806248   \n",
            "10408  11.180340  10.770330  11.180340  12.083046  11.704700  12.369317   \n",
            "10409  12.165525  12.000000  12.041595  13.038405  13.000000  13.038405   \n",
            "10410  11.180340  11.045361  11.180340  11.045361  12.041595  12.000000   \n",
            "\n",
            "              50         51  \n",
            "10211   9.055385   9.219544  \n",
            "10212  11.401754  10.816654  \n",
            "10213  11.401754  11.401754  \n",
            "10214  10.198039  10.049876  \n",
            "10215  11.313708  11.401754  \n",
            "...          ...        ...  \n",
            "10406  11.180340  10.440307  \n",
            "10407  13.038405  12.806248  \n",
            "10408  12.369317  12.369317  \n",
            "10409  14.000000  13.038405  \n",
            "10410  12.041595  12.000000  \n",
            "\n",
            "[200 rows x 52 columns]\n",
            "27\n"
          ]
        }
      ]
    },
    {
      "cell_type": "code",
      "source": [
        "segment_index = 0\n",
        "people_index = 5\n",
        "for segment in segments:\n",
        "  segment.to_csv(f\"/content/drive/MyDrive/01.School_related/DoAnChuyenNganh/dataset/segments/segment-{people_index}-{segment_index}.csv\",index=False)\n",
        "  segment_index += 1"
      ],
      "metadata": {
        "id": "jvnk-oIIU8TY"
      },
      "execution_count": null,
      "outputs": []
    }
  ]
}