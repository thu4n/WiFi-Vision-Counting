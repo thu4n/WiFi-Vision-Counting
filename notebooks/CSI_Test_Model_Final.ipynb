{
  "nbformat": 4,
  "nbformat_minor": 0,
  "metadata": {
    "colab": {
      "provenance": []
    },
    "kernelspec": {
      "name": "python3",
      "display_name": "Python 3"
    },
    "language_info": {
      "name": "python"
    }
  },
  "cells": [
    {
      "cell_type": "code",
      "execution_count": null,
      "metadata": {
        "id": "mSaOU9bLjpBb"
      },
      "outputs": [],
      "source": [
        "import numpy as np\n",
        "import pandas as pd\n",
        "import matplotlib.pyplot as plt\n",
        "import os\n",
        "import re"
      ]
    },
    {
      "cell_type": "code",
      "source": [
        "folder_path = '/content/drive/MyDrive/01.School_related/DoAnChuyenNganh/dataset/processed'\n",
        "\n",
        "# List all files in the folder\n",
        "file_list = [f for f in os.listdir(folder_path) if f.endswith('.csv')]\n",
        "dfs = []\n",
        "labels = []\n",
        "for file_name in file_list:\n",
        "    file_path = os.path.join(folder_path, file_name)\n",
        "    df = pd.read_csv(file_path)\n",
        "    match = re.search(r\"processed-(\\d+)\", file_name)\n",
        "    label = match.group(1) # label them based on the first number in the file name\n",
        "    df[\"label\"] = int(label)\n",
        "    labels.append(label)\n",
        "    dfs.append(df)\n",
        "print(len(dfs))\n",
        "print(len(labels))"
      ],
      "metadata": {
        "colab": {
          "base_uri": "https://localhost:8080/"
        },
        "id": "KBSL4SLtk4x3",
        "outputId": "84378c88-18ed-4942-c484-0bc5d1cf121e"
      },
      "execution_count": null,
      "outputs": [
        {
          "output_type": "stream",
          "name": "stdout",
          "text": [
            "6\n",
            "6\n"
          ]
        }
      ]
    },
    {
      "cell_type": "code",
      "source": [
        "merged_df = pd.concat(dfs, axis=0, ignore_index=True)\n",
        "print(merged_df.shape)"
      ],
      "metadata": {
        "colab": {
          "base_uri": "https://localhost:8080/"
        },
        "id": "MvBs_ka7k9H3",
        "outputId": "5b957dcf-9102-41f8-ed0a-b228cd5bb994"
      },
      "execution_count": null,
      "outputs": [
        {
          "output_type": "stream",
          "name": "stdout",
          "text": [
            "(66566, 53)\n"
          ]
        }
      ]
    },
    {
      "cell_type": "code",
      "source": [
        "from tensorflow.keras.models import load_model\n",
        "import joblib"
      ],
      "metadata": {
        "id": "XDnmiSHAlFt2"
      },
      "execution_count": null,
      "outputs": []
    },
    {
      "cell_type": "code",
      "source": [
        "dnn_model = load_model('/content/drive/MyDrive/01.School_related/DoAnChuyenNganh/models/WiCal_DNNR_3.h5')\n",
        "with open('/content/drive/MyDrive/01.School_related/DoAnChuyenNganh/models/WiCount_RFR_2.pkl', 'rb') as file:\n",
        "    rfr_model = joblib.load(file)\n",
        "with open('/content/drive/MyDrive/01.School_related/DoAnChuyenNganh/models/WiCount_LGB_2.pkl', 'rb') as file:\n",
        "    lgbmr_model = joblib.load(file)\n"
      ],
      "metadata": {
        "id": "9MxSjBXjlKic"
      },
      "execution_count": null,
      "outputs": []
    },
    {
      "cell_type": "code",
      "source": [
        "dnn_model.summary()"
      ],
      "metadata": {
        "colab": {
          "base_uri": "https://localhost:8080/"
        },
        "id": "wEiTdnWemNa9",
        "outputId": "c98c7352-e3f1-41dd-8b0a-c9bf60be7676"
      },
      "execution_count": null,
      "outputs": [
        {
          "output_type": "stream",
          "name": "stdout",
          "text": [
            "Model: \"sequential_1\"\n",
            "_________________________________________________________________\n",
            " Layer (type)                Output Shape              Param #   \n",
            "=================================================================\n",
            " dense_5 (Dense)             (None, 782)               41446     \n",
            "                                                                 \n",
            " dense_6 (Dense)             (None, 440)               344520    \n",
            "                                                                 \n",
            " dropout_2 (Dropout)         (None, 440)               0         \n",
            "                                                                 \n",
            " dense_7 (Dense)             (None, 90)                39690     \n",
            "                                                                 \n",
            " dropout_3 (Dropout)         (None, 90)                0         \n",
            "                                                                 \n",
            " dense_8 (Dense)             (None, 10)                910       \n",
            "                                                                 \n",
            " dense_9 (Dense)             (None, 1)                 11        \n",
            "                                                                 \n",
            "=================================================================\n",
            "Total params: 426577 (1.63 MB)\n",
            "Trainable params: 426577 (1.63 MB)\n",
            "Non-trainable params: 0 (0.00 Byte)\n",
            "_________________________________________________________________\n"
          ]
        }
      ]
    },
    {
      "cell_type": "code",
      "source": [
        "from sklearn.model_selection import train_test_split\n",
        "from sklearn.linear_model import LinearRegression\n",
        "from sklearn.metrics import mean_squared_error\n",
        "from sklearn.metrics import mean_absolute_error"
      ],
      "metadata": {
        "id": "LRhCNex6mbB6"
      },
      "execution_count": null,
      "outputs": []
    },
    {
      "cell_type": "code",
      "source": [
        "X = merged_df.drop(\"label\", axis=1)\n",
        "y = merged_df[\"label\"]\n",
        "\n",
        "print(\"Flattened Features (X):\")\n",
        "print(X.shape)\n",
        "print(\"Labels (y):\")\n",
        "print(y.shape)\n",
        "\n",
        "# Split data into training and testing sets\n",
        "X_train, X_test, y_train, y_test = train_test_split(X, y, test_size=0.2, random_state=42)\n",
        "\n",
        "print(X_train.shape)\n",
        "print(y_train.shape)\n",
        "print(X_test.shape)\n",
        "print(y_test.shape)"
      ],
      "metadata": {
        "colab": {
          "base_uri": "https://localhost:8080/"
        },
        "id": "wqiDp2ZQmhHh",
        "outputId": "79d11416-6bff-4774-8e05-5b57f36d28ff"
      },
      "execution_count": null,
      "outputs": [
        {
          "output_type": "stream",
          "name": "stdout",
          "text": [
            "Flattened Features (X):\n",
            "(66566, 52)\n",
            "Labels (y):\n",
            "(66566,)\n",
            "(53252, 52)\n",
            "(53252,)\n",
            "(13314, 52)\n",
            "(13314,)\n"
          ]
        }
      ]
    },
    {
      "cell_type": "code",
      "source": [
        "y_pred = dnn_model.predict(X_test)\n",
        "\n",
        " # Calculate Mean Squared Error\n",
        "mse = mean_squared_error(y_test, y_pred)\n",
        "\n",
        "# Calculate Mean Absolute Error\n",
        "mae = mean_absolute_error(y_test, y_pred)\n",
        "\n",
        "print(\"Mean Squared Error:\", mse)\n",
        "print(\"Mean Absolute Error:\", mae)"
      ],
      "metadata": {
        "colab": {
          "base_uri": "https://localhost:8080/"
        },
        "id": "X_87zFoPmmgL",
        "outputId": "b5c53a2c-9c27-4c7b-a45d-6dcfb00b314b"
      },
      "execution_count": null,
      "outputs": [
        {
          "output_type": "stream",
          "name": "stdout",
          "text": [
            "417/417 [==============================] - 1s 3ms/step\n",
            "Mean Squared Error: 0.16858302116054308\n",
            "Mean Absolute Error: 0.23637757815988067\n"
          ]
        }
      ]
    },
    {
      "cell_type": "code",
      "source": [
        "rfr_y_pred = rfr_model.predict(X_test)\n",
        "\n",
        " # Calculate Mean Squared Error\n",
        "mse = mean_squared_error(y_test, rfr_y_pred)\n",
        "\n",
        "# Calculate Mean Absolute Error\n",
        "mae = mean_absolute_error(y_test, rfr_y_pred)\n",
        "\n",
        "print(\"Mean Squared Error:\", mse)\n",
        "print(\"Mean Absolute Error:\", mae)"
      ],
      "metadata": {
        "colab": {
          "base_uri": "https://localhost:8080/"
        },
        "id": "n3KzrRtCvqLZ",
        "outputId": "0526ac7d-c255-44b4-b280-7799ca52e92b"
      },
      "execution_count": null,
      "outputs": [
        {
          "output_type": "stream",
          "name": "stdout",
          "text": [
            "Mean Squared Error: 0.15983225927595013\n",
            "Mean Absolute Error: 0.22580366531470628\n"
          ]
        }
      ]
    },
    {
      "cell_type": "code",
      "source": [
        "lgbmr_y_pred = lgbmr_model.predict(X_test)\n",
        "\n",
        " # Calculate Mean Squared Error\n",
        "mse = mean_squared_error(y_test, lgbmr_y_pred)\n",
        "\n",
        "# Calculate Mean Absolute Error\n",
        "mae = mean_absolute_error(y_test, lgbmr_y_pred)\n",
        "\n",
        "print(\"Mean Squared Error:\", mse)\n",
        "print(\"Mean Absolute Error:\", mae)"
      ],
      "metadata": {
        "colab": {
          "base_uri": "https://localhost:8080/"
        },
        "id": "s2I2jF1hxxVV",
        "outputId": "78b0ab83-35b7-4d98-cc2b-3a09db6d9757"
      },
      "execution_count": null,
      "outputs": [
        {
          "output_type": "stream",
          "name": "stdout",
          "text": [
            "Mean Squared Error: 0.2222234385852217\n",
            "Mean Absolute Error: 0.28771741168229675\n"
          ]
        }
      ]
    },
    {
      "cell_type": "code",
      "source": [
        "# Create DataFrame\n",
        "rfr_df = pd.DataFrame({'y_test': y_test, 'y_pred': rfr_y_pred})\n",
        "\n",
        "# Display the DataFrame\n",
        "print(rfr_df)"
      ],
      "metadata": {
        "colab": {
          "base_uri": "https://localhost:8080/"
        },
        "id": "7kkTMaapwkMC",
        "outputId": "66111315-92f0-49bc-91a9-2bb53e5c17d3"
      },
      "execution_count": null,
      "outputs": [
        {
          "output_type": "stream",
          "name": "stdout",
          "text": [
            "       y_test  y_pred\n",
            "18868       1   1.085\n",
            "40995       3   1.885\n",
            "19366       1   1.665\n",
            "17089       1   3.650\n",
            "43529       4   3.920\n",
            "...       ...     ...\n",
            "60765       5   5.000\n",
            "35100       3   2.815\n",
            "3118        0   0.005\n",
            "43434       4   3.950\n",
            "61836       5   5.000\n",
            "\n",
            "[13314 rows x 2 columns]\n"
          ]
        }
      ]
    },
    {
      "cell_type": "code",
      "source": [
        "# Create DataFrame\n",
        "lgbmr_df = pd.DataFrame({'y_test': y_test, 'y_pred': lgbmr_y_pred})\n",
        "\n",
        "# Display the DataFrame\n",
        "print(lgbmr_df)"
      ],
      "metadata": {
        "colab": {
          "base_uri": "https://localhost:8080/"
        },
        "id": "5QdZNd8ZytdH",
        "outputId": "720110fa-f33a-47d9-95a7-bd513165ecda"
      },
      "execution_count": null,
      "outputs": [
        {
          "output_type": "stream",
          "name": "stdout",
          "text": [
            "       y_test    y_pred\n",
            "18868       1  0.921206\n",
            "40995       3  1.603269\n",
            "19366       1  1.534185\n",
            "17089       1  3.529670\n",
            "43529       4  4.217574\n",
            "...       ...       ...\n",
            "60765       5  4.992439\n",
            "35100       3  3.089344\n",
            "3118        0 -0.089698\n",
            "43434       4  3.961236\n",
            "61836       5  5.002503\n",
            "\n",
            "[13314 rows x 2 columns]\n"
          ]
        }
      ]
    },
    {
      "cell_type": "code",
      "source": [
        "# Flatten y_pred to make it a list of scalars\n",
        "y_pred_flat = [item for sublist in y_pred for item in sublist]\n",
        "\n",
        "# Create DataFrame\n",
        "dnn_df = pd.DataFrame({'y_test': y_test, 'y_pred': y_pred_flat})\n",
        "\n",
        "# Display the DataFrame\n",
        "print(df)"
      ],
      "metadata": {
        "colab": {
          "base_uri": "https://localhost:8080/"
        },
        "id": "D_r38zoSyZuU",
        "outputId": "c70def86-88f6-4a54-a2db-6ec92e867731"
      },
      "execution_count": null,
      "outputs": [
        {
          "output_type": "stream",
          "name": "stdout",
          "text": [
            "       y_test    y_pred\n",
            "18868       1  1.036301\n",
            "40995       3  2.197058\n",
            "19366       1  1.655617\n",
            "17089       1  2.224916\n",
            "43529       4  4.121350\n",
            "...       ...       ...\n",
            "60765       5  4.873410\n",
            "35100       3  3.098614\n",
            "3118        0  0.048901\n",
            "43434       4  3.870714\n",
            "61836       5  4.965945\n",
            "\n",
            "[13314 rows x 2 columns]\n"
          ]
        }
      ]
    },
    {
      "cell_type": "code",
      "source": [
        "# Group by unique values of y_test and calculate MAE for each group\n",
        "mae_values = df.groupby('y_test').apply(lambda x: mean_absolute_error(x['y_test'], x['y_pred']))\n",
        "\n",
        "# Print MAE values\n",
        "print(\"Mean Absolute Error (MAE) for each unique y_test value:\")\n",
        "print(mae_values)"
      ],
      "metadata": {
        "colab": {
          "base_uri": "https://localhost:8080/"
        },
        "id": "mNO_FRVIxIZ7",
        "outputId": "85a89235-b8ad-433f-b2da-b871fa68be20"
      },
      "execution_count": null,
      "outputs": [
        {
          "output_type": "stream",
          "name": "stdout",
          "text": [
            "Mean Absolute Error (MAE) for each unique y_test value:\n",
            "y_test\n",
            "0    0.331020\n",
            "1    0.252866\n",
            "2    0.233759\n",
            "3    0.329442\n",
            "4    0.179828\n",
            "5    0.107561\n",
            "dtype: float64\n"
          ]
        }
      ]
    },
    {
      "cell_type": "code",
      "source": [
        "# Plotting\n",
        "plt.figure(figsize=(8, 6))\n",
        "plt.bar(mae_values.index.astype(str), mae_values.values, color='blue')\n",
        "plt.xlabel('y_test')\n",
        "plt.ylabel('Mean Absolute Error (MAE)')\n",
        "plt.title('Mean Absolute Error (MAE) for each unique y_test value')\n",
        "plt.grid(axis='y', linestyle='--', alpha=0.7)\n",
        "plt.show()"
      ],
      "metadata": {
        "colab": {
          "base_uri": "https://localhost:8080/",
          "height": 564
        },
        "id": "djtg1anjxXGm",
        "outputId": "b52a02a2-d873-466d-fe00-9e42a74c02b8"
      },
      "execution_count": null,
      "outputs": [
        {
          "output_type": "display_data",
          "data": {
            "text/plain": [
              "<Figure size 800x600 with 1 Axes>"
            ],
            "image/png": "[encoded data removed]"
          },
          "metadata": {}
        }
      ]
    },
    {
      "cell_type": "code",
      "source": [
        "# Plotting\n",
        "plt.figure(figsize=(8, 6))\n",
        "plt.bar(mae_values.index.astype(str), mae_values.values, color='blue')\n",
        "plt.xlabel('y_test')\n",
        "plt.ylabel('Mean Absolute Error (MAE)')\n",
        "plt.title('Mean Absolute Error (MAE) for each unique y_test value')\n",
        "plt.grid(axis='y', linestyle='--', alpha=0.7)\n",
        "plt.show()"
      ],
      "metadata": {
        "id": "hQr8H70gzbQE"
      },
      "execution_count": null,
      "outputs": []
    },
    {
      "cell_type": "code",
      "source": [
        "import pandas as pd\n",
        "import numpy as np\n",
        "from sklearn.metrics import mean_absolute_error\n",
        "import matplotlib.pyplot as plt\n",
        "\n",
        "\n",
        "# Calculate MAE for each model\n",
        "def calculate_mae(data):\n",
        "    mae_values = data.groupby('y_test').apply(lambda x: mean_absolute_error(x['y_test'], x['y_pred']))\n",
        "    return mae_values\n",
        "\n",
        "mae_model3 = calculate_mae(dnn_df)\n",
        "mae_model1 = calculate_mae(lgbmr_df)\n",
        "mae_model2 = calculate_mae(rfr_df)\n",
        "\n",
        "# Plotting\n",
        "plt.figure(figsize=(10, 6))\n",
        "\n",
        "# Plotting Model 1\n",
        "plt.bar(mae_model1.index - 0.2, mae_model1.values, width=0.2, color='blue', align='center', label='LGBMR')\n",
        "\n",
        "# Plotting Model 2\n",
        "plt.bar(mae_model2.index, mae_model2.values, width=0.2, color='green', align='center', label='RFR')\n",
        "\n",
        "# Plotting Model 3\n",
        "plt.bar(mae_model3.index + 0.2, mae_model3.values, width=0.2, color='orange', align='center', label='DNNR')\n",
        "\n",
        "plt.xlabel('Number of people')\n",
        "plt.ylabel('Mean Absolute Error (MAE)')\n",
        "plt.xticks(mae_model1.index)\n",
        "plt.legend()\n",
        "plt.grid(axis='y', linestyle='--', alpha=0.7)\n",
        "plt.tight_layout()\n",
        "plt.show()\n"
      ],
      "metadata": {
        "colab": {
          "base_uri": "https://localhost:8080/",
          "height": 607
        },
        "id": "4YoG2vdexoaI",
        "outputId": "9c7f4bb9-9125-4d1f-e4ea-843d35cb15a4"
      },
      "execution_count": null,
      "outputs": [
        {
          "output_type": "display_data",
          "data": {
            "text/plain": [
              "<Figure size 1000x600 with 1 Axes>"
            ],
            "image/png": "[encoded data removed]"
          },
          "metadata": {}
        }
      ]
    }
  ]
}