{
  "nbformat": 4,
  "nbformat_minor": 0,
  "metadata": {
    "colab": {
      "provenance": []
    },
    "kernelspec": {
      "name": "python3",
      "display_name": "Python 3"
    },
    "language_info": {
      "name": "python"
    }
  },
  "cells": [
    {
      "cell_type": "markdown",
      "source": [
        "# Prep"
      ],
      "metadata": {
        "id": "wPnLgxrfb97p"
      }
    },
    {
      "cell_type": "code",
      "execution_count": null,
      "metadata": {
        "id": "BRlBoa6QZXGq"
      },
      "outputs": [],
      "source": [
        "import numpy as np\n",
        "import pandas as pd\n",
        "import matplotlib.pyplot as plt\n",
        "import os\n",
        "import re"
      ]
    },
    {
      "cell_type": "code",
      "source": [
        "folder_path = '/content/drive/MyDrive/01.School_related/DoAnChuyenNganh/dataset/processed'\n",
        "\n",
        "# List all files in the folder\n",
        "file_list = [f for f in os.listdir(folder_path) if f.endswith('.csv')]\n",
        "dfs = []\n",
        "labels = []\n",
        "for file_name in file_list:\n",
        "    file_path = os.path.join(folder_path, file_name)\n",
        "    df = pd.read_csv(file_path)\n",
        "    match = re.search(r\"processed-(\\d+)\", file_name)\n",
        "    label = match.group(1) # label them based on the first number in the file name\n",
        "    df[\"label\"] = int(label)\n",
        "    labels.append(label)\n",
        "    dfs.append(df)\n",
        "print(len(dfs))\n",
        "print(len(labels))"
      ],
      "metadata": {
        "colab": {
          "base_uri": "https://localhost:8080/"
        },
        "id": "jDmb8HeaZjYQ",
        "outputId": "c88cdc32-697e-4f11-8a04-72701efa12d7"
      },
      "execution_count": null,
      "outputs": [
        {
          "output_type": "stream",
          "name": "stdout",
          "text": [
            "6\n",
            "6\n"
          ]
        }
      ]
    },
    {
      "cell_type": "code",
      "source": [
        "merged_df = pd.concat(dfs, axis=0, ignore_index=True)\n",
        "print(merged_df.shape)"
      ],
      "metadata": {
        "colab": {
          "base_uri": "https://localhost:8080/"
        },
        "id": "Cpe4uYTCfmq8",
        "outputId": "038eac26-e36f-441b-9420-d2b11953fc50"
      },
      "execution_count": null,
      "outputs": [
        {
          "output_type": "stream",
          "name": "stdout",
          "text": [
            "(66566, 53)\n"
          ]
        }
      ]
    },
    {
      "cell_type": "code",
      "source": [
        "label_counts = merged_df[\"label\"].value_counts()\n",
        "print(label_counts)"
      ],
      "metadata": {
        "colab": {
          "base_uri": "https://localhost:8080/"
        },
        "id": "F-nTWmHkMbF0",
        "outputId": "73c6a438-1d53-4d0e-c086-b98f13fed0a5"
      },
      "execution_count": null,
      "outputs": [
        {
          "output_type": "stream",
          "name": "stdout",
          "text": [
            "label\n",
            "4    11746\n",
            "5    11687\n",
            "3    11377\n",
            "2    11118\n",
            "0    10411\n",
            "1    10227\n",
            "Name: count, dtype: int64\n"
          ]
        }
      ]
    },
    {
      "cell_type": "markdown",
      "source": [
        "# Model Training (DNN)"
      ],
      "metadata": {
        "id": "rbm_-sMHbTNQ"
      }
    },
    {
      "cell_type": "code",
      "source": [
        "from sklearn.model_selection import train_test_split\n",
        "from sklearn.linear_model import LinearRegression\n",
        "from sklearn.metrics import mean_squared_error\n",
        "from sklearn.metrics import mean_absolute_error"
      ],
      "metadata": {
        "id": "AGUA7Y1DcQmf"
      },
      "execution_count": null,
      "outputs": []
    },
    {
      "cell_type": "code",
      "source": [
        "X = merged_df.drop(\"label\", axis=1)\n",
        "y = merged_df[\"label\"]\n",
        "\n",
        "print(\"Flattened Features (X):\")\n",
        "print(X.shape)\n",
        "print(\"Labels (y):\")\n",
        "print(y.shape)"
      ],
      "metadata": {
        "id": "DHLGR_w3c_wg",
        "outputId": "47ab853b-8417-4bd3-dd6f-66a8c52f9845",
        "colab": {
          "base_uri": "https://localhost:8080/"
        }
      },
      "execution_count": null,
      "outputs": [
        {
          "output_type": "stream",
          "name": "stdout",
          "text": [
            "Flattened Features (X):\n",
            "(66566, 52)\n",
            "Labels (y):\n",
            "(66566,)\n"
          ]
        }
      ]
    },
    {
      "cell_type": "code",
      "source": [
        "# Split data into training and testing sets\n",
        "X_train, X_test, y_train, y_test = train_test_split(X, y, test_size=0.2, random_state=42)\n",
        "\n",
        "print(X_train.shape)\n",
        "print(y_train.shape)\n",
        "print(X_test.shape)\n",
        "print(y_test.shape)"
      ],
      "metadata": {
        "colab": {
          "base_uri": "https://localhost:8080/"
        },
        "id": "JO1BgUijc6R1",
        "outputId": "e1e88a75-49da-4024-b6dd-34553c3e931e"
      },
      "execution_count": null,
      "outputs": [
        {
          "output_type": "stream",
          "name": "stdout",
          "text": [
            "(53252, 52)\n",
            "(53252,)\n",
            "(13314, 52)\n",
            "(13314,)\n"
          ]
        }
      ]
    },
    {
      "cell_type": "code",
      "source": [
        "label_counts = y_test.value_counts()\n",
        "print(label_counts)"
      ],
      "metadata": {
        "colab": {
          "base_uri": "https://localhost:8080/"
        },
        "id": "MBshw639OJL4",
        "outputId": "09a6c91b-3412-4623-901f-6316789014f1"
      },
      "execution_count": null,
      "outputs": [
        {
          "output_type": "stream",
          "name": "stdout",
          "text": [
            "label\n",
            "5    2374\n",
            "4    2340\n",
            "3    2313\n",
            "2    2207\n",
            "0    2065\n",
            "1    2015\n",
            "Name: count, dtype: int64\n"
          ]
        }
      ]
    },
    {
      "cell_type": "code",
      "source": [
        "label_counts = y_train.value_counts()\n",
        "print(label_counts)"
      ],
      "metadata": {
        "id": "w6v9lgHjORId",
        "outputId": "0fa4f8fc-a038-4d32-a42a-6c7634f2dcc1",
        "colab": {
          "base_uri": "https://localhost:8080/"
        }
      },
      "execution_count": null,
      "outputs": [
        {
          "output_type": "stream",
          "name": "stdout",
          "text": [
            "label\n",
            "4    9406\n",
            "5    9313\n",
            "3    9064\n",
            "2    8911\n",
            "0    8346\n",
            "1    8212\n",
            "Name: count, dtype: int64\n"
          ]
        }
      ]
    },
    {
      "cell_type": "code",
      "source": [
        "from tensorflow.keras.models import Sequential\n",
        "from tensorflow.keras.layers import Dense, Dropout\n",
        "from tensorflow.keras.optimizers import Adam\n",
        "from tensorflow.keras.callbacks import EarlyStopping"
      ],
      "metadata": {
        "id": "yb1gQcYxlqtt"
      },
      "execution_count": null,
      "outputs": []
    },
    {
      "cell_type": "code",
      "source": [
        "model = Sequential()\n",
        "model.add(Dense(1000, activation='relu', input_shape=(X.shape[1],)))\n",
        "model.add(Dense(500, activation='relu'))\n",
        "model.add(Dropout(0.2))\n",
        "model.add(Dense(100, activation='relu'))\n",
        "model.add(Dropout(0.2))\n",
        "model.add(Dense(10, activation='relu'))\n",
        "model.add(Dense(1))\n",
        "\n",
        "opt = Adam(learning_rate=0.0001)\n",
        "\n",
        "model.compile(optimizer=opt,\n",
        "              loss='mse',\n",
        "              metrics=['mae'])"
      ],
      "metadata": {
        "id": "8LK7CIholtZe"
      },
      "execution_count": null,
      "outputs": []
    },
    {
      "cell_type": "code",
      "source": [
        "# early stopping setting\n",
        "early_stopping =  EarlyStopping(\n",
        "                            monitor='val_mae',\n",
        "                            min_delta=0,\n",
        "                            patience=10,\n",
        "                            verbose=1,\n",
        "                            mode='auto')"
      ],
      "metadata": {
        "id": "5zldyaT7pB8C"
      },
      "execution_count": null,
      "outputs": []
    },
    {
      "cell_type": "code",
      "source": [
        "# fit\n",
        "history = model.fit(X_train, y_train,\n",
        "                      batch_size=100,\n",
        "                      epochs=200,\n",
        "                      verbose=1,\n",
        "                      validation_split=0.2,\n",
        "                    callbacks=(early_stopping))"
      ],
      "metadata": {
        "colab": {
          "base_uri": "https://localhost:8080/"
        },
        "id": "onvk6Rttl_zZ",
        "outputId": "d1d2e600-4198-4f2a-e755-4c45308fb66d"
      },
      "execution_count": null,
      "outputs": [
        {
          "output_type": "stream",
          "name": "stdout",
          "text": [
            "Epoch 1/200\n",
            "427/427 [==============================] - 8s 14ms/step - loss: 1.3362 - mae: 0.9102 - val_loss: 0.5818 - val_mae: 0.6077\n",
            "Epoch 2/200\n",
            "427/427 [==============================] - 8s 18ms/step - loss: 0.6715 - mae: 0.6517 - val_loss: 0.4075 - val_mae: 0.4828\n",
            "Epoch 3/200\n",
            "427/427 [==============================] - 6s 13ms/step - loss: 0.5545 - mae: 0.5774 - val_loss: 0.3777 - val_mae: 0.4537\n",
            "Epoch 4/200\n",
            "427/427 [==============================] - 8s 18ms/step - loss: 0.5004 - mae: 0.5413 - val_loss: 0.3891 - val_mae: 0.4701\n",
            "Epoch 5/200\n",
            "427/427 [==============================] - 6s 13ms/step - loss: 0.4775 - mae: 0.5253 - val_loss: 0.3765 - val_mae: 0.4534\n",
            "Epoch 6/200\n",
            "427/427 [==============================] - 7s 17ms/step - loss: 0.4472 - mae: 0.5032 - val_loss: 0.4203 - val_mae: 0.4876\n",
            "Epoch 7/200\n",
            "427/427 [==============================] - 6s 15ms/step - loss: 0.4221 - mae: 0.4865 - val_loss: 0.2926 - val_mae: 0.3810\n",
            "Epoch 8/200\n",
            "427/427 [==============================] - 6s 14ms/step - loss: 0.4020 - mae: 0.4719 - val_loss: 0.3734 - val_mae: 0.4474\n",
            "Epoch 9/200\n",
            "427/427 [==============================] - 8s 18ms/step - loss: 0.3883 - mae: 0.4620 - val_loss: 0.3668 - val_mae: 0.4300\n",
            "Epoch 10/200\n",
            "427/427 [==============================] - 6s 13ms/step - loss: 0.3805 - mae: 0.4566 - val_loss: 0.5578 - val_mae: 0.6048\n",
            "Epoch 11/200\n",
            "427/427 [==============================] - 8s 18ms/step - loss: 0.3733 - mae: 0.4514 - val_loss: 0.3079 - val_mae: 0.4080\n",
            "Epoch 12/200\n",
            "427/427 [==============================] - 6s 14ms/step - loss: 0.3533 - mae: 0.4372 - val_loss: 0.2795 - val_mae: 0.3818\n",
            "Epoch 13/200\n",
            "427/427 [==============================] - 9s 22ms/step - loss: 0.3391 - mae: 0.4266 - val_loss: 0.3494 - val_mae: 0.4215\n",
            "Epoch 14/200\n",
            "427/427 [==============================] - 6s 14ms/step - loss: 0.3312 - mae: 0.4210 - val_loss: 0.2785 - val_mae: 0.3707\n",
            "Epoch 15/200\n",
            "427/427 [==============================] - 6s 15ms/step - loss: 0.3224 - mae: 0.4143 - val_loss: 0.2617 - val_mae: 0.3480\n",
            "Epoch 16/200\n",
            "427/427 [==============================] - 7s 16ms/step - loss: 0.3197 - mae: 0.4112 - val_loss: 0.2409 - val_mae: 0.3302\n",
            "Epoch 17/200\n",
            "427/427 [==============================] - 8s 19ms/step - loss: 0.3076 - mae: 0.4022 - val_loss: 0.2486 - val_mae: 0.3460\n",
            "Epoch 18/200\n",
            "427/427 [==============================] - 7s 17ms/step - loss: 0.2985 - mae: 0.3957 - val_loss: 0.2370 - val_mae: 0.3295\n",
            "Epoch 19/200\n",
            "427/427 [==============================] - 6s 13ms/step - loss: 0.2945 - mae: 0.3927 - val_loss: 0.2192 - val_mae: 0.3172\n",
            "Epoch 20/200\n",
            "427/427 [==============================] - 8s 18ms/step - loss: 0.2912 - mae: 0.3896 - val_loss: 0.2540 - val_mae: 0.3511\n",
            "Epoch 21/200\n",
            "427/427 [==============================] - 6s 14ms/step - loss: 0.2806 - mae: 0.3818 - val_loss: 0.2808 - val_mae: 0.3582\n",
            "Epoch 22/200\n",
            "427/427 [==============================] - 8s 18ms/step - loss: 0.2795 - mae: 0.3786 - val_loss: 0.3796 - val_mae: 0.4052\n",
            "Epoch 23/200\n",
            "427/427 [==============================] - 6s 14ms/step - loss: 0.3029 - mae: 0.3953 - val_loss: 0.2761 - val_mae: 0.3544\n",
            "Epoch 24/200\n",
            "427/427 [==============================] - 6s 15ms/step - loss: 0.2794 - mae: 0.3778 - val_loss: 0.2158 - val_mae: 0.3067\n",
            "Epoch 25/200\n",
            "427/427 [==============================] - 7s 17ms/step - loss: 0.2589 - mae: 0.3637 - val_loss: 0.2171 - val_mae: 0.3111\n",
            "Epoch 26/200\n",
            "427/427 [==============================] - 6s 13ms/step - loss: 0.2523 - mae: 0.3584 - val_loss: 0.2574 - val_mae: 0.3613\n",
            "Epoch 27/200\n",
            "427/427 [==============================] - 8s 19ms/step - loss: 0.2542 - mae: 0.3580 - val_loss: 0.1948 - val_mae: 0.2920\n",
            "Epoch 28/200\n",
            "427/427 [==============================] - 6s 14ms/step - loss: 0.2381 - mae: 0.3465 - val_loss: 0.2021 - val_mae: 0.3042\n",
            "Epoch 29/200\n",
            "427/427 [==============================] - 8s 18ms/step - loss: 0.2419 - mae: 0.3484 - val_loss: 0.2372 - val_mae: 0.3457\n",
            "Epoch 30/200\n",
            "427/427 [==============================] - 6s 14ms/step - loss: 0.2369 - mae: 0.3437 - val_loss: 0.1933 - val_mae: 0.3078\n",
            "Epoch 31/200\n",
            "427/427 [==============================] - 7s 17ms/step - loss: 0.2366 - mae: 0.3397 - val_loss: 0.2080 - val_mae: 0.2950\n",
            "Epoch 32/200\n",
            "427/427 [==============================] - 7s 16ms/step - loss: 0.2221 - mae: 0.3209 - val_loss: 0.2401 - val_mae: 0.2848\n",
            "Epoch 33/200\n",
            "427/427 [==============================] - 6s 14ms/step - loss: 0.2217 - mae: 0.3178 - val_loss: 0.1992 - val_mae: 0.2758\n",
            "Epoch 34/200\n",
            "427/427 [==============================] - 8s 18ms/step - loss: 0.2152 - mae: 0.3125 - val_loss: 0.2985 - val_mae: 0.3240\n",
            "Epoch 35/200\n",
            "427/427 [==============================] - 6s 14ms/step - loss: 0.2321 - mae: 0.3263 - val_loss: 0.1958 - val_mae: 0.2786\n",
            "Epoch 36/200\n",
            "427/427 [==============================] - 8s 18ms/step - loss: 0.2119 - mae: 0.3098 - val_loss: 0.2115 - val_mae: 0.2700\n",
            "Epoch 37/200\n",
            "427/427 [==============================] - 6s 14ms/step - loss: 0.2061 - mae: 0.3039 - val_loss: 0.1764 - val_mae: 0.2449\n",
            "Epoch 38/200\n",
            "427/427 [==============================] - 7s 17ms/step - loss: 0.2054 - mae: 0.3027 - val_loss: 0.1796 - val_mae: 0.2557\n",
            "Epoch 39/200\n",
            "427/427 [==============================] - 6s 14ms/step - loss: 0.1990 - mae: 0.2975 - val_loss: 0.1487 - val_mae: 0.2231\n",
            "Epoch 40/200\n",
            "427/427 [==============================] - 6s 15ms/step - loss: 0.1998 - mae: 0.2953 - val_loss: 0.1596 - val_mae: 0.2320\n",
            "Epoch 41/200\n",
            "427/427 [==============================] - 7s 17ms/step - loss: 0.1904 - mae: 0.2895 - val_loss: 0.1972 - val_mae: 0.3105\n",
            "Epoch 42/200\n",
            "427/427 [==============================] - 6s 13ms/step - loss: 0.1924 - mae: 0.2904 - val_loss: 0.1592 - val_mae: 0.2414\n",
            "Epoch 43/200\n",
            "427/427 [==============================] - 8s 19ms/step - loss: 0.1851 - mae: 0.2842 - val_loss: 0.2197 - val_mae: 0.2519\n",
            "Epoch 44/200\n",
            "427/427 [==============================] - 6s 13ms/step - loss: 0.1833 - mae: 0.2817 - val_loss: 0.1414 - val_mae: 0.2326\n",
            "Epoch 45/200\n",
            "427/427 [==============================] - 7s 17ms/step - loss: 0.1878 - mae: 0.2840 - val_loss: 0.2080 - val_mae: 0.3141\n",
            "Epoch 46/200\n",
            "427/427 [==============================] - 6s 13ms/step - loss: 0.1746 - mae: 0.2741 - val_loss: 0.1324 - val_mae: 0.2119\n",
            "Epoch 47/200\n",
            "427/427 [==============================] - 7s 15ms/step - loss: 0.1814 - mae: 0.2765 - val_loss: 0.1738 - val_mae: 0.2736\n",
            "Epoch 48/200\n",
            "427/427 [==============================] - 7s 17ms/step - loss: 0.1729 - mae: 0.2709 - val_loss: 0.1447 - val_mae: 0.2131\n",
            "Epoch 49/200\n",
            "427/427 [==============================] - 6s 13ms/step - loss: 0.1748 - mae: 0.2702 - val_loss: 0.2946 - val_mae: 0.2981\n",
            "Epoch 50/200\n",
            "427/427 [==============================] - 10s 23ms/step - loss: 0.1654 - mae: 0.2640 - val_loss: 0.1396 - val_mae: 0.2089\n",
            "Epoch 51/200\n",
            "427/427 [==============================] - 6s 14ms/step - loss: 0.1799 - mae: 0.2725 - val_loss: 0.1529 - val_mae: 0.2279\n",
            "Epoch 52/200\n",
            "427/427 [==============================] - 6s 15ms/step - loss: 0.1647 - mae: 0.2607 - val_loss: 0.1521 - val_mae: 0.2572\n",
            "Epoch 53/200\n",
            "427/427 [==============================] - 8s 18ms/step - loss: 0.1659 - mae: 0.2610 - val_loss: 0.1424 - val_mae: 0.2046\n",
            "Epoch 54/200\n",
            "427/427 [==============================] - 7s 17ms/step - loss: 0.1652 - mae: 0.2605 - val_loss: 0.1350 - val_mae: 0.2000\n",
            "Epoch 55/200\n",
            "427/427 [==============================] - 9s 22ms/step - loss: 0.1607 - mae: 0.2569 - val_loss: 0.1286 - val_mae: 0.1971\n",
            "Epoch 56/200\n",
            "427/427 [==============================] - 6s 13ms/step - loss: 0.1624 - mae: 0.2549 - val_loss: 0.1390 - val_mae: 0.2091\n",
            "Epoch 57/200\n",
            "427/427 [==============================] - 8s 18ms/step - loss: 0.1539 - mae: 0.2513 - val_loss: 0.1346 - val_mae: 0.1963\n",
            "Epoch 58/200\n",
            "427/427 [==============================] - 6s 14ms/step - loss: 0.1487 - mae: 0.2453 - val_loss: 0.1292 - val_mae: 0.1933\n",
            "Epoch 59/200\n",
            "427/427 [==============================] - 7s 16ms/step - loss: 0.1567 - mae: 0.2487 - val_loss: 0.2025 - val_mae: 0.2523\n",
            "Epoch 60/200\n",
            "427/427 [==============================] - 7s 17ms/step - loss: 0.1515 - mae: 0.2475 - val_loss: 0.1720 - val_mae: 0.2128\n",
            "Epoch 61/200\n",
            "427/427 [==============================] - 6s 14ms/step - loss: 0.1511 - mae: 0.2449 - val_loss: 0.1175 - val_mae: 0.2012\n",
            "Epoch 62/200\n",
            "427/427 [==============================] - 8s 18ms/step - loss: 0.1419 - mae: 0.2389 - val_loss: 0.1476 - val_mae: 0.2129\n",
            "Epoch 63/200\n",
            "427/427 [==============================] - 6s 14ms/step - loss: 0.1501 - mae: 0.2437 - val_loss: 0.1649 - val_mae: 0.2814\n",
            "Epoch 64/200\n",
            "427/427 [==============================] - 8s 18ms/step - loss: 0.1481 - mae: 0.2423 - val_loss: 0.2314 - val_mae: 0.2759\n",
            "Epoch 65/200\n",
            "427/427 [==============================] - 6s 13ms/step - loss: 0.1517 - mae: 0.2445 - val_loss: 0.1279 - val_mae: 0.1926\n",
            "Epoch 66/200\n",
            "427/427 [==============================] - 7s 17ms/step - loss: 0.1447 - mae: 0.2393 - val_loss: 0.1540 - val_mae: 0.2183\n",
            "Epoch 67/200\n",
            "427/427 [==============================] - 7s 15ms/step - loss: 0.1436 - mae: 0.2363 - val_loss: 0.1241 - val_mae: 0.2226\n",
            "Epoch 68/200\n",
            "427/427 [==============================] - 6s 15ms/step - loss: 0.1382 - mae: 0.2325 - val_loss: 0.1359 - val_mae: 0.2341\n",
            "Epoch 69/200\n",
            "427/427 [==============================] - 8s 18ms/step - loss: 0.1439 - mae: 0.2341 - val_loss: 0.1191 - val_mae: 0.2131\n",
            "Epoch 70/200\n",
            "427/427 [==============================] - 6s 13ms/step - loss: 0.1397 - mae: 0.2313 - val_loss: 0.1683 - val_mae: 0.2340\n",
            "Epoch 71/200\n",
            "427/427 [==============================] - 8s 19ms/step - loss: 0.1410 - mae: 0.2315 - val_loss: 0.1414 - val_mae: 0.2244\n",
            "Epoch 72/200\n",
            "427/427 [==============================] - 6s 14ms/step - loss: 0.1354 - mae: 0.2277 - val_loss: 0.1126 - val_mae: 0.1881\n",
            "Epoch 73/200\n",
            "427/427 [==============================] - 8s 18ms/step - loss: 0.1330 - mae: 0.2263 - val_loss: 0.1374 - val_mae: 0.2175\n",
            "Epoch 74/200\n",
            "427/427 [==============================] - 6s 14ms/step - loss: 0.1357 - mae: 0.2278 - val_loss: 0.1375 - val_mae: 0.2344\n",
            "Epoch 75/200\n",
            "427/427 [==============================] - 7s 15ms/step - loss: 0.1303 - mae: 0.2231 - val_loss: 0.1333 - val_mae: 0.2054\n",
            "Epoch 76/200\n",
            "427/427 [==============================] - 7s 17ms/step - loss: 0.1269 - mae: 0.2191 - val_loss: 0.2414 - val_mae: 0.3345\n",
            "Epoch 77/200\n",
            "427/427 [==============================] - 6s 13ms/step - loss: 0.1311 - mae: 0.2210 - val_loss: 0.1436 - val_mae: 0.2394\n",
            "Epoch 78/200\n",
            "427/427 [==============================] - 8s 19ms/step - loss: 0.1290 - mae: 0.2188 - val_loss: 0.1241 - val_mae: 0.2267\n",
            "Epoch 79/200\n",
            "427/427 [==============================] - 6s 13ms/step - loss: 0.1362 - mae: 0.2226 - val_loss: 0.1392 - val_mae: 0.2246\n",
            "Epoch 80/200\n",
            "427/427 [==============================] - 8s 18ms/step - loss: 0.1286 - mae: 0.2177 - val_loss: 0.1704 - val_mae: 0.2582\n",
            "Epoch 81/200\n",
            "427/427 [==============================] - 6s 14ms/step - loss: 0.1262 - mae: 0.2158 - val_loss: 0.1823 - val_mae: 0.2928\n",
            "Epoch 82/200\n",
            "427/427 [==============================] - 6s 15ms/step - loss: 0.1261 - mae: 0.2152 - val_loss: 0.1507 - val_mae: 0.2676\n",
            "Epoch 82: early stopping\n"
          ]
        }
      ]
    },
    {
      "cell_type": "markdown",
      "source": [
        "# Test model"
      ],
      "metadata": {
        "id": "ORHUzV4K6bPy"
      }
    },
    {
      "cell_type": "code",
      "source": [
        "y_pred = model.predict(X_test)\n",
        "\n",
        " # Calculate Mean Squared Error\n",
        "mse = mean_squared_error(y_test, y_pred)\n",
        "\n",
        "# Calculate Mean Absolute Error\n",
        "mae = mean_absolute_error(y_test, y_pred)\n",
        "\n",
        "print(\"Mean Squared Error:\", mse)\n",
        "print(\"Mean Absolute Error:\", mae)"
      ],
      "metadata": {
        "colab": {
          "base_uri": "https://localhost:8080/"
        },
        "id": "R-gvUcF00kJ3",
        "outputId": "ad4950d0-b158-4884-ec2f-3c9605b4959e"
      },
      "execution_count": null,
      "outputs": [
        {
          "output_type": "stream",
          "name": "stdout",
          "text": [
            "417/417 [==============================] - 1s 3ms/step\n",
            "Mean Squared Error: 0.14976763641993557\n",
            "Mean Absolute Error: 0.2671054771128889\n"
          ]
        }
      ]
    },
    {
      "cell_type": "code",
      "source": [
        "def compare_TV(history, train_met, val_met):\n",
        "    acc = history.history[train_met]\n",
        "    val_acc = history.history[val_met]\n",
        "    loss = history.history['loss']\n",
        "    val_loss = history.history['val_loss']\n",
        "    epochs = range(len(acc))\n",
        "\n",
        "    plt.plot(epochs, acc, 'bo' ,label = 'training '+train_met)\n",
        "    plt.plot(epochs, val_acc, 'b' , label= 'validation '+val_met)\n",
        "    plt.title('Training and Validation metrics')\n",
        "    plt.legend()\n",
        "\n",
        "    plt.figure()\n",
        "\n",
        "    plt.plot(epochs, loss, 'bo' ,label = 'training loss')\n",
        "    plt.plot(epochs, val_loss, 'b' , label= 'validation loss')\n",
        "    plt.title('Training and Validation loss')\n",
        "    plt.legend()\n",
        "\n",
        "    plt.show()"
      ],
      "metadata": {
        "id": "C-2reoJQ5-ry"
      },
      "execution_count": null,
      "outputs": []
    },
    {
      "cell_type": "code",
      "source": [
        "compare_TV(history, \"mae\", \"val_mae\")\n"
      ],
      "metadata": {
        "colab": {
          "base_uri": "https://localhost:8080/",
          "height": 887
        },
        "id": "SYjVhd0R6AA1",
        "outputId": "9ea51036-57c5-4f54-a2fa-507c95fea51e"
      },
      "execution_count": null,
      "outputs": [
        {
          "output_type": "display_data",
          "data": {
            "text/plain": [
              "<Figure size 640x480 with 1 Axes>"
            ],
            "image/png": "[encoded data removed]"
          },
          "metadata": {}
        },
        {
          "output_type": "display_data",
          "data": {
            "text/plain": [
              "<Figure size 640x480 with 1 Axes>"
            ],
            "image/png": "[encoded data removed]"
          },
          "metadata": {}
        }
      ]
    },
    {
      "cell_type": "code",
      "source": [
        "import tensorflow as tf\n",
        "\n",
        "# Assuming 'model' is your trained model\n",
        "model.save('/content/drive/MyDrive/01.School_related/DoAnChuyenNganh/models/WiCount_DNNR_2.h5')\n"
      ],
      "metadata": {
        "colab": {
          "base_uri": "https://localhost:8080/"
        },
        "id": "30vmpzcI7BRj",
        "outputId": "11b9b951-de59-4ac6-e760-d851c80e4a2f"
      },
      "execution_count": null,
      "outputs": [
        {
          "output_type": "stream",
          "name": "stderr",
          "text": [
            "/usr/local/lib/python3.10/dist-packages/keras/src/engine/training.py:3103: UserWarning: You are saving your model as an HDF5 file via `model.save()`. This file format is considered legacy. We recommend using instead the native Keras format, e.g. `model.save('my_model.keras')`.\n",
            "  saving_api.save_model(\n"
          ]
        }
      ]
    },
    {
      "cell_type": "markdown",
      "source": [
        "# RFR"
      ],
      "metadata": {
        "id": "GhpGGAN3cdCP"
      }
    },
    {
      "cell_type": "code",
      "source": [
        "from sklearn.ensemble import RandomForestRegressor\n",
        "\n",
        "rf = RandomForestRegressor(max_depth=None,random_state=42,max_features='log2',min_samples_leaf=1,n_estimators=200,min_samples_split=2)\n",
        "rf.fit(X_train, y_train)\n",
        "\n",
        "# Evaluate the model\n",
        "y_pred = rf.predict(X_test)\n",
        "mse = mean_squared_error(y_test, y_pred)\n",
        "print(f'Model Mean Squared Error (MSE): {mse}')\n",
        "mae = mean_absolute_error(y_test, y_pred)\n",
        "print(f'Model Mean Absolute Error (MSE): {mae}')"
      ],
      "metadata": {
        "colab": {
          "base_uri": "https://localhost:8080/"
        },
        "id": "y-_TJ3GbdTDT",
        "outputId": "7e9eaa19-062f-46c9-bdd1-db365d83b83e"
      },
      "execution_count": null,
      "outputs": [
        {
          "output_type": "stream",
          "name": "stdout",
          "text": [
            "Model Mean Squared Error (MSE): 0.15983225927595013\n",
            "Model Mean Absolute Error (MSE): 0.22580366531470628\n"
          ]
        }
      ]
    },
    {
      "cell_type": "code",
      "source": [
        "import joblib\n",
        "\n",
        "joblib.dump(rf, '/content/drive/MyDrive/01.School_related/DoAnChuyenNganh/models/WiCount_RFR_2.pkl')\n"
      ],
      "metadata": {
        "colab": {
          "base_uri": "https://localhost:8080/"
        },
        "id": "YvDENhP9eKRF",
        "outputId": "5d0ee2c4-032d-4b44-9dd1-cb1baa4ab0fb"
      },
      "execution_count": null,
      "outputs": [
        {
          "output_type": "execute_result",
          "data": {
            "text/plain": [
              "['/content/drive/MyDrive/01.School_related/DoAnChuyenNganh/models/WiCount_RFR_2.pkl']"
            ]
          },
          "metadata": {},
          "execution_count": 15
        }
      ]
    },
    {
      "cell_type": "markdown",
      "source": [
        "# Ridge Regression"
      ],
      "metadata": {
        "id": "91DHlmeMf4xa"
      }
    },
    {
      "cell_type": "code",
      "source": [
        "from sklearn.linear_model import Ridge\n",
        "\n",
        "# Train the Ridge Regression model\n",
        "ridge = Ridge(alpha=200, solver='svd')\n",
        "ridge.fit(X_train, y_train)\n",
        "\n",
        "# Evaluate the model\n",
        "y_pred = ridge.predict(X_test)\n",
        "mse = mean_squared_error(y_test, y_pred)\n",
        "print(f'Model Mean Squared Error (MSE): {mse}')\n",
        "mae = mean_absolute_error(y_test, y_pred)\n",
        "print(f'Model Mean Absolute Error (MSE): {mae}')"
      ],
      "metadata": {
        "colab": {
          "base_uri": "https://localhost:8080/"
        },
        "id": "PxyaMYu4fyBH",
        "outputId": "2aec3d05-c990-4ade-8a4c-500037f721f5"
      },
      "execution_count": null,
      "outputs": [
        {
          "output_type": "stream",
          "name": "stdout",
          "text": [
            "Model Mean Squared Error (MSE): 1.0785610688574032\n",
            "Model Mean Absolute Error (MSE): 0.8276112374126471\n"
          ]
        }
      ]
    },
    {
      "cell_type": "code",
      "source": [
        "joblib.dump(ridge, '/content/drive/MyDrive/01.School_related/DoAnChuyenNganh/models/WiCount_LRR_2.pkl')"
      ],
      "metadata": {
        "colab": {
          "base_uri": "https://localhost:8080/"
        },
        "id": "uVKiH22kizQ6",
        "outputId": "ee75d21f-d3b3-4b40-f20d-e8d917cee872"
      },
      "execution_count": null,
      "outputs": [
        {
          "output_type": "execute_result",
          "data": {
            "text/plain": [
              "['/content/drive/MyDrive/01.School_related/DoAnChuyenNganh/models/WiCount_LRR_2.pkl']"
            ]
          },
          "metadata": {},
          "execution_count": 32
        }
      ]
    },
    {
      "cell_type": "markdown",
      "source": [
        "# SVR"
      ],
      "metadata": {
        "id": "iZIsh4jqgp8W"
      }
    },
    {
      "cell_type": "code",
      "source": [
        "from sklearn.svm import SVR\n",
        "# Train the Support Vector Regressor\n",
        "svr = SVR(kernel='rbf', C=100, epsilon=0.1, gamma='scale')\n",
        "svr.fit(X_train, y_train)\n",
        "\n",
        "# Evaluate the model\n",
        "y_pred = svr.predict(X_test)\n",
        "mse = mean_squared_error(y_test, y_pred)\n",
        "print(f'Model Mean Squared Error (MSE): {mse}')\n",
        "mae = mean_absolute_error(y_test, y_pred)\n",
        "print(f'Model Mean Absolute Error (MSE): {mae}')"
      ],
      "metadata": {
        "id": "sLnJjVsemPRT"
      },
      "execution_count": null,
      "outputs": []
    },
    {
      "cell_type": "markdown",
      "source": [
        "# LGBM"
      ],
      "metadata": {
        "id": "9gl0V-XfZyQk"
      }
    },
    {
      "cell_type": "code",
      "source": [
        "import lightgbm as lgb\n",
        "\n",
        "\n",
        "# Define the LGBM model parameters\n",
        "lgb_params = {\n",
        "    'objective': 'regression',  # Set objective for regression\n",
        "    'metric': 'l2',  # Mean squared error (l2) as evaluation metric\n",
        "    'learning_rate': 0.1,  # Adjust learning rate as needed\n",
        "    'num_leaves': 31,  # Number of leaves in trees (experiment with different values)\n",
        "    'max_depth': -1,  # Use all tree depth (can be adjusted)\n",
        "    'min_data_in_leaf': 20,  # Minimum data points per leaf (experiment with different values)\n",
        "    'feature_fraction': 0.9,  # Fraction of features used per tree (experiment with different values)\n",
        "    'bagging_fraction': 0.8,  # Bagging fraction (experiment with different values)\n",
        "    'bagging_freq': 5,  # Bagging frequency (experiment with different values)\n",
        "}\n",
        "\n",
        "# Create the LGBM training dataset\n",
        "lgb_train = lgb.Dataset(X_train, label=y_train)\n",
        "lgb_eval = lgb.Dataset(X_test, label=y_test, reference=lgb_train)  # For evaluation during training"
      ],
      "metadata": {
        "id": "RGlV65aSZ3PW"
      },
      "execution_count": null,
      "outputs": []
    },
    {
      "cell_type": "code",
      "source": [
        "# Train the LGBM model\n",
        "model = lgb.train(lgb_params, lgb_train, valid_sets=[lgb_eval])\n",
        "\n",
        "# Make predictions on the test set\n",
        "y_pred = model.predict(X_test)\n",
        "\n",
        "# Evaluate the model (using metrics like mean squared error or MAE)\n",
        "from sklearn.metrics import mean_squared_error, mean_absolute_error\n",
        "mse = mean_squared_error(y_test, y_pred)\n",
        "mae = mean_absolute_error(y_test, y_pred)\n",
        "print(f'Model Mean Squared Error (MSE): {mse}')\n",
        "print(f'Model Mean Absolute Error (MAE): {mae}')"
      ],
      "metadata": {
        "colab": {
          "base_uri": "https://localhost:8080/"
        },
        "id": "nLTh0QViaMSg",
        "outputId": "b90735b7-c269-4724-bd77-647397d8a44a"
      },
      "execution_count": null,
      "outputs": [
        {
          "output_type": "stream",
          "name": "stdout",
          "text": [
            "[LightGBM] [Info] Auto-choosing col-wise multi-threading, the overhead of testing was 0.027888 seconds.\n",
            "You can set `force_col_wise=true` to remove the overhead.\n",
            "[LightGBM] [Info] Total Bins 13260\n",
            "[LightGBM] [Info] Number of data points in the train set: 53252, number of used features: 52\n",
            "[LightGBM] [Info] Start training from score 2.580466\n",
            "Model Mean Squared Error (MSE): 0.2222234385852217\n",
            "Model Mean Absolute Error (MAE): 0.28771741168229675\n"
          ]
        }
      ]
    },
    {
      "cell_type": "code",
      "source": [
        "joblib.dump(model, '/content/drive/MyDrive/01.School_related/DoAnChuyenNganh/models/WiCount_LGB_2.pkl')\n"
      ],
      "metadata": {
        "colab": {
          "base_uri": "https://localhost:8080/"
        },
        "id": "ErTx6B24itWm",
        "outputId": "402d7ebc-164a-4309-e9bb-fb20a94c545a"
      },
      "execution_count": null,
      "outputs": [
        {
          "output_type": "execute_result",
          "data": {
            "text/plain": [
              "['/content/drive/MyDrive/01.School_related/DoAnChuyenNganh/models/WiCount_LGB_2.pkl']"
            ]
          },
          "metadata": {},
          "execution_count": 36
        }
      ]
    },
    {
      "cell_type": "markdown",
      "source": [
        "# DNNR GridSearch"
      ],
      "metadata": {
        "id": "0vQGv8LMj6TY"
      }
    },
    {
      "cell_type": "code",
      "source": [
        "model = Sequential()\n",
        "model.add(Dense(1000, activation='relu', input_shape=(X.shape[1],)))\n",
        "model.add(Dense(500, activation='relu'))\n",
        "model.add(Dropout(0.2))\n",
        "model.add(Dense(100, activation='relu'))\n",
        "model.add(Dropout(0.2))\n",
        "model.add(Dense(10, activation='relu'))\n",
        "model.add(Dense(1))\n",
        "\n",
        "opt = Adam(learning_rate=0.0001)\n",
        "\n",
        "model.compile(optimizer=opt,\n",
        "              loss='mse',\n",
        "              metrics=['mae'])"
      ],
      "metadata": {
        "id": "NPkUX5oPmptK"
      },
      "execution_count": null,
      "outputs": []
    },
    {
      "cell_type": "code",
      "source": [
        "!pip install -q -U keras-tuner"
      ],
      "metadata": {
        "colab": {
          "base_uri": "https://localhost:8080/"
        },
        "id": "YFaECWaHqMdt",
        "outputId": "2a37279f-3b6b-4a15-d2e8-ab65fb26c77a"
      },
      "execution_count": null,
      "outputs": [
        {
          "output_type": "stream",
          "name": "stdout",
          "text": [
            "\u001b[?25l     \u001b[90m━━━━━━━━━━━━━━━━━━━━━━━━━━━━━━━━━━━━━━━━\u001b[0m \u001b[32m0.0/129.1 kB\u001b[0m \u001b[31m?\u001b[0m eta \u001b[36m-:--:--\u001b[0m\r\u001b[2K     \u001b[91m━━━━━━━━━\u001b[0m\u001b[91m╸\u001b[0m\u001b[90m━━━━━━━━━━━━━━━━━━━━━━━━━━━━━━\u001b[0m \u001b[32m30.7/129.1 kB\u001b[0m \u001b[31m788.7 kB/s\u001b[0m eta \u001b[36m0:00:01\u001b[0m\r\u001b[2K     \u001b[90m━━━━━━━━━━━━━━━━━━━━━━━━━━━━━━━━━━━━━━━━\u001b[0m \u001b[32m129.1/129.1 kB\u001b[0m \u001b[31m1.6 MB/s\u001b[0m eta \u001b[36m0:00:00\u001b[0m\n",
            "\u001b[?25h"
          ]
        }
      ]
    },
    {
      "cell_type": "code",
      "source": [
        "import keras_tuner as kt\n",
        "\n",
        "def create_model(hp):\n",
        " # create model\n",
        "  model = Sequential()\n",
        "  hp_units1 = hp.Int('units1', min_value=512, max_value=1000, step=30)\n",
        "  hp_units2 = hp.Int('units2', min_value=200, max_value=500, step=30)\n",
        "  hp_units3 = hp.Int('units3', min_value=50, max_value=100, step=20)\n",
        "  model.add(Dense(units=hp_units1, activation='relu', input_shape=(X.shape[1],)))\n",
        "  model.add(Dense(units=hp_units2, activation='relu'))\n",
        "  model.add(Dropout(0.2))\n",
        "  model.add(Dense(units=hp_units3, activation='relu'))\n",
        "  model.add(Dropout(0.2))\n",
        "  model.add(Dense(10, activation='relu'))\n",
        "  model.add(Dense(1))\n",
        " # Compile model\n",
        "  opt = Adam(learning_rate=0.0001)\n",
        "  model.compile(optimizer=opt,\n",
        "              loss='mse',\n",
        "              metrics=['mae'],\n",
        "              )\n",
        "  return model\n",
        "\n",
        "\n",
        "tuner = kt.Hyperband(create_model,\n",
        "                     objective='val_mae',\n",
        "                     max_epochs=100,\n",
        "                     factor=3,\n",
        "                      directory='/content/drive/MyDrive/01.School_related/DoAnChuyenNganh/tuner',\n",
        "                     project_name='dnnr_1')\n",
        "stop_early = tf.keras.callbacks.EarlyStopping(monitor='val_loss', patience=8)\n"
      ],
      "metadata": {
        "id": "xcqv-2LXjYgp"
      },
      "execution_count": null,
      "outputs": []
    },
    {
      "cell_type": "code",
      "source": [
        "tuner.search(X_train, y_train, epochs=50, validation_split=0.2, batch_size=100, callbacks=[stop_early])\n",
        "\n"
      ],
      "metadata": {
        "colab": {
          "base_uri": "https://localhost:8080/",
          "height": 703
        },
        "id": "5cti9hJBkQGo",
        "outputId": "8b9253f5-3524-4422-8c10-c0c87563a500"
      },
      "execution_count": null,
      "outputs": [
        {
          "output_type": "stream",
          "name": "stdout",
          "text": [
            "Trial 190 Complete [00h 01m 25s]\n",
            "val_mae: 0.3451274633407593\n",
            "\n",
            "Best val_mae So Far: 0.20123621821403503\n",
            "Total elapsed time: 01h 07m 24s\n",
            "\n",
            "Search: Running Trial #191\n",
            "\n",
            "Value             |Best Value So Far |Hyperparameter\n",
            "632               |782               |units1\n",
            "350               |440               |units2\n",
            "70                |90                |units3\n",
            "12                |100               |tuner/epochs\n",
            "4                 |34                |tuner/initial_epoch\n",
            "3                 |4                 |tuner/bracket\n",
            "1                 |4                 |tuner/round\n",
            "0180              |0143              |tuner/trial_id\n",
            "\n",
            "Epoch 5/12\n",
            "424/427 [============================>.] - ETA: 0s - loss: 0.5060 - mae: 0.5446"
          ]
        },
        {
          "output_type": "error",
          "ename": "KeyboardInterrupt",
          "evalue": "",
          "traceback": [
            "\u001b[0;31m---------------------------------------------------------------------------\u001b[0m",
            "\u001b[0;31mKeyboardInterrupt\u001b[0m                         Traceback (most recent call last)",
            "\u001b[0;32m<ipython-input-73-879d1307a4c9>\u001b[0m in \u001b[0;36m<cell line: 1>\u001b[0;34m()\u001b[0m\n\u001b[0;32m----> 1\u001b[0;31m \u001b[0mtuner\u001b[0m\u001b[0;34m.\u001b[0m\u001b[0msearch\u001b[0m\u001b[0;34m(\u001b[0m\u001b[0mX_train\u001b[0m\u001b[0;34m,\u001b[0m \u001b[0my_train\u001b[0m\u001b[0;34m,\u001b[0m \u001b[0mepochs\u001b[0m\u001b[0;34m=\u001b[0m\u001b[0;36m50\u001b[0m\u001b[0;34m,\u001b[0m \u001b[0mvalidation_split\u001b[0m\u001b[0;34m=\u001b[0m\u001b[0;36m0.2\u001b[0m\u001b[0;34m,\u001b[0m \u001b[0mbatch_size\u001b[0m\u001b[0;34m=\u001b[0m\u001b[0;36m100\u001b[0m\u001b[0;34m,\u001b[0m \u001b[0mcallbacks\u001b[0m\u001b[0;34m=\u001b[0m\u001b[0;34m[\u001b[0m\u001b[0mstop_early\u001b[0m\u001b[0;34m]\u001b[0m\u001b[0;34m)\u001b[0m\u001b[0;34m\u001b[0m\u001b[0;34m\u001b[0m\u001b[0m\n\u001b[0m\u001b[1;32m      2\u001b[0m \u001b[0;34m\u001b[0m\u001b[0m\n\u001b[1;32m      3\u001b[0m \u001b[0;31m# Get the optimal hyperparameters\u001b[0m\u001b[0;34m\u001b[0m\u001b[0;34m\u001b[0m\u001b[0m\n\u001b[1;32m      4\u001b[0m \u001b[0mbest_hps\u001b[0m\u001b[0;34m=\u001b[0m\u001b[0mtuner\u001b[0m\u001b[0;34m.\u001b[0m\u001b[0mget_best_hyperparameters\u001b[0m\u001b[0;34m(\u001b[0m\u001b[0mnum_trials\u001b[0m\u001b[0;34m=\u001b[0m\u001b[0;36m1\u001b[0m\u001b[0;34m)\u001b[0m\u001b[0;34m[\u001b[0m\u001b[0;36m0\u001b[0m\u001b[0;34m]\u001b[0m\u001b[0;34m\u001b[0m\u001b[0;34m\u001b[0m\u001b[0m\n\u001b[1;32m      5\u001b[0m \u001b[0;34m\u001b[0m\u001b[0m\n",
            "\u001b[0;32m/usr/local/lib/python3.10/dist-packages/keras_tuner/src/engine/base_tuner.py\u001b[0m in \u001b[0;36msearch\u001b[0;34m(self, *fit_args, **fit_kwargs)\u001b[0m\n\u001b[1;32m    232\u001b[0m \u001b[0;34m\u001b[0m\u001b[0m\n\u001b[1;32m    233\u001b[0m             \u001b[0mself\u001b[0m\u001b[0;34m.\u001b[0m\u001b[0mon_trial_begin\u001b[0m\u001b[0;34m(\u001b[0m\u001b[0mtrial\u001b[0m\u001b[0;34m)\u001b[0m\u001b[0;34m\u001b[0m\u001b[0;34m\u001b[0m\u001b[0m\n\u001b[0;32m--> 234\u001b[0;31m             \u001b[0mself\u001b[0m\u001b[0;34m.\u001b[0m\u001b[0m_try_run_and_update_trial\u001b[0m\u001b[0;34m(\u001b[0m\u001b[0mtrial\u001b[0m\u001b[0;34m,\u001b[0m \u001b[0;34m*\u001b[0m\u001b[0mfit_args\u001b[0m\u001b[0;34m,\u001b[0m \u001b[0;34m**\u001b[0m\u001b[0mfit_kwargs\u001b[0m\u001b[0;34m)\u001b[0m\u001b[0;34m\u001b[0m\u001b[0;34m\u001b[0m\u001b[0m\n\u001b[0m\u001b[1;32m    235\u001b[0m             \u001b[0mself\u001b[0m\u001b[0;34m.\u001b[0m\u001b[0mon_trial_end\u001b[0m\u001b[0;34m(\u001b[0m\u001b[0mtrial\u001b[0m\u001b[0;34m)\u001b[0m\u001b[0;34m\u001b[0m\u001b[0;34m\u001b[0m\u001b[0m\n\u001b[1;32m    236\u001b[0m         \u001b[0mself\u001b[0m\u001b[0;34m.\u001b[0m\u001b[0mon_search_end\u001b[0m\u001b[0;34m(\u001b[0m\u001b[0;34m)\u001b[0m\u001b[0;34m\u001b[0m\u001b[0;34m\u001b[0m\u001b[0m\n",
            "\u001b[0;32m/usr/local/lib/python3.10/dist-packages/keras_tuner/src/engine/base_tuner.py\u001b[0m in \u001b[0;36m_try_run_and_update_trial\u001b[0;34m(self, trial, *fit_args, **fit_kwargs)\u001b[0m\n\u001b[1;32m    272\u001b[0m     \u001b[0;32mdef\u001b[0m \u001b[0m_try_run_and_update_trial\u001b[0m\u001b[0;34m(\u001b[0m\u001b[0mself\u001b[0m\u001b[0;34m,\u001b[0m \u001b[0mtrial\u001b[0m\u001b[0;34m,\u001b[0m \u001b[0;34m*\u001b[0m\u001b[0mfit_args\u001b[0m\u001b[0;34m,\u001b[0m \u001b[0;34m**\u001b[0m\u001b[0mfit_kwargs\u001b[0m\u001b[0;34m)\u001b[0m\u001b[0;34m:\u001b[0m\u001b[0;34m\u001b[0m\u001b[0;34m\u001b[0m\u001b[0m\n\u001b[1;32m    273\u001b[0m         \u001b[0;32mtry\u001b[0m\u001b[0;34m:\u001b[0m\u001b[0;34m\u001b[0m\u001b[0;34m\u001b[0m\u001b[0m\n\u001b[0;32m--> 274\u001b[0;31m             \u001b[0mself\u001b[0m\u001b[0;34m.\u001b[0m\u001b[0m_run_and_update_trial\u001b[0m\u001b[0;34m(\u001b[0m\u001b[0mtrial\u001b[0m\u001b[0;34m,\u001b[0m \u001b[0;34m*\u001b[0m\u001b[0mfit_args\u001b[0m\u001b[0;34m,\u001b[0m \u001b[0;34m**\u001b[0m\u001b[0mfit_kwargs\u001b[0m\u001b[0;34m)\u001b[0m\u001b[0;34m\u001b[0m\u001b[0;34m\u001b[0m\u001b[0m\n\u001b[0m\u001b[1;32m    275\u001b[0m             \u001b[0mtrial\u001b[0m\u001b[0;34m.\u001b[0m\u001b[0mstatus\u001b[0m \u001b[0;34m=\u001b[0m \u001b[0mtrial_module\u001b[0m\u001b[0;34m.\u001b[0m\u001b[0mTrialStatus\u001b[0m\u001b[0;34m.\u001b[0m\u001b[0mCOMPLETED\u001b[0m\u001b[0;34m\u001b[0m\u001b[0;34m\u001b[0m\u001b[0m\n\u001b[1;32m    276\u001b[0m             \u001b[0;32mreturn\u001b[0m\u001b[0;34m\u001b[0m\u001b[0;34m\u001b[0m\u001b[0m\n",
            "\u001b[0;32m/usr/local/lib/python3.10/dist-packages/keras_tuner/src/engine/base_tuner.py\u001b[0m in \u001b[0;36m_run_and_update_trial\u001b[0;34m(self, trial, *fit_args, **fit_kwargs)\u001b[0m\n\u001b[1;32m    237\u001b[0m \u001b[0;34m\u001b[0m\u001b[0m\n\u001b[1;32m    238\u001b[0m     \u001b[0;32mdef\u001b[0m \u001b[0m_run_and_update_trial\u001b[0m\u001b[0;34m(\u001b[0m\u001b[0mself\u001b[0m\u001b[0;34m,\u001b[0m \u001b[0mtrial\u001b[0m\u001b[0;34m,\u001b[0m \u001b[0;34m*\u001b[0m\u001b[0mfit_args\u001b[0m\u001b[0;34m,\u001b[0m \u001b[0;34m**\u001b[0m\u001b[0mfit_kwargs\u001b[0m\u001b[0;34m)\u001b[0m\u001b[0;34m:\u001b[0m\u001b[0;34m\u001b[0m\u001b[0;34m\u001b[0m\u001b[0m\n\u001b[0;32m--> 239\u001b[0;31m         \u001b[0mresults\u001b[0m \u001b[0;34m=\u001b[0m \u001b[0mself\u001b[0m\u001b[0;34m.\u001b[0m\u001b[0mrun_trial\u001b[0m\u001b[0;34m(\u001b[0m\u001b[0mtrial\u001b[0m\u001b[0;34m,\u001b[0m \u001b[0;34m*\u001b[0m\u001b[0mfit_args\u001b[0m\u001b[0;34m,\u001b[0m \u001b[0;34m**\u001b[0m\u001b[0mfit_kwargs\u001b[0m\u001b[0;34m)\u001b[0m\u001b[0;34m\u001b[0m\u001b[0;34m\u001b[0m\u001b[0m\n\u001b[0m\u001b[1;32m    240\u001b[0m         if self.oracle.get_trial(trial.trial_id).metrics.exists(\n\u001b[1;32m    241\u001b[0m             \u001b[0mself\u001b[0m\u001b[0;34m.\u001b[0m\u001b[0moracle\u001b[0m\u001b[0;34m.\u001b[0m\u001b[0mobjective\u001b[0m\u001b[0;34m.\u001b[0m\u001b[0mname\u001b[0m\u001b[0;34m\u001b[0m\u001b[0;34m\u001b[0m\u001b[0m\n",
            "\u001b[0;32m/usr/local/lib/python3.10/dist-packages/keras_tuner/src/tuners/hyperband.py\u001b[0m in \u001b[0;36mrun_trial\u001b[0;34m(self, trial, *fit_args, **fit_kwargs)\u001b[0m\n\u001b[1;32m    425\u001b[0m             \u001b[0mfit_kwargs\u001b[0m\u001b[0;34m[\u001b[0m\u001b[0;34m\"epochs\"\u001b[0m\u001b[0;34m]\u001b[0m \u001b[0;34m=\u001b[0m \u001b[0mhp\u001b[0m\u001b[0;34m.\u001b[0m\u001b[0mvalues\u001b[0m\u001b[0;34m[\u001b[0m\u001b[0;34m\"tuner/epochs\"\u001b[0m\u001b[0;34m]\u001b[0m\u001b[0;34m\u001b[0m\u001b[0;34m\u001b[0m\u001b[0m\n\u001b[1;32m    426\u001b[0m             \u001b[0mfit_kwargs\u001b[0m\u001b[0;34m[\u001b[0m\u001b[0;34m\"initial_epoch\"\u001b[0m\u001b[0;34m]\u001b[0m \u001b[0;34m=\u001b[0m \u001b[0mhp\u001b[0m\u001b[0;34m.\u001b[0m\u001b[0mvalues\u001b[0m\u001b[0;34m[\u001b[0m\u001b[0;34m\"tuner/initial_epoch\"\u001b[0m\u001b[0;34m]\u001b[0m\u001b[0;34m\u001b[0m\u001b[0;34m\u001b[0m\u001b[0m\n\u001b[0;32m--> 427\u001b[0;31m         \u001b[0;32mreturn\u001b[0m \u001b[0msuper\u001b[0m\u001b[0;34m(\u001b[0m\u001b[0;34m)\u001b[0m\u001b[0;34m.\u001b[0m\u001b[0mrun_trial\u001b[0m\u001b[0;34m(\u001b[0m\u001b[0mtrial\u001b[0m\u001b[0;34m,\u001b[0m \u001b[0;34m*\u001b[0m\u001b[0mfit_args\u001b[0m\u001b[0;34m,\u001b[0m \u001b[0;34m**\u001b[0m\u001b[0mfit_kwargs\u001b[0m\u001b[0;34m)\u001b[0m\u001b[0;34m\u001b[0m\u001b[0;34m\u001b[0m\u001b[0m\n\u001b[0m\u001b[1;32m    428\u001b[0m \u001b[0;34m\u001b[0m\u001b[0m\n\u001b[1;32m    429\u001b[0m     \u001b[0;32mdef\u001b[0m \u001b[0m_build_hypermodel\u001b[0m\u001b[0;34m(\u001b[0m\u001b[0mself\u001b[0m\u001b[0;34m,\u001b[0m \u001b[0mhp\u001b[0m\u001b[0;34m)\u001b[0m\u001b[0;34m:\u001b[0m\u001b[0;34m\u001b[0m\u001b[0;34m\u001b[0m\u001b[0m\n",
            "\u001b[0;32m/usr/local/lib/python3.10/dist-packages/keras_tuner/src/engine/tuner.py\u001b[0m in \u001b[0;36mrun_trial\u001b[0;34m(self, trial, *args, **kwargs)\u001b[0m\n\u001b[1;32m    312\u001b[0m             \u001b[0mcallbacks\u001b[0m\u001b[0;34m.\u001b[0m\u001b[0mappend\u001b[0m\u001b[0;34m(\u001b[0m\u001b[0mmodel_checkpoint\u001b[0m\u001b[0;34m)\u001b[0m\u001b[0;34m\u001b[0m\u001b[0;34m\u001b[0m\u001b[0m\n\u001b[1;32m    313\u001b[0m             \u001b[0mcopied_kwargs\u001b[0m\u001b[0;34m[\u001b[0m\u001b[0;34m\"callbacks\"\u001b[0m\u001b[0;34m]\u001b[0m \u001b[0;34m=\u001b[0m \u001b[0mcallbacks\u001b[0m\u001b[0;34m\u001b[0m\u001b[0;34m\u001b[0m\u001b[0m\n\u001b[0;32m--> 314\u001b[0;31m             \u001b[0mobj_value\u001b[0m \u001b[0;34m=\u001b[0m \u001b[0mself\u001b[0m\u001b[0;34m.\u001b[0m\u001b[0m_build_and_fit_model\u001b[0m\u001b[0;34m(\u001b[0m\u001b[0mtrial\u001b[0m\u001b[0;34m,\u001b[0m \u001b[0;34m*\u001b[0m\u001b[0margs\u001b[0m\u001b[0;34m,\u001b[0m \u001b[0;34m**\u001b[0m\u001b[0mcopied_kwargs\u001b[0m\u001b[0;34m)\u001b[0m\u001b[0;34m\u001b[0m\u001b[0;34m\u001b[0m\u001b[0m\n\u001b[0m\u001b[1;32m    315\u001b[0m \u001b[0;34m\u001b[0m\u001b[0m\n\u001b[1;32m    316\u001b[0m             \u001b[0mhistories\u001b[0m\u001b[0;34m.\u001b[0m\u001b[0mappend\u001b[0m\u001b[0;34m(\u001b[0m\u001b[0mobj_value\u001b[0m\u001b[0;34m)\u001b[0m\u001b[0;34m\u001b[0m\u001b[0;34m\u001b[0m\u001b[0m\n",
            "\u001b[0;32m/usr/local/lib/python3.10/dist-packages/keras_tuner/src/engine/tuner.py\u001b[0m in \u001b[0;36m_build_and_fit_model\u001b[0;34m(self, trial, *args, **kwargs)\u001b[0m\n\u001b[1;32m    231\u001b[0m         \u001b[0mhp\u001b[0m \u001b[0;34m=\u001b[0m \u001b[0mtrial\u001b[0m\u001b[0;34m.\u001b[0m\u001b[0mhyperparameters\u001b[0m\u001b[0;34m\u001b[0m\u001b[0;34m\u001b[0m\u001b[0m\n\u001b[1;32m    232\u001b[0m         \u001b[0mmodel\u001b[0m \u001b[0;34m=\u001b[0m \u001b[0mself\u001b[0m\u001b[0;34m.\u001b[0m\u001b[0m_try_build\u001b[0m\u001b[0;34m(\u001b[0m\u001b[0mhp\u001b[0m\u001b[0;34m)\u001b[0m\u001b[0;34m\u001b[0m\u001b[0;34m\u001b[0m\u001b[0m\n\u001b[0;32m--> 233\u001b[0;31m         \u001b[0mresults\u001b[0m \u001b[0;34m=\u001b[0m \u001b[0mself\u001b[0m\u001b[0;34m.\u001b[0m\u001b[0mhypermodel\u001b[0m\u001b[0;34m.\u001b[0m\u001b[0mfit\u001b[0m\u001b[0;34m(\u001b[0m\u001b[0mhp\u001b[0m\u001b[0;34m,\u001b[0m \u001b[0mmodel\u001b[0m\u001b[0;34m,\u001b[0m \u001b[0;34m*\u001b[0m\u001b[0margs\u001b[0m\u001b[0;34m,\u001b[0m \u001b[0;34m**\u001b[0m\u001b[0mkwargs\u001b[0m\u001b[0;34m)\u001b[0m\u001b[0;34m\u001b[0m\u001b[0;34m\u001b[0m\u001b[0m\n\u001b[0m\u001b[1;32m    234\u001b[0m \u001b[0;34m\u001b[0m\u001b[0m\n\u001b[1;32m    235\u001b[0m         \u001b[0;31m# Save the build config for model loading later.\u001b[0m\u001b[0;34m\u001b[0m\u001b[0;34m\u001b[0m\u001b[0m\n",
            "\u001b[0;32m/usr/local/lib/python3.10/dist-packages/keras_tuner/src/engine/hypermodel.py\u001b[0m in \u001b[0;36mfit\u001b[0;34m(self, hp, model, *args, **kwargs)\u001b[0m\n\u001b[1;32m    147\u001b[0m             \u001b[0mIf\u001b[0m \u001b[0;32mreturn\u001b[0m \u001b[0ma\u001b[0m \u001b[0mfloat\u001b[0m\u001b[0;34m,\u001b[0m \u001b[0mit\u001b[0m \u001b[0mshould\u001b[0m \u001b[0mbe\u001b[0m \u001b[0mthe\u001b[0m\u001b[0;31m \u001b[0m\u001b[0;31m`\u001b[0m\u001b[0mobjective\u001b[0m\u001b[0;31m`\u001b[0m \u001b[0mvalue\u001b[0m\u001b[0;34m.\u001b[0m\u001b[0;34m\u001b[0m\u001b[0;34m\u001b[0m\u001b[0m\n\u001b[1;32m    148\u001b[0m         \"\"\"\n\u001b[0;32m--> 149\u001b[0;31m         \u001b[0;32mreturn\u001b[0m \u001b[0mmodel\u001b[0m\u001b[0;34m.\u001b[0m\u001b[0mfit\u001b[0m\u001b[0;34m(\u001b[0m\u001b[0;34m*\u001b[0m\u001b[0margs\u001b[0m\u001b[0;34m,\u001b[0m \u001b[0;34m**\u001b[0m\u001b[0mkwargs\u001b[0m\u001b[0;34m)\u001b[0m\u001b[0;34m\u001b[0m\u001b[0;34m\u001b[0m\u001b[0m\n\u001b[0m\u001b[1;32m    150\u001b[0m \u001b[0;34m\u001b[0m\u001b[0m\n\u001b[1;32m    151\u001b[0m \u001b[0;34m\u001b[0m\u001b[0m\n",
            "\u001b[0;32m/usr/local/lib/python3.10/dist-packages/keras/src/utils/traceback_utils.py\u001b[0m in \u001b[0;36merror_handler\u001b[0;34m(*args, **kwargs)\u001b[0m\n\u001b[1;32m     63\u001b[0m \u001b[0;34m\u001b[0m\u001b[0m\n\u001b[1;32m     64\u001b[0m     \u001b[0mRaw\u001b[0m \u001b[0mKeras\u001b[0m \u001b[0mtracebacks\u001b[0m \u001b[0;34m(\u001b[0m\u001b[0malso\u001b[0m \u001b[0mknown\u001b[0m \u001b[0;32mas\u001b[0m \u001b[0mstack\u001b[0m \u001b[0mtraces\u001b[0m\u001b[0;34m)\u001b[0m\u001b[0;34m\u001b[0m\u001b[0;34m\u001b[0m\u001b[0m\n\u001b[0;32m---> 65\u001b[0;31m     \u001b[0minvolve\u001b[0m \u001b[0mmany\u001b[0m \u001b[0minternal\u001b[0m \u001b[0mframes\u001b[0m\u001b[0;34m,\u001b[0m \u001b[0mwhich\u001b[0m \u001b[0mcan\u001b[0m \u001b[0mbe\u001b[0m\u001b[0;34m\u001b[0m\u001b[0;34m\u001b[0m\u001b[0m\n\u001b[0m\u001b[1;32m     66\u001b[0m     \u001b[0mchallenging\u001b[0m \u001b[0mto\u001b[0m \u001b[0mread\u001b[0m \u001b[0mthrough\u001b[0m\u001b[0;34m,\u001b[0m \u001b[0;32mwhile\u001b[0m \u001b[0;32mnot\u001b[0m \u001b[0mbeing\u001b[0m \u001b[0mactionable\u001b[0m \u001b[0;32mfor\u001b[0m \u001b[0mend\u001b[0m \u001b[0musers\u001b[0m\u001b[0;34m.\u001b[0m\u001b[0;34m\u001b[0m\u001b[0;34m\u001b[0m\u001b[0m\n\u001b[1;32m     67\u001b[0m     \u001b[0mBy\u001b[0m \u001b[0mdefault\u001b[0m\u001b[0;34m,\u001b[0m \u001b[0mKeras\u001b[0m \u001b[0mfilters\u001b[0m \u001b[0minternal\u001b[0m \u001b[0mframes\u001b[0m \u001b[0;32min\u001b[0m \u001b[0mmost\u001b[0m \u001b[0mexceptions\u001b[0m \u001b[0mthat\u001b[0m \u001b[0mit\u001b[0m\u001b[0;34m\u001b[0m\u001b[0;34m\u001b[0m\u001b[0m\n",
            "\u001b[0;32m/usr/local/lib/python3.10/dist-packages/keras/src/engine/training.py\u001b[0m in \u001b[0;36mfit\u001b[0;34m(self, x, y, batch_size, epochs, verbose, callbacks, validation_split, validation_data, shuffle, class_weight, sample_weight, initial_epoch, steps_per_epoch, validation_steps, validation_batch_size, validation_freq, max_queue_size, workers, use_multiprocessing)\u001b[0m\n",
            "\u001b[0;32m/usr/local/lib/python3.10/dist-packages/keras/src/callbacks.py\u001b[0m in \u001b[0;36mon_epoch_end\u001b[0;34m(self, epoch, logs)\u001b[0m\n",
            "\u001b[0;32m/usr/local/lib/python3.10/dist-packages/keras_tuner/src/engine/tuner_utils.py\u001b[0m in \u001b[0;36mon_epoch_end\u001b[0;34m(self, epoch, logs)\u001b[0m\n\u001b[1;32m     74\u001b[0m         \u001b[0;32mif\u001b[0m \u001b[0mself\u001b[0m\u001b[0;34m.\u001b[0m\u001b[0mobjective\u001b[0m\u001b[0;34m.\u001b[0m\u001b[0mbetter_than\u001b[0m\u001b[0;34m(\u001b[0m\u001b[0mcurrent_value\u001b[0m\u001b[0;34m,\u001b[0m \u001b[0mself\u001b[0m\u001b[0;34m.\u001b[0m\u001b[0mbest_value\u001b[0m\u001b[0;34m)\u001b[0m\u001b[0;34m:\u001b[0m\u001b[0;34m\u001b[0m\u001b[0;34m\u001b[0m\u001b[0m\n\u001b[1;32m     75\u001b[0m             \u001b[0mself\u001b[0m\u001b[0;34m.\u001b[0m\u001b[0mbest_value\u001b[0m \u001b[0;34m=\u001b[0m \u001b[0mcurrent_value\u001b[0m\u001b[0;34m\u001b[0m\u001b[0;34m\u001b[0m\u001b[0m\n\u001b[0;32m---> 76\u001b[0;31m             \u001b[0mself\u001b[0m\u001b[0;34m.\u001b[0m\u001b[0m_save_model\u001b[0m\u001b[0;34m(\u001b[0m\u001b[0;34m)\u001b[0m\u001b[0;34m\u001b[0m\u001b[0;34m\u001b[0m\u001b[0m\n\u001b[0m\u001b[1;32m     77\u001b[0m \u001b[0;34m\u001b[0m\u001b[0m\n\u001b[1;32m     78\u001b[0m     \u001b[0;32mdef\u001b[0m \u001b[0m_save_model\u001b[0m\u001b[0;34m(\u001b[0m\u001b[0mself\u001b[0m\u001b[0;34m)\u001b[0m\u001b[0;34m:\u001b[0m\u001b[0;34m\u001b[0m\u001b[0;34m\u001b[0m\u001b[0m\n",
            "\u001b[0;32m/usr/local/lib/python3.10/dist-packages/keras_tuner/src/engine/tuner_utils.py\u001b[0m in \u001b[0;36m_save_model\u001b[0;34m(self)\u001b[0m\n\u001b[1;32m     84\u001b[0m             \u001b[0mself\u001b[0m\u001b[0;34m.\u001b[0m\u001b[0mfilepath\u001b[0m\u001b[0;34m,\u001b[0m \u001b[0mself\u001b[0m\u001b[0;34m.\u001b[0m\u001b[0mmodel\u001b[0m\u001b[0;34m.\u001b[0m\u001b[0mdistribute_strategy\u001b[0m\u001b[0;34m\u001b[0m\u001b[0;34m\u001b[0m\u001b[0m\n\u001b[1;32m     85\u001b[0m         )\n\u001b[0;32m---> 86\u001b[0;31m         \u001b[0mself\u001b[0m\u001b[0;34m.\u001b[0m\u001b[0mmodel\u001b[0m\u001b[0;34m.\u001b[0m\u001b[0msave_weights\u001b[0m\u001b[0;34m(\u001b[0m\u001b[0mwrite_filepath\u001b[0m\u001b[0;34m)\u001b[0m\u001b[0;34m\u001b[0m\u001b[0;34m\u001b[0m\u001b[0m\n\u001b[0m\u001b[1;32m     87\u001b[0m         \u001b[0;31m# Remove temporary saved model files on non-chief workers.\u001b[0m\u001b[0;34m\u001b[0m\u001b[0;34m\u001b[0m\u001b[0m\n\u001b[1;32m     88\u001b[0m         backend.io.remove_temp_dir_with_filepath(\n",
            "\u001b[0;32m/usr/local/lib/python3.10/dist-packages/keras/src/utils/traceback_utils.py\u001b[0m in \u001b[0;36merror_handler\u001b[0;34m(*args, **kwargs)\u001b[0m\n\u001b[1;32m     63\u001b[0m \u001b[0;34m\u001b[0m\u001b[0m\n\u001b[1;32m     64\u001b[0m     \u001b[0mRaw\u001b[0m \u001b[0mKeras\u001b[0m \u001b[0mtracebacks\u001b[0m \u001b[0;34m(\u001b[0m\u001b[0malso\u001b[0m \u001b[0mknown\u001b[0m \u001b[0;32mas\u001b[0m \u001b[0mstack\u001b[0m \u001b[0mtraces\u001b[0m\u001b[0;34m)\u001b[0m\u001b[0;34m\u001b[0m\u001b[0;34m\u001b[0m\u001b[0m\n\u001b[0;32m---> 65\u001b[0;31m     \u001b[0minvolve\u001b[0m \u001b[0mmany\u001b[0m \u001b[0minternal\u001b[0m \u001b[0mframes\u001b[0m\u001b[0;34m,\u001b[0m \u001b[0mwhich\u001b[0m \u001b[0mcan\u001b[0m \u001b[0mbe\u001b[0m\u001b[0;34m\u001b[0m\u001b[0;34m\u001b[0m\u001b[0m\n\u001b[0m\u001b[1;32m     66\u001b[0m     \u001b[0mchallenging\u001b[0m \u001b[0mto\u001b[0m \u001b[0mread\u001b[0m \u001b[0mthrough\u001b[0m\u001b[0;34m,\u001b[0m \u001b[0;32mwhile\u001b[0m \u001b[0;32mnot\u001b[0m \u001b[0mbeing\u001b[0m \u001b[0mactionable\u001b[0m \u001b[0;32mfor\u001b[0m \u001b[0mend\u001b[0m \u001b[0musers\u001b[0m\u001b[0;34m.\u001b[0m\u001b[0;34m\u001b[0m\u001b[0;34m\u001b[0m\u001b[0m\n\u001b[1;32m     67\u001b[0m     \u001b[0mBy\u001b[0m \u001b[0mdefault\u001b[0m\u001b[0;34m,\u001b[0m \u001b[0mKeras\u001b[0m \u001b[0mfilters\u001b[0m \u001b[0minternal\u001b[0m \u001b[0mframes\u001b[0m \u001b[0;32min\u001b[0m \u001b[0mmost\u001b[0m \u001b[0mexceptions\u001b[0m \u001b[0mthat\u001b[0m \u001b[0mit\u001b[0m\u001b[0;34m\u001b[0m\u001b[0;34m\u001b[0m\u001b[0m\n",
            "\u001b[0;32m/usr/local/lib/python3.10/dist-packages/keras/src/engine/training.py\u001b[0m in \u001b[0;36msave_weights\u001b[0;34m(self, filepath, overwrite, save_format, options)\u001b[0m\n",
            "\u001b[0;32m/usr/local/lib/python3.10/dist-packages/keras/src/saving/saving_api.py\u001b[0m in \u001b[0;36msave_weights\u001b[0;34m(model, filepath, overwrite, **kwargs)\u001b[0m\n",
            "\u001b[0;32m/usr/local/lib/python3.10/dist-packages/keras/src/saving/legacy/save.py\u001b[0m in \u001b[0;36msave_weights\u001b[0;34m(model, filepath, overwrite, save_format, options)\u001b[0m\n",
            "\u001b[0;32m/usr/local/lib/python3.10/dist-packages/tensorflow/python/checkpoint/checkpoint.py\u001b[0m in \u001b[0;36mwrite\u001b[0;34m(self, file_prefix, options)\u001b[0m\n\u001b[1;32m   2293\u001b[0m     \u001b[0;32mif\u001b[0m \u001b[0misinstance\u001b[0m\u001b[0;34m(\u001b[0m\u001b[0mfile_prefix\u001b[0m\u001b[0;34m,\u001b[0m \u001b[0mos\u001b[0m\u001b[0;34m.\u001b[0m\u001b[0mPathLike\u001b[0m\u001b[0;34m)\u001b[0m\u001b[0;34m:\u001b[0m\u001b[0;34m\u001b[0m\u001b[0;34m\u001b[0m\u001b[0m\n\u001b[1;32m   2294\u001b[0m       \u001b[0mfile_prefix\u001b[0m \u001b[0;34m=\u001b[0m \u001b[0mos\u001b[0m\u001b[0;34m.\u001b[0m\u001b[0mfspath\u001b[0m\u001b[0;34m(\u001b[0m\u001b[0mfile_prefix\u001b[0m\u001b[0;34m)\u001b[0m\u001b[0;34m\u001b[0m\u001b[0;34m\u001b[0m\u001b[0m\n\u001b[0;32m-> 2295\u001b[0;31m     \u001b[0;32mreturn\u001b[0m \u001b[0mself\u001b[0m\u001b[0;34m.\u001b[0m\u001b[0m_write\u001b[0m\u001b[0;34m(\u001b[0m\u001b[0mfile_prefix\u001b[0m\u001b[0;34m,\u001b[0m \u001b[0moptions\u001b[0m\u001b[0;34m)\u001b[0m\u001b[0;34m\u001b[0m\u001b[0;34m\u001b[0m\u001b[0m\n\u001b[0m\u001b[1;32m   2296\u001b[0m \u001b[0;34m\u001b[0m\u001b[0m\n\u001b[1;32m   2297\u001b[0m   \u001b[0;32mdef\u001b[0m \u001b[0m_async_checkpointer\u001b[0m\u001b[0;34m(\u001b[0m\u001b[0mself\u001b[0m\u001b[0;34m)\u001b[0m\u001b[0;34m:\u001b[0m\u001b[0;34m\u001b[0m\u001b[0;34m\u001b[0m\u001b[0m\n",
            "\u001b[0;32m/usr/local/lib/python3.10/dist-packages/tensorflow/python/checkpoint/checkpoint.py\u001b[0m in \u001b[0;36m_write\u001b[0;34m(self, file_prefix, options)\u001b[0m\n\u001b[1;32m   2342\u001b[0m     \u001b[0mstart_time\u001b[0m \u001b[0;34m=\u001b[0m \u001b[0mtime\u001b[0m\u001b[0;34m.\u001b[0m\u001b[0mtime\u001b[0m\u001b[0;34m(\u001b[0m\u001b[0;34m)\u001b[0m\u001b[0;34m\u001b[0m\u001b[0;34m\u001b[0m\u001b[0m\n\u001b[1;32m   2343\u001b[0m     \u001b[0moptions\u001b[0m \u001b[0;34m=\u001b[0m \u001b[0moptions\u001b[0m \u001b[0;32mor\u001b[0m \u001b[0mcheckpoint_options\u001b[0m\u001b[0;34m.\u001b[0m\u001b[0mCheckpointOptions\u001b[0m\u001b[0;34m(\u001b[0m\u001b[0;34m)\u001b[0m\u001b[0;34m\u001b[0m\u001b[0;34m\u001b[0m\u001b[0m\n\u001b[0;32m-> 2344\u001b[0;31m     \u001b[0moutput\u001b[0m \u001b[0;34m=\u001b[0m \u001b[0mself\u001b[0m\u001b[0;34m.\u001b[0m\u001b[0m_saver\u001b[0m\u001b[0;34m.\u001b[0m\u001b[0msave\u001b[0m\u001b[0;34m(\u001b[0m\u001b[0mfile_prefix\u001b[0m\u001b[0;34m=\u001b[0m\u001b[0mfile_prefix\u001b[0m\u001b[0;34m,\u001b[0m \u001b[0moptions\u001b[0m\u001b[0;34m=\u001b[0m\u001b[0moptions\u001b[0m\u001b[0;34m)\u001b[0m\u001b[0;34m\u001b[0m\u001b[0;34m\u001b[0m\u001b[0m\n\u001b[0m\u001b[1;32m   2345\u001b[0m     \u001b[0moutput\u001b[0m \u001b[0;34m=\u001b[0m \u001b[0m_convert_file_name_tensor_to_string\u001b[0m\u001b[0;34m(\u001b[0m\u001b[0moutput\u001b[0m\u001b[0;34m)\u001b[0m\u001b[0;34m\u001b[0m\u001b[0;34m\u001b[0m\u001b[0m\n\u001b[1;32m   2346\u001b[0m \u001b[0;34m\u001b[0m\u001b[0m\n",
            "\u001b[0;32m/usr/local/lib/python3.10/dist-packages/tensorflow/python/checkpoint/checkpoint.py\u001b[0m in \u001b[0;36msave\u001b[0;34m(self, file_prefix, checkpoint_number, session, options)\u001b[0m\n\u001b[1;32m   1330\u001b[0m       \u001b[0mfile_io\u001b[0m\u001b[0;34m.\u001b[0m\u001b[0mrecursive_create_dir\u001b[0m\u001b[0;34m(\u001b[0m\u001b[0mos\u001b[0m\u001b[0;34m.\u001b[0m\u001b[0mpath\u001b[0m\u001b[0;34m.\u001b[0m\u001b[0mdirname\u001b[0m\u001b[0;34m(\u001b[0m\u001b[0mfile_prefix\u001b[0m\u001b[0;34m)\u001b[0m\u001b[0;34m)\u001b[0m\u001b[0;34m\u001b[0m\u001b[0;34m\u001b[0m\u001b[0m\n\u001b[1;32m   1331\u001b[0m \u001b[0;34m\u001b[0m\u001b[0m\n\u001b[0;32m-> 1332\u001b[0;31m     save_path, new_feed_additions = self._save_cached_when_graph_building(\n\u001b[0m\u001b[1;32m   1333\u001b[0m         file_prefix_tensor, object_graph_tensor, options)\n\u001b[1;32m   1334\u001b[0m \u001b[0;34m\u001b[0m\u001b[0m\n",
            "\u001b[0;32m/usr/local/lib/python3.10/dist-packages/tensorflow/python/checkpoint/checkpoint.py\u001b[0m in \u001b[0;36m_save_cached_when_graph_building\u001b[0;34m(self, file_prefix, object_graph_tensor, options)\u001b[0m\n\u001b[1;32m   1268\u001b[0m       saver = functional_saver.MultiDeviceSaver(serialized_tensors,\n\u001b[1;32m   1269\u001b[0m                                                 registered_savers)\n\u001b[0;32m-> 1270\u001b[0;31m       \u001b[0msave_op\u001b[0m \u001b[0;34m=\u001b[0m \u001b[0msaver\u001b[0m\u001b[0;34m.\u001b[0m\u001b[0msave\u001b[0m\u001b[0;34m(\u001b[0m\u001b[0mfile_prefix\u001b[0m\u001b[0;34m,\u001b[0m \u001b[0moptions\u001b[0m\u001b[0;34m=\u001b[0m\u001b[0moptions\u001b[0m\u001b[0;34m)\u001b[0m\u001b[0;34m\u001b[0m\u001b[0;34m\u001b[0m\u001b[0m\n\u001b[0m\u001b[1;32m   1271\u001b[0m       \u001b[0;32mwith\u001b[0m \u001b[0mops\u001b[0m\u001b[0;34m.\u001b[0m\u001b[0mdevice\u001b[0m\u001b[0;34m(\u001b[0m\u001b[0;34m\"/cpu:0\"\u001b[0m\u001b[0;34m)\u001b[0m\u001b[0;34m:\u001b[0m\u001b[0;34m\u001b[0m\u001b[0;34m\u001b[0m\u001b[0m\n\u001b[1;32m   1272\u001b[0m         \u001b[0;32mwith\u001b[0m \u001b[0mops\u001b[0m\u001b[0;34m.\u001b[0m\u001b[0mcontrol_dependencies\u001b[0m\u001b[0;34m(\u001b[0m\u001b[0;34m[\u001b[0m\u001b[0msave_op\u001b[0m\u001b[0;34m]\u001b[0m\u001b[0;34m)\u001b[0m\u001b[0;34m:\u001b[0m\u001b[0;34m\u001b[0m\u001b[0;34m\u001b[0m\u001b[0m\n",
            "\u001b[0;32m/usr/local/lib/python3.10/dist-packages/tensorflow/python/checkpoint/functional_saver.py\u001b[0m in \u001b[0;36msave\u001b[0;34m(self, file_prefix, options)\u001b[0m\n\u001b[1;32m    405\u001b[0m       \u001b[0mtf_function_save\u001b[0m\u001b[0;34m(\u001b[0m\u001b[0;34m)\u001b[0m\u001b[0;34m\u001b[0m\u001b[0;34m\u001b[0m\u001b[0m\n\u001b[1;32m    406\u001b[0m     \u001b[0;32melse\u001b[0m\u001b[0;34m:\u001b[0m\u001b[0;34m\u001b[0m\u001b[0;34m\u001b[0m\u001b[0m\n\u001b[0;32m--> 407\u001b[0;31m       \u001b[0;32mreturn\u001b[0m \u001b[0msave_fn\u001b[0m\u001b[0;34m(\u001b[0m\u001b[0;34m)\u001b[0m\u001b[0;34m\u001b[0m\u001b[0;34m\u001b[0m\u001b[0m\n\u001b[0m\u001b[1;32m    408\u001b[0m \u001b[0;34m\u001b[0m\u001b[0m\n\u001b[1;32m    409\u001b[0m   \u001b[0;32mdef\u001b[0m \u001b[0mrestore\u001b[0m\u001b[0;34m(\u001b[0m\u001b[0mself\u001b[0m\u001b[0;34m,\u001b[0m \u001b[0mfile_prefix\u001b[0m\u001b[0;34m,\u001b[0m \u001b[0moptions\u001b[0m\u001b[0;34m=\u001b[0m\u001b[0;32mNone\u001b[0m\u001b[0;34m)\u001b[0m\u001b[0;34m:\u001b[0m\u001b[0;34m\u001b[0m\u001b[0;34m\u001b[0m\u001b[0m\n",
            "\u001b[0;32m/usr/local/lib/python3.10/dist-packages/tensorflow/python/checkpoint/functional_saver.py\u001b[0m in \u001b[0;36msave_fn\u001b[0;34m()\u001b[0m\n\u001b[1;32m    379\u001b[0m           \u001b[0;31m# initial read operations should be placed on the SaveableObject's\u001b[0m\u001b[0;34m\u001b[0m\u001b[0;34m\u001b[0m\u001b[0m\n\u001b[1;32m    380\u001b[0m           \u001b[0;31m# device.\u001b[0m\u001b[0;34m\u001b[0m\u001b[0;34m\u001b[0m\u001b[0m\n\u001b[0;32m--> 381\u001b[0;31m           \u001b[0msharded_saves\u001b[0m\u001b[0;34m.\u001b[0m\u001b[0mappend\u001b[0m\u001b[0;34m(\u001b[0m\u001b[0msaver\u001b[0m\u001b[0;34m.\u001b[0m\u001b[0msave\u001b[0m\u001b[0;34m(\u001b[0m\u001b[0mshard_prefix\u001b[0m\u001b[0;34m,\u001b[0m \u001b[0moptions\u001b[0m\u001b[0;34m)\u001b[0m\u001b[0;34m)\u001b[0m\u001b[0;34m\u001b[0m\u001b[0;34m\u001b[0m\u001b[0m\n\u001b[0m\u001b[1;32m    382\u001b[0m \u001b[0;34m\u001b[0m\u001b[0m\n\u001b[1;32m    383\u001b[0m       \u001b[0;32mwith\u001b[0m \u001b[0mops\u001b[0m\u001b[0;34m.\u001b[0m\u001b[0mcontrol_dependencies\u001b[0m\u001b[0;34m(\u001b[0m\u001b[0msharded_saves\u001b[0m\u001b[0;34m)\u001b[0m\u001b[0;34m:\u001b[0m\u001b[0;34m\u001b[0m\u001b[0;34m\u001b[0m\u001b[0m\n",
            "\u001b[0;32m/usr/local/lib/python3.10/dist-packages/tensorflow/python/checkpoint/functional_saver.py\u001b[0m in \u001b[0;36msave\u001b[0;34m(self, file_prefix, options)\u001b[0m\n\u001b[1;32m     82\u001b[0m     \u001b[0msave_device\u001b[0m \u001b[0;34m=\u001b[0m \u001b[0msave_device\u001b[0m \u001b[0;32mor\u001b[0m \u001b[0;34m\"cpu:0\"\u001b[0m\u001b[0;34m\u001b[0m\u001b[0;34m\u001b[0m\u001b[0m\n\u001b[1;32m     83\u001b[0m     \u001b[0;32mwith\u001b[0m \u001b[0mops\u001b[0m\u001b[0;34m.\u001b[0m\u001b[0mdevice\u001b[0m\u001b[0;34m(\u001b[0m\u001b[0msave_device\u001b[0m\u001b[0;34m)\u001b[0m\u001b[0;34m:\u001b[0m\u001b[0;34m\u001b[0m\u001b[0;34m\u001b[0m\u001b[0m\n\u001b[0;32m---> 84\u001b[0;31m       \u001b[0;32mreturn\u001b[0m \u001b[0mio_ops\u001b[0m\u001b[0;34m.\u001b[0m\u001b[0msave_v2\u001b[0m\u001b[0;34m(\u001b[0m\u001b[0mfile_prefix\u001b[0m\u001b[0;34m,\u001b[0m \u001b[0mtensor_names\u001b[0m\u001b[0;34m,\u001b[0m \u001b[0mslice_specs\u001b[0m\u001b[0;34m,\u001b[0m \u001b[0mtensors\u001b[0m\u001b[0;34m)\u001b[0m\u001b[0;34m\u001b[0m\u001b[0;34m\u001b[0m\u001b[0m\n\u001b[0m\u001b[1;32m     85\u001b[0m \u001b[0;34m\u001b[0m\u001b[0m\n\u001b[1;32m     86\u001b[0m   \u001b[0;32mdef\u001b[0m \u001b[0mrestore\u001b[0m\u001b[0;34m(\u001b[0m\u001b[0mself\u001b[0m\u001b[0;34m,\u001b[0m \u001b[0mfile_prefix\u001b[0m\u001b[0;34m,\u001b[0m \u001b[0moptions\u001b[0m\u001b[0;34m=\u001b[0m\u001b[0;32mNone\u001b[0m\u001b[0;34m)\u001b[0m\u001b[0;34m:\u001b[0m\u001b[0;34m\u001b[0m\u001b[0;34m\u001b[0m\u001b[0m\n",
            "\u001b[0;32m/usr/local/lib/python3.10/dist-packages/tensorflow/python/ops/gen_io_ops.py\u001b[0m in \u001b[0;36msave_v2\u001b[0;34m(prefix, tensor_names, shape_and_slices, tensors, name)\u001b[0m\n\u001b[1;32m   1726\u001b[0m       \u001b[0;32mpass\u001b[0m\u001b[0;34m\u001b[0m\u001b[0;34m\u001b[0m\u001b[0m\n\u001b[1;32m   1727\u001b[0m     \u001b[0;32mtry\u001b[0m\u001b[0;34m:\u001b[0m\u001b[0;34m\u001b[0m\u001b[0;34m\u001b[0m\u001b[0m\n\u001b[0;32m-> 1728\u001b[0;31m       return save_v2_eager_fallback(\n\u001b[0m\u001b[1;32m   1729\u001b[0m           \u001b[0mprefix\u001b[0m\u001b[0;34m,\u001b[0m \u001b[0mtensor_names\u001b[0m\u001b[0;34m,\u001b[0m \u001b[0mshape_and_slices\u001b[0m\u001b[0;34m,\u001b[0m \u001b[0mtensors\u001b[0m\u001b[0;34m,\u001b[0m \u001b[0mname\u001b[0m\u001b[0;34m=\u001b[0m\u001b[0mname\u001b[0m\u001b[0;34m,\u001b[0m\u001b[0;34m\u001b[0m\u001b[0;34m\u001b[0m\u001b[0m\n\u001b[1;32m   1730\u001b[0m           ctx=_ctx)\n",
            "\u001b[0;32m/usr/local/lib/python3.10/dist-packages/tensorflow/python/ops/gen_io_ops.py\u001b[0m in \u001b[0;36msave_v2_eager_fallback\u001b[0;34m(prefix, tensor_names, shape_and_slices, tensors, name, ctx)\u001b[0m\n\u001b[1;32m   1747\u001b[0m   \u001b[0m_inputs_flat\u001b[0m \u001b[0;34m=\u001b[0m \u001b[0;34m[\u001b[0m\u001b[0mprefix\u001b[0m\u001b[0;34m,\u001b[0m \u001b[0mtensor_names\u001b[0m\u001b[0;34m,\u001b[0m \u001b[0mshape_and_slices\u001b[0m\u001b[0;34m]\u001b[0m \u001b[0;34m+\u001b[0m \u001b[0mlist\u001b[0m\u001b[0;34m(\u001b[0m\u001b[0mtensors\u001b[0m\u001b[0;34m)\u001b[0m\u001b[0;34m\u001b[0m\u001b[0;34m\u001b[0m\u001b[0m\n\u001b[1;32m   1748\u001b[0m   \u001b[0m_attrs\u001b[0m \u001b[0;34m=\u001b[0m \u001b[0;34m(\u001b[0m\u001b[0;34m\"dtypes\"\u001b[0m\u001b[0;34m,\u001b[0m \u001b[0m_attr_dtypes\u001b[0m\u001b[0;34m)\u001b[0m\u001b[0;34m\u001b[0m\u001b[0;34m\u001b[0m\u001b[0m\n\u001b[0;32m-> 1749\u001b[0;31m   _result = _execute.execute(b\"SaveV2\", 0, inputs=_inputs_flat, attrs=_attrs,\n\u001b[0m\u001b[1;32m   1750\u001b[0m                              ctx=ctx, name=name)\n\u001b[1;32m   1751\u001b[0m   \u001b[0m_result\u001b[0m \u001b[0;34m=\u001b[0m \u001b[0;32mNone\u001b[0m\u001b[0;34m\u001b[0m\u001b[0;34m\u001b[0m\u001b[0m\n",
            "\u001b[0;32m/usr/local/lib/python3.10/dist-packages/tensorflow/python/eager/execute.py\u001b[0m in \u001b[0;36mquick_execute\u001b[0;34m(op_name, num_outputs, inputs, attrs, ctx, name)\u001b[0m\n\u001b[1;32m     51\u001b[0m   \u001b[0;32mtry\u001b[0m\u001b[0;34m:\u001b[0m\u001b[0;34m\u001b[0m\u001b[0;34m\u001b[0m\u001b[0m\n\u001b[1;32m     52\u001b[0m     \u001b[0mctx\u001b[0m\u001b[0;34m.\u001b[0m\u001b[0mensure_initialized\u001b[0m\u001b[0;34m(\u001b[0m\u001b[0;34m)\u001b[0m\u001b[0;34m\u001b[0m\u001b[0;34m\u001b[0m\u001b[0m\n\u001b[0;32m---> 53\u001b[0;31m     tensors = pywrap_tfe.TFE_Py_Execute(ctx._handle, device_name, op_name,\n\u001b[0m\u001b[1;32m     54\u001b[0m                                         inputs, attrs, num_outputs)\n\u001b[1;32m     55\u001b[0m   \u001b[0;32mexcept\u001b[0m \u001b[0mcore\u001b[0m\u001b[0;34m.\u001b[0m\u001b[0m_NotOkStatusException\u001b[0m \u001b[0;32mas\u001b[0m \u001b[0me\u001b[0m\u001b[0;34m:\u001b[0m\u001b[0;34m\u001b[0m\u001b[0;34m\u001b[0m\u001b[0m\n",
            "\u001b[0;31mKeyboardInterrupt\u001b[0m: "
          ]
        }
      ]
    },
    {
      "cell_type": "code",
      "source": [
        "# Get the optimal hyperparameters\n",
        "best_hps=tuner.get_best_hyperparameters(num_trials=1)[0]\n",
        "\n",
        "print(f\"\"\"\n",
        "The hyperparameter search is complete. The optimal number of units in the first densely-connected\n",
        "layer is {best_hps.get('units1')}, {best_hps.get('units2')}, and {best_hps.get('units3')}.\n",
        "\"\"\")"
      ],
      "metadata": {
        "colab": {
          "base_uri": "https://localhost:8080/"
        },
        "id": "Rvv6-dMO-hc4",
        "outputId": "ee66117c-328d-4a97-b86c-02031e4f499b"
      },
      "execution_count": null,
      "outputs": [
        {
          "output_type": "stream",
          "name": "stdout",
          "text": [
            "\n",
            "The hyperparameter search is complete. The optimal number of units in the first densely-connected\n",
            "layer is 782, 440, and 90.\n",
            "\n"
          ]
        }
      ]
    },
    {
      "cell_type": "code",
      "source": [
        "dnn_model = tuner.hypermodel.build(best_hps)\n",
        "\n",
        "# fit\n",
        "history = dnn_model.fit(X_train, y_train,\n",
        "                      batch_size=100,\n",
        "                      epochs=200,\n",
        "                      verbose=1,\n",
        "                      validation_split=0.2,\n",
        "                    callbacks=(early_stopping))"
      ],
      "metadata": {
        "colab": {
          "base_uri": "https://localhost:8080/",
          "height": 1000
        },
        "id": "CWYGfQpJ-oEp",
        "outputId": "64438155-291d-4a4d-b49d-46df82b77d8a"
      },
      "execution_count": null,
      "outputs": [
        {
          "output_type": "stream",
          "name": "stdout",
          "text": [
            "Epoch 1/200\n",
            "427/427 [==============================] - 6s 11ms/step - loss: 1.7906 - mae: 1.0201 - val_loss: 0.6744 - val_mae: 0.6574\n",
            "Epoch 2/200\n",
            "427/427 [==============================] - 5s 12ms/step - loss: 0.7426 - mae: 0.6847 - val_loss: 0.7683 - val_mae: 0.6972\n",
            "Epoch 3/200\n",
            "427/427 [==============================] - 6s 14ms/step - loss: 0.6727 - mae: 0.6456 - val_loss: 0.4072 - val_mae: 0.4843\n",
            "Epoch 4/200\n",
            "427/427 [==============================] - 5s 11ms/step - loss: 0.5630 - mae: 0.5827 - val_loss: 0.4964 - val_mae: 0.5450\n",
            "Epoch 5/200\n",
            "427/427 [==============================] - 6s 13ms/step - loss: 0.5207 - mae: 0.5557 - val_loss: 0.6415 - val_mae: 0.5960\n",
            "Epoch 6/200\n",
            "427/427 [==============================] - 8s 19ms/step - loss: 0.4928 - mae: 0.5392 - val_loss: 0.3309 - val_mae: 0.4185\n",
            "Epoch 7/200\n",
            "427/427 [==============================] - 5s 11ms/step - loss: 0.4634 - mae: 0.5190 - val_loss: 0.4606 - val_mae: 0.5311\n",
            "Epoch 8/200\n",
            "427/427 [==============================] - 7s 15ms/step - loss: 0.4426 - mae: 0.5049 - val_loss: 0.4349 - val_mae: 0.5065\n",
            "Epoch 9/200\n",
            "427/427 [==============================] - 5s 11ms/step - loss: 0.4191 - mae: 0.4897 - val_loss: 0.5394 - val_mae: 0.5825\n",
            "Epoch 10/200\n",
            "427/427 [==============================] - 4s 10ms/step - loss: 0.4042 - mae: 0.4774 - val_loss: 0.3684 - val_mae: 0.4442\n",
            "Epoch 11/200\n",
            "427/427 [==============================] - 7s 16ms/step - loss: 0.4118 - mae: 0.4831 - val_loss: 0.2731 - val_mae: 0.3685\n",
            "Epoch 12/200\n",
            "427/427 [==============================] - 4s 10ms/step - loss: 0.3765 - mae: 0.4582 - val_loss: 0.2750 - val_mae: 0.3777\n",
            "Epoch 13/200\n",
            "427/427 [==============================] - 5s 11ms/step - loss: 0.3657 - mae: 0.4498 - val_loss: 0.2691 - val_mae: 0.3629\n",
            "Epoch 14/200\n",
            "427/427 [==============================] - 7s 17ms/step - loss: 0.3510 - mae: 0.4382 - val_loss: 0.8350 - val_mae: 0.7174\n",
            "Epoch 15/200\n",
            "427/427 [==============================] - 5s 11ms/step - loss: 0.4190 - mae: 0.4830 - val_loss: 0.3165 - val_mae: 0.4243\n",
            "Epoch 16/200\n",
            "427/427 [==============================] - 5s 11ms/step - loss: 0.3421 - mae: 0.4309 - val_loss: 0.2954 - val_mae: 0.3617\n",
            "Epoch 17/200\n",
            "427/427 [==============================] - 7s 16ms/step - loss: 0.3387 - mae: 0.4273 - val_loss: 0.2907 - val_mae: 0.3776\n",
            "Epoch 18/200\n",
            "427/427 [==============================] - 5s 11ms/step - loss: 0.3211 - mae: 0.4116 - val_loss: 0.3109 - val_mae: 0.4050\n",
            "Epoch 19/200\n",
            "427/427 [==============================] - 5s 11ms/step - loss: 0.3099 - mae: 0.4018 - val_loss: 0.2643 - val_mae: 0.3514\n",
            "Epoch 20/200\n",
            "427/427 [==============================] - 9s 20ms/step - loss: 0.2998 - mae: 0.3947 - val_loss: 0.2850 - val_mae: 0.3587\n",
            "Epoch 21/200\n",
            "427/427 [==============================] - 5s 11ms/step - loss: 0.2964 - mae: 0.3895 - val_loss: 0.4501 - val_mae: 0.4419\n",
            "Epoch 22/200\n",
            "427/427 [==============================] - 5s 11ms/step - loss: 0.3112 - mae: 0.3995 - val_loss: 0.2211 - val_mae: 0.3126\n",
            "Epoch 23/200\n",
            "427/427 [==============================] - 8s 19ms/step - loss: 0.2722 - mae: 0.3696 - val_loss: 0.2914 - val_mae: 0.4035\n",
            "Epoch 24/200\n",
            "427/427 [==============================] - 5s 13ms/step - loss: 0.2835 - mae: 0.3728 - val_loss: 0.2204 - val_mae: 0.3063\n",
            "Epoch 25/200\n",
            "427/427 [==============================] - 6s 14ms/step - loss: 0.2619 - mae: 0.3574 - val_loss: 0.3793 - val_mae: 0.4867\n",
            "Epoch 26/200\n",
            "427/427 [==============================] - 5s 12ms/step - loss: 0.2669 - mae: 0.3612 - val_loss: 0.3621 - val_mae: 0.4516\n",
            "Epoch 27/200\n",
            "427/427 [==============================] - 5s 11ms/step - loss: 0.2754 - mae: 0.3696 - val_loss: 0.2188 - val_mae: 0.2930\n",
            "Epoch 28/200\n",
            "427/427 [==============================] - 7s 15ms/step - loss: 0.2504 - mae: 0.3457 - val_loss: 0.2088 - val_mae: 0.3052\n",
            "Epoch 29/200\n",
            "427/427 [==============================] - 5s 11ms/step - loss: 0.2485 - mae: 0.3410 - val_loss: 0.2089 - val_mae: 0.2930\n",
            "Epoch 30/200\n",
            "427/427 [==============================] - 4s 10ms/step - loss: 0.2346 - mae: 0.3291 - val_loss: 0.2500 - val_mae: 0.3360\n",
            "Epoch 31/200\n",
            "427/427 [==============================] - 7s 16ms/step - loss: 0.2334 - mae: 0.3260 - val_loss: 0.1978 - val_mae: 0.2901\n",
            "Epoch 32/200\n",
            "427/427 [==============================] - 5s 11ms/step - loss: 0.2235 - mae: 0.3186 - val_loss: 0.2025 - val_mae: 0.2890\n",
            "Epoch 33/200\n",
            "427/427 [==============================] - 6s 15ms/step - loss: 0.2200 - mae: 0.3148 - val_loss: 0.1954 - val_mae: 0.2617\n",
            "Epoch 34/200\n",
            "427/427 [==============================] - 6s 15ms/step - loss: 0.2239 - mae: 0.3141 - val_loss: 0.1926 - val_mae: 0.3023\n",
            "Epoch 35/200\n",
            "427/427 [==============================] - 5s 12ms/step - loss: 0.2125 - mae: 0.3053 - val_loss: 0.2581 - val_mae: 0.3420\n",
            "Epoch 36/200\n",
            "427/427 [==============================] - 5s 13ms/step - loss: 0.2121 - mae: 0.3065 - val_loss: 0.1836 - val_mae: 0.2669\n",
            "Epoch 37/200\n",
            "427/427 [==============================] - 6s 14ms/step - loss: 0.2119 - mae: 0.3012 - val_loss: 0.1948 - val_mae: 0.2632\n",
            "Epoch 38/200\n",
            "427/427 [==============================] - 5s 11ms/step - loss: 0.2026 - mae: 0.2943 - val_loss: 0.1730 - val_mae: 0.2325\n",
            "Epoch 39/200\n",
            "427/427 [==============================] - 6s 14ms/step - loss: 0.2032 - mae: 0.2950 - val_loss: 0.1641 - val_mae: 0.2416\n",
            "Epoch 40/200\n",
            "427/427 [==============================] - 5s 12ms/step - loss: 0.1912 - mae: 0.2843 - val_loss: 0.1567 - val_mae: 0.2303\n",
            "Epoch 41/200\n",
            "427/427 [==============================] - 5s 11ms/step - loss: 0.1924 - mae: 0.2842 - val_loss: 0.1579 - val_mae: 0.2391\n",
            "Epoch 42/200\n",
            "427/427 [==============================] - 6s 15ms/step - loss: 0.1859 - mae: 0.2786 - val_loss: 0.1434 - val_mae: 0.2114\n",
            "Epoch 43/200\n",
            "427/427 [==============================] - 5s 11ms/step - loss: 0.1911 - mae: 0.2784 - val_loss: 0.1727 - val_mae: 0.2620\n",
            "Epoch 44/200\n",
            "427/427 [==============================] - 5s 11ms/step - loss: 0.1874 - mae: 0.2770 - val_loss: 0.1673 - val_mae: 0.2275\n",
            "Epoch 45/200\n",
            "427/427 [==============================] - 7s 16ms/step - loss: 0.1907 - mae: 0.2785 - val_loss: 0.2052 - val_mae: 0.2919\n",
            "Epoch 46/200\n",
            "427/427 [==============================] - 5s 12ms/step - loss: 0.1752 - mae: 0.2669 - val_loss: 0.1401 - val_mae: 0.2056\n",
            "Epoch 47/200\n",
            "427/427 [==============================] - 10s 24ms/step - loss: 0.1801 - mae: 0.2671 - val_loss: 0.1644 - val_mae: 0.2572\n",
            "Epoch 48/200\n",
            "427/427 [==============================] - 10s 24ms/step - loss: 0.1759 - mae: 0.2652 - val_loss: 0.1526 - val_mae: 0.2210\n",
            "Epoch 49/200\n",
            "427/427 [==============================] - 13s 30ms/step - loss: 0.1697 - mae: 0.2600 - val_loss: 0.1642 - val_mae: 0.2242\n",
            "Epoch 50/200\n",
            "427/427 [==============================] - 5s 11ms/step - loss: 0.1667 - mae: 0.2566 - val_loss: 0.1495 - val_mae: 0.2157\n",
            "Epoch 51/200\n",
            "427/427 [==============================] - 8s 19ms/step - loss: 0.1710 - mae: 0.2590 - val_loss: 0.1435 - val_mae: 0.2109\n",
            "Epoch 52/200\n",
            "427/427 [==============================] - 8s 19ms/step - loss: 0.1710 - mae: 0.2592 - val_loss: 0.1413 - val_mae: 0.1979\n",
            "Epoch 53/200\n",
            "427/427 [==============================] - 11s 25ms/step - loss: 0.1662 - mae: 0.2528 - val_loss: 0.1790 - val_mae: 0.2136\n",
            "Epoch 54/200\n",
            "427/427 [==============================] - 7s 15ms/step - loss: 0.1700 - mae: 0.2551 - val_loss: 0.1435 - val_mae: 0.2110\n",
            "Epoch 55/200\n",
            "427/427 [==============================] - 10s 23ms/step - loss: 0.1620 - mae: 0.2477 - val_loss: 0.1454 - val_mae: 0.2038\n",
            "Epoch 56/200\n",
            "427/427 [==============================] - 8s 18ms/step - loss: 0.1592 - mae: 0.2482 - val_loss: 0.1418 - val_mae: 0.2002\n",
            "Epoch 57/200\n",
            "427/427 [==============================] - 9s 20ms/step - loss: 0.1585 - mae: 0.2452 - val_loss: 0.2060 - val_mae: 0.2269\n",
            "Epoch 58/200\n",
            "427/427 [==============================] - 7s 16ms/step - loss: 0.1538 - mae: 0.2415 - val_loss: 0.1341 - val_mae: 0.1922\n",
            "Epoch 59/200\n",
            "427/427 [==============================] - 7s 16ms/step - loss: 0.1585 - mae: 0.2445 - val_loss: 0.1583 - val_mae: 0.2148\n",
            "Epoch 60/200\n",
            "427/427 [==============================] - 5s 11ms/step - loss: 0.1774 - mae: 0.2664 - val_loss: 0.5936 - val_mae: 0.4013\n",
            "Epoch 61/200\n",
            "427/427 [==============================] - 5s 12ms/step - loss: 0.3268 - mae: 0.3749 - val_loss: 0.1671 - val_mae: 0.2245\n",
            "Epoch 62/200\n",
            "168/427 [==========>...................] - ETA: 4s - loss: 0.2065 - mae: 0.2888"
          ]
        },
        {
          "output_type": "error",
          "ename": "KeyboardInterrupt",
          "evalue": "",
          "traceback": [
            "\u001b[0;31m---------------------------------------------------------------------------\u001b[0m",
            "\u001b[0;31mKeyboardInterrupt\u001b[0m                         Traceback (most recent call last)",
            "\u001b[0;32m<ipython-input-77-85de43b7eae1>\u001b[0m in \u001b[0;36m<cell line: 4>\u001b[0;34m()\u001b[0m\n\u001b[1;32m      2\u001b[0m \u001b[0;34m\u001b[0m\u001b[0m\n\u001b[1;32m      3\u001b[0m \u001b[0;31m# fit\u001b[0m\u001b[0;34m\u001b[0m\u001b[0;34m\u001b[0m\u001b[0m\n\u001b[0;32m----> 4\u001b[0;31m history = dnn_model.fit(X_train, y_train,\n\u001b[0m\u001b[1;32m      5\u001b[0m                       \u001b[0mbatch_size\u001b[0m\u001b[0;34m=\u001b[0m\u001b[0;36m100\u001b[0m\u001b[0;34m,\u001b[0m\u001b[0;34m\u001b[0m\u001b[0;34m\u001b[0m\u001b[0m\n\u001b[1;32m      6\u001b[0m                       \u001b[0mepochs\u001b[0m\u001b[0;34m=\u001b[0m\u001b[0;36m200\u001b[0m\u001b[0;34m,\u001b[0m\u001b[0;34m\u001b[0m\u001b[0;34m\u001b[0m\u001b[0m\n",
            "\u001b[0;32m/usr/local/lib/python3.10/dist-packages/keras/src/utils/traceback_utils.py\u001b[0m in \u001b[0;36merror_handler\u001b[0;34m(*args, **kwargs)\u001b[0m\n\u001b[1;32m     63\u001b[0m \u001b[0;34m\u001b[0m\u001b[0m\n\u001b[1;32m     64\u001b[0m     \u001b[0mRaw\u001b[0m \u001b[0mKeras\u001b[0m \u001b[0mtracebacks\u001b[0m \u001b[0;34m(\u001b[0m\u001b[0malso\u001b[0m \u001b[0mknown\u001b[0m \u001b[0;32mas\u001b[0m \u001b[0mstack\u001b[0m \u001b[0mtraces\u001b[0m\u001b[0;34m)\u001b[0m\u001b[0;34m\u001b[0m\u001b[0;34m\u001b[0m\u001b[0m\n\u001b[0;32m---> 65\u001b[0;31m     \u001b[0minvolve\u001b[0m \u001b[0mmany\u001b[0m \u001b[0minternal\u001b[0m \u001b[0mframes\u001b[0m\u001b[0;34m,\u001b[0m \u001b[0mwhich\u001b[0m \u001b[0mcan\u001b[0m \u001b[0mbe\u001b[0m\u001b[0;34m\u001b[0m\u001b[0;34m\u001b[0m\u001b[0m\n\u001b[0m\u001b[1;32m     66\u001b[0m     \u001b[0mchallenging\u001b[0m \u001b[0mto\u001b[0m \u001b[0mread\u001b[0m \u001b[0mthrough\u001b[0m\u001b[0;34m,\u001b[0m \u001b[0;32mwhile\u001b[0m \u001b[0;32mnot\u001b[0m \u001b[0mbeing\u001b[0m \u001b[0mactionable\u001b[0m \u001b[0;32mfor\u001b[0m \u001b[0mend\u001b[0m \u001b[0musers\u001b[0m\u001b[0;34m.\u001b[0m\u001b[0;34m\u001b[0m\u001b[0;34m\u001b[0m\u001b[0m\n\u001b[1;32m     67\u001b[0m     \u001b[0mBy\u001b[0m \u001b[0mdefault\u001b[0m\u001b[0;34m,\u001b[0m \u001b[0mKeras\u001b[0m \u001b[0mfilters\u001b[0m \u001b[0minternal\u001b[0m \u001b[0mframes\u001b[0m \u001b[0;32min\u001b[0m \u001b[0mmost\u001b[0m \u001b[0mexceptions\u001b[0m \u001b[0mthat\u001b[0m \u001b[0mit\u001b[0m\u001b[0;34m\u001b[0m\u001b[0;34m\u001b[0m\u001b[0m\n",
            "\u001b[0;32m/usr/local/lib/python3.10/dist-packages/keras/src/engine/training.py\u001b[0m in \u001b[0;36mfit\u001b[0;34m(self, x, y, batch_size, epochs, verbose, callbacks, validation_split, validation_data, shuffle, class_weight, sample_weight, initial_epoch, steps_per_epoch, validation_steps, validation_batch_size, validation_freq, max_queue_size, workers, use_multiprocessing)\u001b[0m\n",
            "\u001b[0;32m/usr/local/lib/python3.10/dist-packages/tensorflow/python/util/traceback_utils.py\u001b[0m in \u001b[0;36merror_handler\u001b[0;34m(*args, **kwargs)\u001b[0m\n\u001b[1;32m    148\u001b[0m     \u001b[0mfiltered_tb\u001b[0m \u001b[0;34m=\u001b[0m \u001b[0;32mNone\u001b[0m\u001b[0;34m\u001b[0m\u001b[0;34m\u001b[0m\u001b[0m\n\u001b[1;32m    149\u001b[0m     \u001b[0;32mtry\u001b[0m\u001b[0;34m:\u001b[0m\u001b[0;34m\u001b[0m\u001b[0;34m\u001b[0m\u001b[0m\n\u001b[0;32m--> 150\u001b[0;31m       \u001b[0;32mreturn\u001b[0m \u001b[0mfn\u001b[0m\u001b[0;34m(\u001b[0m\u001b[0;34m*\u001b[0m\u001b[0margs\u001b[0m\u001b[0;34m,\u001b[0m \u001b[0;34m**\u001b[0m\u001b[0mkwargs\u001b[0m\u001b[0;34m)\u001b[0m\u001b[0;34m\u001b[0m\u001b[0;34m\u001b[0m\u001b[0m\n\u001b[0m\u001b[1;32m    151\u001b[0m     \u001b[0;32mexcept\u001b[0m \u001b[0mException\u001b[0m \u001b[0;32mas\u001b[0m \u001b[0me\u001b[0m\u001b[0;34m:\u001b[0m\u001b[0;34m\u001b[0m\u001b[0;34m\u001b[0m\u001b[0m\n\u001b[1;32m    152\u001b[0m       \u001b[0mfiltered_tb\u001b[0m \u001b[0;34m=\u001b[0m \u001b[0m_process_traceback_frames\u001b[0m\u001b[0;34m(\u001b[0m\u001b[0me\u001b[0m\u001b[0;34m.\u001b[0m\u001b[0m__traceback__\u001b[0m\u001b[0;34m)\u001b[0m\u001b[0;34m\u001b[0m\u001b[0;34m\u001b[0m\u001b[0m\n",
            "\u001b[0;32m/usr/local/lib/python3.10/dist-packages/tensorflow/python/eager/polymorphic_function/polymorphic_function.py\u001b[0m in \u001b[0;36m__call__\u001b[0;34m(self, *args, **kwds)\u001b[0m\n\u001b[1;32m    830\u001b[0m \u001b[0;34m\u001b[0m\u001b[0m\n\u001b[1;32m    831\u001b[0m       \u001b[0;32mwith\u001b[0m \u001b[0mOptionalXlaContext\u001b[0m\u001b[0;34m(\u001b[0m\u001b[0mself\u001b[0m\u001b[0;34m.\u001b[0m\u001b[0m_jit_compile\u001b[0m\u001b[0;34m)\u001b[0m\u001b[0;34m:\u001b[0m\u001b[0;34m\u001b[0m\u001b[0;34m\u001b[0m\u001b[0m\n\u001b[0;32m--> 832\u001b[0;31m         \u001b[0mresult\u001b[0m \u001b[0;34m=\u001b[0m \u001b[0mself\u001b[0m\u001b[0;34m.\u001b[0m\u001b[0m_call\u001b[0m\u001b[0;34m(\u001b[0m\u001b[0;34m*\u001b[0m\u001b[0margs\u001b[0m\u001b[0;34m,\u001b[0m \u001b[0;34m**\u001b[0m\u001b[0mkwds\u001b[0m\u001b[0;34m)\u001b[0m\u001b[0;34m\u001b[0m\u001b[0;34m\u001b[0m\u001b[0m\n\u001b[0m\u001b[1;32m    833\u001b[0m \u001b[0;34m\u001b[0m\u001b[0m\n\u001b[1;32m    834\u001b[0m       \u001b[0mnew_tracing_count\u001b[0m \u001b[0;34m=\u001b[0m \u001b[0mself\u001b[0m\u001b[0;34m.\u001b[0m\u001b[0mexperimental_get_tracing_count\u001b[0m\u001b[0;34m(\u001b[0m\u001b[0;34m)\u001b[0m\u001b[0;34m\u001b[0m\u001b[0;34m\u001b[0m\u001b[0m\n",
            "\u001b[0;32m/usr/local/lib/python3.10/dist-packages/tensorflow/python/eager/polymorphic_function/polymorphic_function.py\u001b[0m in \u001b[0;36m_call\u001b[0;34m(self, *args, **kwds)\u001b[0m\n\u001b[1;32m    866\u001b[0m       \u001b[0;31m# In this case we have created variables on the first call, so we run the\u001b[0m\u001b[0;34m\u001b[0m\u001b[0;34m\u001b[0m\u001b[0m\n\u001b[1;32m    867\u001b[0m       \u001b[0;31m# defunned version which is guaranteed to never create variables.\u001b[0m\u001b[0;34m\u001b[0m\u001b[0;34m\u001b[0m\u001b[0m\n\u001b[0;32m--> 868\u001b[0;31m       return tracing_compilation.call_function(\n\u001b[0m\u001b[1;32m    869\u001b[0m           \u001b[0margs\u001b[0m\u001b[0;34m,\u001b[0m \u001b[0mkwds\u001b[0m\u001b[0;34m,\u001b[0m \u001b[0mself\u001b[0m\u001b[0;34m.\u001b[0m\u001b[0m_no_variable_creation_config\u001b[0m\u001b[0;34m\u001b[0m\u001b[0;34m\u001b[0m\u001b[0m\n\u001b[1;32m    870\u001b[0m       )\n",
            "\u001b[0;32m/usr/local/lib/python3.10/dist-packages/tensorflow/python/eager/polymorphic_function/tracing_compilation.py\u001b[0m in \u001b[0;36mcall_function\u001b[0;34m(args, kwargs, tracing_options)\u001b[0m\n\u001b[1;32m    137\u001b[0m   \u001b[0mbound_args\u001b[0m \u001b[0;34m=\u001b[0m \u001b[0mfunction\u001b[0m\u001b[0;34m.\u001b[0m\u001b[0mfunction_type\u001b[0m\u001b[0;34m.\u001b[0m\u001b[0mbind\u001b[0m\u001b[0;34m(\u001b[0m\u001b[0;34m*\u001b[0m\u001b[0margs\u001b[0m\u001b[0;34m,\u001b[0m \u001b[0;34m**\u001b[0m\u001b[0mkwargs\u001b[0m\u001b[0;34m)\u001b[0m\u001b[0;34m\u001b[0m\u001b[0;34m\u001b[0m\u001b[0m\n\u001b[1;32m    138\u001b[0m   \u001b[0mflat_inputs\u001b[0m \u001b[0;34m=\u001b[0m \u001b[0mfunction\u001b[0m\u001b[0;34m.\u001b[0m\u001b[0mfunction_type\u001b[0m\u001b[0;34m.\u001b[0m\u001b[0munpack_inputs\u001b[0m\u001b[0;34m(\u001b[0m\u001b[0mbound_args\u001b[0m\u001b[0;34m)\u001b[0m\u001b[0;34m\u001b[0m\u001b[0;34m\u001b[0m\u001b[0m\n\u001b[0;32m--> 139\u001b[0;31m   return function._call_flat(  # pylint: disable=protected-access\n\u001b[0m\u001b[1;32m    140\u001b[0m       \u001b[0mflat_inputs\u001b[0m\u001b[0;34m,\u001b[0m \u001b[0mcaptured_inputs\u001b[0m\u001b[0;34m=\u001b[0m\u001b[0mfunction\u001b[0m\u001b[0;34m.\u001b[0m\u001b[0mcaptured_inputs\u001b[0m\u001b[0;34m\u001b[0m\u001b[0;34m\u001b[0m\u001b[0m\n\u001b[1;32m    141\u001b[0m   )\n",
            "\u001b[0;32m/usr/local/lib/python3.10/dist-packages/tensorflow/python/eager/polymorphic_function/concrete_function.py\u001b[0m in \u001b[0;36m_call_flat\u001b[0;34m(self, tensor_inputs, captured_inputs)\u001b[0m\n\u001b[1;32m   1321\u001b[0m         and executing_eagerly):\n\u001b[1;32m   1322\u001b[0m       \u001b[0;31m# No tape is watching; skip to running the function.\u001b[0m\u001b[0;34m\u001b[0m\u001b[0;34m\u001b[0m\u001b[0m\n\u001b[0;32m-> 1323\u001b[0;31m       \u001b[0;32mreturn\u001b[0m \u001b[0mself\u001b[0m\u001b[0;34m.\u001b[0m\u001b[0m_inference_function\u001b[0m\u001b[0;34m.\u001b[0m\u001b[0mcall_preflattened\u001b[0m\u001b[0;34m(\u001b[0m\u001b[0margs\u001b[0m\u001b[0;34m)\u001b[0m\u001b[0;34m\u001b[0m\u001b[0;34m\u001b[0m\u001b[0m\n\u001b[0m\u001b[1;32m   1324\u001b[0m     forward_backward = self._select_forward_and_backward_functions(\n\u001b[1;32m   1325\u001b[0m         \u001b[0margs\u001b[0m\u001b[0;34m,\u001b[0m\u001b[0;34m\u001b[0m\u001b[0;34m\u001b[0m\u001b[0m\n",
            "\u001b[0;32m/usr/local/lib/python3.10/dist-packages/tensorflow/python/eager/polymorphic_function/atomic_function.py\u001b[0m in \u001b[0;36mcall_preflattened\u001b[0;34m(self, args)\u001b[0m\n\u001b[1;32m    214\u001b[0m   \u001b[0;32mdef\u001b[0m \u001b[0mcall_preflattened\u001b[0m\u001b[0;34m(\u001b[0m\u001b[0mself\u001b[0m\u001b[0;34m,\u001b[0m \u001b[0margs\u001b[0m\u001b[0;34m:\u001b[0m \u001b[0mSequence\u001b[0m\u001b[0;34m[\u001b[0m\u001b[0mcore\u001b[0m\u001b[0;34m.\u001b[0m\u001b[0mTensor\u001b[0m\u001b[0;34m]\u001b[0m\u001b[0;34m)\u001b[0m \u001b[0;34m->\u001b[0m \u001b[0mAny\u001b[0m\u001b[0;34m:\u001b[0m\u001b[0;34m\u001b[0m\u001b[0;34m\u001b[0m\u001b[0m\n\u001b[1;32m    215\u001b[0m     \u001b[0;34m\"\"\"Calls with flattened tensor inputs and returns the structured output.\"\"\"\u001b[0m\u001b[0;34m\u001b[0m\u001b[0;34m\u001b[0m\u001b[0m\n\u001b[0;32m--> 216\u001b[0;31m     \u001b[0mflat_outputs\u001b[0m \u001b[0;34m=\u001b[0m \u001b[0mself\u001b[0m\u001b[0;34m.\u001b[0m\u001b[0mcall_flat\u001b[0m\u001b[0;34m(\u001b[0m\u001b[0;34m*\u001b[0m\u001b[0margs\u001b[0m\u001b[0;34m)\u001b[0m\u001b[0;34m\u001b[0m\u001b[0;34m\u001b[0m\u001b[0m\n\u001b[0m\u001b[1;32m    217\u001b[0m     \u001b[0;32mreturn\u001b[0m \u001b[0mself\u001b[0m\u001b[0;34m.\u001b[0m\u001b[0mfunction_type\u001b[0m\u001b[0;34m.\u001b[0m\u001b[0mpack_output\u001b[0m\u001b[0;34m(\u001b[0m\u001b[0mflat_outputs\u001b[0m\u001b[0;34m)\u001b[0m\u001b[0;34m\u001b[0m\u001b[0;34m\u001b[0m\u001b[0m\n\u001b[1;32m    218\u001b[0m \u001b[0;34m\u001b[0m\u001b[0m\n",
            "\u001b[0;32m/usr/local/lib/python3.10/dist-packages/tensorflow/python/eager/polymorphic_function/atomic_function.py\u001b[0m in \u001b[0;36mcall_flat\u001b[0;34m(self, *args)\u001b[0m\n\u001b[1;32m    249\u001b[0m         \u001b[0;32mwith\u001b[0m \u001b[0mrecord\u001b[0m\u001b[0;34m.\u001b[0m\u001b[0mstop_recording\u001b[0m\u001b[0;34m(\u001b[0m\u001b[0;34m)\u001b[0m\u001b[0;34m:\u001b[0m\u001b[0;34m\u001b[0m\u001b[0;34m\u001b[0m\u001b[0m\n\u001b[1;32m    250\u001b[0m           \u001b[0;32mif\u001b[0m \u001b[0mself\u001b[0m\u001b[0;34m.\u001b[0m\u001b[0m_bound_context\u001b[0m\u001b[0;34m.\u001b[0m\u001b[0mexecuting_eagerly\u001b[0m\u001b[0;34m(\u001b[0m\u001b[0;34m)\u001b[0m\u001b[0;34m:\u001b[0m\u001b[0;34m\u001b[0m\u001b[0;34m\u001b[0m\u001b[0m\n\u001b[0;32m--> 251\u001b[0;31m             outputs = self._bound_context.call_function(\n\u001b[0m\u001b[1;32m    252\u001b[0m                 \u001b[0mself\u001b[0m\u001b[0;34m.\u001b[0m\u001b[0mname\u001b[0m\u001b[0;34m,\u001b[0m\u001b[0;34m\u001b[0m\u001b[0;34m\u001b[0m\u001b[0m\n\u001b[1;32m    253\u001b[0m                 \u001b[0mlist\u001b[0m\u001b[0;34m(\u001b[0m\u001b[0margs\u001b[0m\u001b[0;34m)\u001b[0m\u001b[0;34m,\u001b[0m\u001b[0;34m\u001b[0m\u001b[0;34m\u001b[0m\u001b[0m\n",
            "\u001b[0;32m/usr/local/lib/python3.10/dist-packages/tensorflow/python/eager/context.py\u001b[0m in \u001b[0;36mcall_function\u001b[0;34m(self, name, tensor_inputs, num_outputs)\u001b[0m\n\u001b[1;32m   1484\u001b[0m     \u001b[0mcancellation_context\u001b[0m \u001b[0;34m=\u001b[0m \u001b[0mcancellation\u001b[0m\u001b[0;34m.\u001b[0m\u001b[0mcontext\u001b[0m\u001b[0;34m(\u001b[0m\u001b[0;34m)\u001b[0m\u001b[0;34m\u001b[0m\u001b[0;34m\u001b[0m\u001b[0m\n\u001b[1;32m   1485\u001b[0m     \u001b[0;32mif\u001b[0m \u001b[0mcancellation_context\u001b[0m \u001b[0;32mis\u001b[0m \u001b[0;32mNone\u001b[0m\u001b[0;34m:\u001b[0m\u001b[0;34m\u001b[0m\u001b[0;34m\u001b[0m\u001b[0m\n\u001b[0;32m-> 1486\u001b[0;31m       outputs = execute.execute(\n\u001b[0m\u001b[1;32m   1487\u001b[0m           \u001b[0mname\u001b[0m\u001b[0;34m.\u001b[0m\u001b[0mdecode\u001b[0m\u001b[0;34m(\u001b[0m\u001b[0;34m\"utf-8\"\u001b[0m\u001b[0;34m)\u001b[0m\u001b[0;34m,\u001b[0m\u001b[0;34m\u001b[0m\u001b[0;34m\u001b[0m\u001b[0m\n\u001b[1;32m   1488\u001b[0m           \u001b[0mnum_outputs\u001b[0m\u001b[0;34m=\u001b[0m\u001b[0mnum_outputs\u001b[0m\u001b[0;34m,\u001b[0m\u001b[0;34m\u001b[0m\u001b[0;34m\u001b[0m\u001b[0m\n",
            "\u001b[0;32m/usr/local/lib/python3.10/dist-packages/tensorflow/python/eager/execute.py\u001b[0m in \u001b[0;36mquick_execute\u001b[0;34m(op_name, num_outputs, inputs, attrs, ctx, name)\u001b[0m\n\u001b[1;32m     51\u001b[0m   \u001b[0;32mtry\u001b[0m\u001b[0;34m:\u001b[0m\u001b[0;34m\u001b[0m\u001b[0;34m\u001b[0m\u001b[0m\n\u001b[1;32m     52\u001b[0m     \u001b[0mctx\u001b[0m\u001b[0;34m.\u001b[0m\u001b[0mensure_initialized\u001b[0m\u001b[0;34m(\u001b[0m\u001b[0;34m)\u001b[0m\u001b[0;34m\u001b[0m\u001b[0;34m\u001b[0m\u001b[0m\n\u001b[0;32m---> 53\u001b[0;31m     tensors = pywrap_tfe.TFE_Py_Execute(ctx._handle, device_name, op_name,\n\u001b[0m\u001b[1;32m     54\u001b[0m                                         inputs, attrs, num_outputs)\n\u001b[1;32m     55\u001b[0m   \u001b[0;32mexcept\u001b[0m \u001b[0mcore\u001b[0m\u001b[0;34m.\u001b[0m\u001b[0m_NotOkStatusException\u001b[0m \u001b[0;32mas\u001b[0m \u001b[0me\u001b[0m\u001b[0;34m:\u001b[0m\u001b[0;34m\u001b[0m\u001b[0;34m\u001b[0m\u001b[0m\n",
            "\u001b[0;31mKeyboardInterrupt\u001b[0m: "
          ]
        }
      ]
    },
    {
      "cell_type": "code",
      "source": [
        "y_pred = dnn_model.predict(X_test)\n",
        "\n",
        " # Calculate Mean Squared Error\n",
        "mse = mean_squared_error(y_test, y_pred)\n",
        "\n",
        "# Calculate Mean Absolute Error\n",
        "mae = mean_absolute_error(y_test, y_pred)\n",
        "\n",
        "print(\"Mean Squared Error:\", mse)\n",
        "print(\"Mean Absolute Error:\", mae)"
      ],
      "metadata": {
        "colab": {
          "base_uri": "https://localhost:8080/"
        },
        "id": "NIry-uj5AHvO",
        "outputId": "8c72b14d-d102-439c-ecd5-979dbe7adb87"
      },
      "execution_count": null,
      "outputs": [
        {
          "output_type": "stream",
          "name": "stdout",
          "text": [
            "417/417 [==============================] - 1s 2ms/step\n",
            "Mean Squared Error: 0.16858302116054308\n",
            "Mean Absolute Error: 0.23637757815988067\n"
          ]
        }
      ]
    },
    {
      "cell_type": "code",
      "source": [
        "dnn_model.save(\"/content/drive/MyDrive/01.School_related/DoAnChuyenNganh/models/\""
      ],
      "metadata": {
        "id": "zWenE3KoAvBR"
      },
      "execution_count": null,
      "outputs": []
    }
  ]
}